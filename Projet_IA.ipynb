{
  "cells": [
    {
      "cell_type": "markdown",
      "metadata": {
        "id": "LCreWULyO67i"
      },
      "source": [
        "**Chargement des données et premières inspections**"
      ]
    },
    {
      "cell_type": "code",
      "execution_count": 1,
      "metadata": {
        "colab": {
          "base_uri": "https://localhost:8080/",
          "height": 1000
        },
        "id": "S3fPntkMM4VH",
        "outputId": "85e1dba9-d8eb-46c2-f769-b6dd9fd1446e"
      },
      "outputs": [
        {
          "name": "stdout",
          "output_type": "stream",
          "text": [
            "0    2022-10-26T08:17:21.847Z\n",
            "1    2022-10-26T08:17:22.852Z\n",
            "2    2022-10-26T08:17:23.857Z\n",
            "3    2022-10-26T08:17:24.863Z\n",
            "4    2022-10-26T08:17:25.877Z\n",
            "Name: Timestamp, dtype: object\n",
            "Dimensions du dataframe : (7409, 24)\n",
            "\n",
            "\n",
            "10 premières lignes :\n"
          ]
        },
        {
          "data": {
            "application/vnd.google.colaboratory.intrinsic+json": {
              "type": "dataframe",
              "variable_name": "data"
            },
            "text/html": [
              "\n",
              "  <div id=\"df-e16e8608-75b7-438d-9b6d-65a05b464815\" class=\"colab-df-container\">\n",
              "    <div>\n",
              "<style scoped>\n",
              "    .dataframe tbody tr th:only-of-type {\n",
              "        vertical-align: middle;\n",
              "    }\n",
              "\n",
              "    .dataframe tbody tr th {\n",
              "        vertical-align: top;\n",
              "    }\n",
              "\n",
              "    .dataframe thead th {\n",
              "        text-align: right;\n",
              "    }\n",
              "</style>\n",
              "<table border=\"1\" class=\"dataframe\">\n",
              "  <thead>\n",
              "    <tr style=\"text-align: right;\">\n",
              "      <th></th>\n",
              "      <th>Num</th>\n",
              "      <th>Timestamp</th>\n",
              "      <th>Current_J0</th>\n",
              "      <th>Temperature_T0</th>\n",
              "      <th>Current_J1</th>\n",
              "      <th>Temperature_J1</th>\n",
              "      <th>Current_J2</th>\n",
              "      <th>Temperature_J2</th>\n",
              "      <th>Current_J3</th>\n",
              "      <th>Temperature_J3</th>\n",
              "      <th>...</th>\n",
              "      <th>Speed_J0</th>\n",
              "      <th>Speed_J1</th>\n",
              "      <th>Speed_J2</th>\n",
              "      <th>Speed_J3</th>\n",
              "      <th>Speed_J4</th>\n",
              "      <th>Speed_J5</th>\n",
              "      <th>Tool_current</th>\n",
              "      <th>cycle</th>\n",
              "      <th>Robot_ProtectiveStop</th>\n",
              "      <th>grip_lost</th>\n",
              "    </tr>\n",
              "  </thead>\n",
              "  <tbody>\n",
              "    <tr>\n",
              "      <th>0</th>\n",
              "      <td>1</td>\n",
              "      <td>2022-10-26T08:17:21.847Z</td>\n",
              "      <td>0.109628</td>\n",
              "      <td>27.8750</td>\n",
              "      <td>-2.024669</td>\n",
              "      <td>29.3750</td>\n",
              "      <td>-1.531442</td>\n",
              "      <td>29.3750</td>\n",
              "      <td>-0.998570</td>\n",
              "      <td>32.1250</td>\n",
              "      <td>...</td>\n",
              "      <td>2.955651e-01</td>\n",
              "      <td>-0.000490</td>\n",
              "      <td>0.001310</td>\n",
              "      <td>-0.132836</td>\n",
              "      <td>-0.007479</td>\n",
              "      <td>-0.152962</td>\n",
              "      <td>0.082732</td>\n",
              "      <td>1</td>\n",
              "      <td>0.0</td>\n",
              "      <td>False</td>\n",
              "    </tr>\n",
              "    <tr>\n",
              "      <th>1</th>\n",
              "      <td>2</td>\n",
              "      <td>2022-10-26T08:17:22.852Z</td>\n",
              "      <td>0.595605</td>\n",
              "      <td>27.8750</td>\n",
              "      <td>-2.278456</td>\n",
              "      <td>29.3125</td>\n",
              "      <td>-0.866556</td>\n",
              "      <td>29.4375</td>\n",
              "      <td>-0.206097</td>\n",
              "      <td>32.1875</td>\n",
              "      <td>...</td>\n",
              "      <td>-7.391485e-30</td>\n",
              "      <td>-0.000304</td>\n",
              "      <td>0.002185</td>\n",
              "      <td>0.001668</td>\n",
              "      <td>-0.000767</td>\n",
              "      <td>0.000417</td>\n",
              "      <td>0.505895</td>\n",
              "      <td>1</td>\n",
              "      <td>0.0</td>\n",
              "      <td>False</td>\n",
              "    </tr>\n",
              "    <tr>\n",
              "      <th>2</th>\n",
              "      <td>3</td>\n",
              "      <td>2022-10-26T08:17:23.857Z</td>\n",
              "      <td>-0.229474</td>\n",
              "      <td>27.8750</td>\n",
              "      <td>-2.800408</td>\n",
              "      <td>29.3125</td>\n",
              "      <td>-2.304336</td>\n",
              "      <td>29.4375</td>\n",
              "      <td>-0.351499</td>\n",
              "      <td>32.1250</td>\n",
              "      <td>...</td>\n",
              "      <td>1.369386e-01</td>\n",
              "      <td>0.007795</td>\n",
              "      <td>-2.535874</td>\n",
              "      <td>0.379867</td>\n",
              "      <td>0.000455</td>\n",
              "      <td>-0.496856</td>\n",
              "      <td>0.079420</td>\n",
              "      <td>1</td>\n",
              "      <td>0.0</td>\n",
              "      <td>False</td>\n",
              "    </tr>\n",
              "    <tr>\n",
              "      <th>3</th>\n",
              "      <td>4</td>\n",
              "      <td>2022-10-26T08:17:24.863Z</td>\n",
              "      <td>0.065053</td>\n",
              "      <td>27.8750</td>\n",
              "      <td>-3.687768</td>\n",
              "      <td>29.3125</td>\n",
              "      <td>-1.217652</td>\n",
              "      <td>29.4375</td>\n",
              "      <td>-1.209115</td>\n",
              "      <td>32.1250</td>\n",
              "      <td>...</td>\n",
              "      <td>-9.030032e-02</td>\n",
              "      <td>-0.004911</td>\n",
              "      <td>-0.009096</td>\n",
              "      <td>-0.384196</td>\n",
              "      <td>0.018411</td>\n",
              "      <td>0.425559</td>\n",
              "      <td>0.083325</td>\n",
              "      <td>1</td>\n",
              "      <td>0.0</td>\n",
              "      <td>False</td>\n",
              "    </tr>\n",
              "    <tr>\n",
              "      <th>4</th>\n",
              "      <td>5</td>\n",
              "      <td>2022-10-26T08:17:25.877Z</td>\n",
              "      <td>0.884140</td>\n",
              "      <td>27.8750</td>\n",
              "      <td>-2.938830</td>\n",
              "      <td>29.3750</td>\n",
              "      <td>-1.794076</td>\n",
              "      <td>29.4375</td>\n",
              "      <td>-2.356471</td>\n",
              "      <td>32.1875</td>\n",
              "      <td>...</td>\n",
              "      <td>1.268088e-01</td>\n",
              "      <td>0.005567</td>\n",
              "      <td>0.001138</td>\n",
              "      <td>-0.353284</td>\n",
              "      <td>0.014994</td>\n",
              "      <td>0.180989</td>\n",
              "      <td>0.086379</td>\n",
              "      <td>1</td>\n",
              "      <td>0.0</td>\n",
              "      <td>False</td>\n",
              "    </tr>\n",
              "    <tr>\n",
              "      <th>...</th>\n",
              "      <td>...</td>\n",
              "      <td>...</td>\n",
              "      <td>...</td>\n",
              "      <td>...</td>\n",
              "      <td>...</td>\n",
              "      <td>...</td>\n",
              "      <td>...</td>\n",
              "      <td>...</td>\n",
              "      <td>...</td>\n",
              "      <td>...</td>\n",
              "      <td>...</td>\n",
              "      <td>...</td>\n",
              "      <td>...</td>\n",
              "      <td>...</td>\n",
              "      <td>...</td>\n",
              "      <td>...</td>\n",
              "      <td>...</td>\n",
              "      <td>...</td>\n",
              "      <td>...</td>\n",
              "      <td>...</td>\n",
              "      <td>...</td>\n",
              "    </tr>\n",
              "    <tr>\n",
              "      <th>7404</th>\n",
              "      <td>7405</td>\n",
              "      <td>2022-10-26T15:36:02.555Z</td>\n",
              "      <td>-0.109017</td>\n",
              "      <td>37.1875</td>\n",
              "      <td>-2.261695</td>\n",
              "      <td>40.3125</td>\n",
              "      <td>-1.082678</td>\n",
              "      <td>40.6875</td>\n",
              "      <td>-0.494714</td>\n",
              "      <td>43.3750</td>\n",
              "      <td>...</td>\n",
              "      <td>0.000000e+00</td>\n",
              "      <td>0.000000</td>\n",
              "      <td>0.000000</td>\n",
              "      <td>0.000000</td>\n",
              "      <td>0.000000</td>\n",
              "      <td>0.000000</td>\n",
              "      <td>0.080013</td>\n",
              "      <td>264</td>\n",
              "      <td>0.0</td>\n",
              "      <td>False</td>\n",
              "    </tr>\n",
              "    <tr>\n",
              "      <th>7405</th>\n",
              "      <td>7406</td>\n",
              "      <td>2022-10-26T15:36:03.562Z</td>\n",
              "      <td>-0.098536</td>\n",
              "      <td>37.1875</td>\n",
              "      <td>-2.251992</td>\n",
              "      <td>40.3125</td>\n",
              "      <td>-1.094420</td>\n",
              "      <td>40.6875</td>\n",
              "      <td>-0.515789</td>\n",
              "      <td>43.3750</td>\n",
              "      <td>...</td>\n",
              "      <td>0.000000e+00</td>\n",
              "      <td>0.000000</td>\n",
              "      <td>0.000000</td>\n",
              "      <td>0.000000</td>\n",
              "      <td>0.000000</td>\n",
              "      <td>0.000000</td>\n",
              "      <td>0.078740</td>\n",
              "      <td>264</td>\n",
              "      <td>0.0</td>\n",
              "      <td>False</td>\n",
              "    </tr>\n",
              "    <tr>\n",
              "      <th>7406</th>\n",
              "      <td>7407</td>\n",
              "      <td>2022-10-26T15:36:04.571Z</td>\n",
              "      <td>-0.121100</td>\n",
              "      <td>37.1875</td>\n",
              "      <td>-2.280791</td>\n",
              "      <td>40.2500</td>\n",
              "      <td>-1.121319</td>\n",
              "      <td>40.6875</td>\n",
              "      <td>-0.502406</td>\n",
              "      <td>43.3750</td>\n",
              "      <td>...</td>\n",
              "      <td>0.000000e+00</td>\n",
              "      <td>0.000000</td>\n",
              "      <td>0.000000</td>\n",
              "      <td>0.000000</td>\n",
              "      <td>0.000000</td>\n",
              "      <td>0.000000</td>\n",
              "      <td>0.091471</td>\n",
              "      <td>264</td>\n",
              "      <td>0.0</td>\n",
              "      <td>False</td>\n",
              "    </tr>\n",
              "    <tr>\n",
              "      <th>7407</th>\n",
              "      <td>7408</td>\n",
              "      <td>2022-10-26T15:36:05.572Z</td>\n",
              "      <td>-0.129370</td>\n",
              "      <td>37.1875</td>\n",
              "      <td>-2.269061</td>\n",
              "      <td>40.3125</td>\n",
              "      <td>-1.091610</td>\n",
              "      <td>40.6250</td>\n",
              "      <td>-0.491158</td>\n",
              "      <td>43.3750</td>\n",
              "      <td>...</td>\n",
              "      <td>0.000000e+00</td>\n",
              "      <td>0.000000</td>\n",
              "      <td>0.000000</td>\n",
              "      <td>0.000000</td>\n",
              "      <td>0.000000</td>\n",
              "      <td>0.000000</td>\n",
              "      <td>0.090026</td>\n",
              "      <td>264</td>\n",
              "      <td>0.0</td>\n",
              "      <td>False</td>\n",
              "    </tr>\n",
              "    <tr>\n",
              "      <th>7408</th>\n",
              "      <td>7409</td>\n",
              "      <td>2022-10-26T15:36:06.580Z</td>\n",
              "      <td>-0.134429</td>\n",
              "      <td>37.1250</td>\n",
              "      <td>-2.244449</td>\n",
              "      <td>40.3125</td>\n",
              "      <td>-1.098950</td>\n",
              "      <td>40.6875</td>\n",
              "      <td>-0.502397</td>\n",
              "      <td>43.3750</td>\n",
              "      <td>...</td>\n",
              "      <td>0.000000e+00</td>\n",
              "      <td>0.000000</td>\n",
              "      <td>0.000000</td>\n",
              "      <td>0.000000</td>\n",
              "      <td>0.000000</td>\n",
              "      <td>0.000000</td>\n",
              "      <td>0.089097</td>\n",
              "      <td>264</td>\n",
              "      <td>0.0</td>\n",
              "      <td>False</td>\n",
              "    </tr>\n",
              "  </tbody>\n",
              "</table>\n",
              "<p>7409 rows × 24 columns</p>\n",
              "</div>\n",
              "    <div class=\"colab-df-buttons\">\n",
              "\n",
              "  <div class=\"colab-df-container\">\n",
              "    <button class=\"colab-df-convert\" onclick=\"convertToInteractive('df-e16e8608-75b7-438d-9b6d-65a05b464815')\"\n",
              "            title=\"Convert this dataframe to an interactive table.\"\n",
              "            style=\"display:none;\">\n",
              "\n",
              "  <svg xmlns=\"http://www.w3.org/2000/svg\" height=\"24px\" viewBox=\"0 -960 960 960\">\n",
              "    <path d=\"M120-120v-720h720v720H120Zm60-500h600v-160H180v160Zm220 220h160v-160H400v160Zm0 220h160v-160H400v160ZM180-400h160v-160H180v160Zm440 0h160v-160H620v160ZM180-180h160v-160H180v160Zm440 0h160v-160H620v160Z\"/>\n",
              "  </svg>\n",
              "    </button>\n",
              "\n",
              "  <style>\n",
              "    .colab-df-container {\n",
              "      display:flex;\n",
              "      gap: 12px;\n",
              "    }\n",
              "\n",
              "    .colab-df-convert {\n",
              "      background-color: #E8F0FE;\n",
              "      border: none;\n",
              "      border-radius: 50%;\n",
              "      cursor: pointer;\n",
              "      display: none;\n",
              "      fill: #1967D2;\n",
              "      height: 32px;\n",
              "      padding: 0 0 0 0;\n",
              "      width: 32px;\n",
              "    }\n",
              "\n",
              "    .colab-df-convert:hover {\n",
              "      background-color: #E2EBFA;\n",
              "      box-shadow: 0px 1px 2px rgba(60, 64, 67, 0.3), 0px 1px 3px 1px rgba(60, 64, 67, 0.15);\n",
              "      fill: #174EA6;\n",
              "    }\n",
              "\n",
              "    .colab-df-buttons div {\n",
              "      margin-bottom: 4px;\n",
              "    }\n",
              "\n",
              "    [theme=dark] .colab-df-convert {\n",
              "      background-color: #3B4455;\n",
              "      fill: #D2E3FC;\n",
              "    }\n",
              "\n",
              "    [theme=dark] .colab-df-convert:hover {\n",
              "      background-color: #434B5C;\n",
              "      box-shadow: 0px 1px 3px 1px rgba(0, 0, 0, 0.15);\n",
              "      filter: drop-shadow(0px 1px 2px rgba(0, 0, 0, 0.3));\n",
              "      fill: #FFFFFF;\n",
              "    }\n",
              "  </style>\n",
              "\n",
              "    <script>\n",
              "      const buttonEl =\n",
              "        document.querySelector('#df-e16e8608-75b7-438d-9b6d-65a05b464815 button.colab-df-convert');\n",
              "      buttonEl.style.display =\n",
              "        google.colab.kernel.accessAllowed ? 'block' : 'none';\n",
              "\n",
              "      async function convertToInteractive(key) {\n",
              "        const element = document.querySelector('#df-e16e8608-75b7-438d-9b6d-65a05b464815');\n",
              "        const dataTable =\n",
              "          await google.colab.kernel.invokeFunction('convertToInteractive',\n",
              "                                                    [key], {});\n",
              "        if (!dataTable) return;\n",
              "\n",
              "        const docLinkHtml = 'Like what you see? Visit the ' +\n",
              "          '<a target=\"_blank\" href=https://colab.research.google.com/notebooks/data_table.ipynb>data table notebook</a>'\n",
              "          + ' to learn more about interactive tables.';\n",
              "        element.innerHTML = '';\n",
              "        dataTable['output_type'] = 'display_data';\n",
              "        await google.colab.output.renderOutput(dataTable, element);\n",
              "        const docLink = document.createElement('div');\n",
              "        docLink.innerHTML = docLinkHtml;\n",
              "        element.appendChild(docLink);\n",
              "      }\n",
              "    </script>\n",
              "  </div>\n",
              "\n",
              "\n",
              "<div id=\"df-5b565844-41ef-4b73-915a-9c4e82804a18\">\n",
              "  <button class=\"colab-df-quickchart\" onclick=\"quickchart('df-5b565844-41ef-4b73-915a-9c4e82804a18')\"\n",
              "            title=\"Suggest charts\"\n",
              "            style=\"display:none;\">\n",
              "\n",
              "<svg xmlns=\"http://www.w3.org/2000/svg\" height=\"24px\"viewBox=\"0 0 24 24\"\n",
              "     width=\"24px\">\n",
              "    <g>\n",
              "        <path d=\"M19 3H5c-1.1 0-2 .9-2 2v14c0 1.1.9 2 2 2h14c1.1 0 2-.9 2-2V5c0-1.1-.9-2-2-2zM9 17H7v-7h2v7zm4 0h-2V7h2v10zm4 0h-2v-4h2v4z\"/>\n",
              "    </g>\n",
              "</svg>\n",
              "  </button>\n",
              "\n",
              "<style>\n",
              "  .colab-df-quickchart {\n",
              "      --bg-color: #E8F0FE;\n",
              "      --fill-color: #1967D2;\n",
              "      --hover-bg-color: #E2EBFA;\n",
              "      --hover-fill-color: #174EA6;\n",
              "      --disabled-fill-color: #AAA;\n",
              "      --disabled-bg-color: #DDD;\n",
              "  }\n",
              "\n",
              "  [theme=dark] .colab-df-quickchart {\n",
              "      --bg-color: #3B4455;\n",
              "      --fill-color: #D2E3FC;\n",
              "      --hover-bg-color: #434B5C;\n",
              "      --hover-fill-color: #FFFFFF;\n",
              "      --disabled-bg-color: #3B4455;\n",
              "      --disabled-fill-color: #666;\n",
              "  }\n",
              "\n",
              "  .colab-df-quickchart {\n",
              "    background-color: var(--bg-color);\n",
              "    border: none;\n",
              "    border-radius: 50%;\n",
              "    cursor: pointer;\n",
              "    display: none;\n",
              "    fill: var(--fill-color);\n",
              "    height: 32px;\n",
              "    padding: 0;\n",
              "    width: 32px;\n",
              "  }\n",
              "\n",
              "  .colab-df-quickchart:hover {\n",
              "    background-color: var(--hover-bg-color);\n",
              "    box-shadow: 0 1px 2px rgba(60, 64, 67, 0.3), 0 1px 3px 1px rgba(60, 64, 67, 0.15);\n",
              "    fill: var(--button-hover-fill-color);\n",
              "  }\n",
              "\n",
              "  .colab-df-quickchart-complete:disabled,\n",
              "  .colab-df-quickchart-complete:disabled:hover {\n",
              "    background-color: var(--disabled-bg-color);\n",
              "    fill: var(--disabled-fill-color);\n",
              "    box-shadow: none;\n",
              "  }\n",
              "\n",
              "  .colab-df-spinner {\n",
              "    border: 2px solid var(--fill-color);\n",
              "    border-color: transparent;\n",
              "    border-bottom-color: var(--fill-color);\n",
              "    animation:\n",
              "      spin 1s steps(1) infinite;\n",
              "  }\n",
              "\n",
              "  @keyframes spin {\n",
              "    0% {\n",
              "      border-color: transparent;\n",
              "      border-bottom-color: var(--fill-color);\n",
              "      border-left-color: var(--fill-color);\n",
              "    }\n",
              "    20% {\n",
              "      border-color: transparent;\n",
              "      border-left-color: var(--fill-color);\n",
              "      border-top-color: var(--fill-color);\n",
              "    }\n",
              "    30% {\n",
              "      border-color: transparent;\n",
              "      border-left-color: var(--fill-color);\n",
              "      border-top-color: var(--fill-color);\n",
              "      border-right-color: var(--fill-color);\n",
              "    }\n",
              "    40% {\n",
              "      border-color: transparent;\n",
              "      border-right-color: var(--fill-color);\n",
              "      border-top-color: var(--fill-color);\n",
              "    }\n",
              "    60% {\n",
              "      border-color: transparent;\n",
              "      border-right-color: var(--fill-color);\n",
              "    }\n",
              "    80% {\n",
              "      border-color: transparent;\n",
              "      border-right-color: var(--fill-color);\n",
              "      border-bottom-color: var(--fill-color);\n",
              "    }\n",
              "    90% {\n",
              "      border-color: transparent;\n",
              "      border-bottom-color: var(--fill-color);\n",
              "    }\n",
              "  }\n",
              "</style>\n",
              "\n",
              "  <script>\n",
              "    async function quickchart(key) {\n",
              "      const quickchartButtonEl =\n",
              "        document.querySelector('#' + key + ' button');\n",
              "      quickchartButtonEl.disabled = true;  // To prevent multiple clicks.\n",
              "      quickchartButtonEl.classList.add('colab-df-spinner');\n",
              "      try {\n",
              "        const charts = await google.colab.kernel.invokeFunction(\n",
              "            'suggestCharts', [key], {});\n",
              "      } catch (error) {\n",
              "        console.error('Error during call to suggestCharts:', error);\n",
              "      }\n",
              "      quickchartButtonEl.classList.remove('colab-df-spinner');\n",
              "      quickchartButtonEl.classList.add('colab-df-quickchart-complete');\n",
              "    }\n",
              "    (() => {\n",
              "      let quickchartButtonEl =\n",
              "        document.querySelector('#df-5b565844-41ef-4b73-915a-9c4e82804a18 button');\n",
              "      quickchartButtonEl.style.display =\n",
              "        google.colab.kernel.accessAllowed ? 'block' : 'none';\n",
              "    })();\n",
              "  </script>\n",
              "</div>\n",
              "\n",
              "  <div id=\"id_e7cf47dc-1e79-413d-9d14-b22bbc00294d\">\n",
              "    <style>\n",
              "      .colab-df-generate {\n",
              "        background-color: #E8F0FE;\n",
              "        border: none;\n",
              "        border-radius: 50%;\n",
              "        cursor: pointer;\n",
              "        display: none;\n",
              "        fill: #1967D2;\n",
              "        height: 32px;\n",
              "        padding: 0 0 0 0;\n",
              "        width: 32px;\n",
              "      }\n",
              "\n",
              "      .colab-df-generate:hover {\n",
              "        background-color: #E2EBFA;\n",
              "        box-shadow: 0px 1px 2px rgba(60, 64, 67, 0.3), 0px 1px 3px 1px rgba(60, 64, 67, 0.15);\n",
              "        fill: #174EA6;\n",
              "      }\n",
              "\n",
              "      [theme=dark] .colab-df-generate {\n",
              "        background-color: #3B4455;\n",
              "        fill: #D2E3FC;\n",
              "      }\n",
              "\n",
              "      [theme=dark] .colab-df-generate:hover {\n",
              "        background-color: #434B5C;\n",
              "        box-shadow: 0px 1px 3px 1px rgba(0, 0, 0, 0.15);\n",
              "        filter: drop-shadow(0px 1px 2px rgba(0, 0, 0, 0.3));\n",
              "        fill: #FFFFFF;\n",
              "      }\n",
              "    </style>\n",
              "    <button class=\"colab-df-generate\" onclick=\"generateWithVariable('data')\"\n",
              "            title=\"Generate code using this dataframe.\"\n",
              "            style=\"display:none;\">\n",
              "\n",
              "  <svg xmlns=\"http://www.w3.org/2000/svg\" height=\"24px\"viewBox=\"0 0 24 24\"\n",
              "       width=\"24px\">\n",
              "    <path d=\"M7,19H8.4L18.45,9,17,7.55,7,17.6ZM5,21V16.75L18.45,3.32a2,2,0,0,1,2.83,0l1.4,1.43a1.91,1.91,0,0,1,.58,1.4,1.91,1.91,0,0,1-.58,1.4L9.25,21ZM18.45,9,17,7.55Zm-12,3A5.31,5.31,0,0,0,4.9,8.1,5.31,5.31,0,0,0,1,6.5,5.31,5.31,0,0,0,4.9,4.9,5.31,5.31,0,0,0,6.5,1,5.31,5.31,0,0,0,8.1,4.9,5.31,5.31,0,0,0,12,6.5,5.46,5.46,0,0,0,6.5,12Z\"/>\n",
              "  </svg>\n",
              "    </button>\n",
              "    <script>\n",
              "      (() => {\n",
              "      const buttonEl =\n",
              "        document.querySelector('#id_e7cf47dc-1e79-413d-9d14-b22bbc00294d button.colab-df-generate');\n",
              "      buttonEl.style.display =\n",
              "        google.colab.kernel.accessAllowed ? 'block' : 'none';\n",
              "\n",
              "      buttonEl.onclick = () => {\n",
              "        google.colab.notebook.generateWithVariable('data');\n",
              "      }\n",
              "      })();\n",
              "    </script>\n",
              "  </div>\n",
              "\n",
              "    </div>\n",
              "  </div>\n"
            ],
            "text/plain": [
              "       Num                 Timestamp  Current_J0  Temperature_T0  Current_J1  \\\n",
              "0        1  2022-10-26T08:17:21.847Z    0.109628         27.8750   -2.024669   \n",
              "1        2  2022-10-26T08:17:22.852Z    0.595605         27.8750   -2.278456   \n",
              "2        3  2022-10-26T08:17:23.857Z   -0.229474         27.8750   -2.800408   \n",
              "3        4  2022-10-26T08:17:24.863Z    0.065053         27.8750   -3.687768   \n",
              "4        5  2022-10-26T08:17:25.877Z    0.884140         27.8750   -2.938830   \n",
              "...    ...                       ...         ...             ...         ...   \n",
              "7404  7405  2022-10-26T15:36:02.555Z   -0.109017         37.1875   -2.261695   \n",
              "7405  7406  2022-10-26T15:36:03.562Z   -0.098536         37.1875   -2.251992   \n",
              "7406  7407  2022-10-26T15:36:04.571Z   -0.121100         37.1875   -2.280791   \n",
              "7407  7408  2022-10-26T15:36:05.572Z   -0.129370         37.1875   -2.269061   \n",
              "7408  7409  2022-10-26T15:36:06.580Z   -0.134429         37.1250   -2.244449   \n",
              "\n",
              "      Temperature_J1  Current_J2  Temperature_J2  Current_J3  Temperature_J3  \\\n",
              "0            29.3750   -1.531442         29.3750   -0.998570         32.1250   \n",
              "1            29.3125   -0.866556         29.4375   -0.206097         32.1875   \n",
              "2            29.3125   -2.304336         29.4375   -0.351499         32.1250   \n",
              "3            29.3125   -1.217652         29.4375   -1.209115         32.1250   \n",
              "4            29.3750   -1.794076         29.4375   -2.356471         32.1875   \n",
              "...              ...         ...             ...         ...             ...   \n",
              "7404         40.3125   -1.082678         40.6875   -0.494714         43.3750   \n",
              "7405         40.3125   -1.094420         40.6875   -0.515789         43.3750   \n",
              "7406         40.2500   -1.121319         40.6875   -0.502406         43.3750   \n",
              "7407         40.3125   -1.091610         40.6250   -0.491158         43.3750   \n",
              "7408         40.3125   -1.098950         40.6875   -0.502397         43.3750   \n",
              "\n",
              "      ...      Speed_J0  Speed_J1  Speed_J2  Speed_J3  Speed_J4  Speed_J5  \\\n",
              "0     ...  2.955651e-01 -0.000490  0.001310 -0.132836 -0.007479 -0.152962   \n",
              "1     ... -7.391485e-30 -0.000304  0.002185  0.001668 -0.000767  0.000417   \n",
              "2     ...  1.369386e-01  0.007795 -2.535874  0.379867  0.000455 -0.496856   \n",
              "3     ... -9.030032e-02 -0.004911 -0.009096 -0.384196  0.018411  0.425559   \n",
              "4     ...  1.268088e-01  0.005567  0.001138 -0.353284  0.014994  0.180989   \n",
              "...   ...           ...       ...       ...       ...       ...       ...   \n",
              "7404  ...  0.000000e+00  0.000000  0.000000  0.000000  0.000000  0.000000   \n",
              "7405  ...  0.000000e+00  0.000000  0.000000  0.000000  0.000000  0.000000   \n",
              "7406  ...  0.000000e+00  0.000000  0.000000  0.000000  0.000000  0.000000   \n",
              "7407  ...  0.000000e+00  0.000000  0.000000  0.000000  0.000000  0.000000   \n",
              "7408  ...  0.000000e+00  0.000000  0.000000  0.000000  0.000000  0.000000   \n",
              "\n",
              "      Tool_current  cycle   Robot_ProtectiveStop  grip_lost  \n",
              "0         0.082732       1                   0.0      False  \n",
              "1         0.505895       1                   0.0      False  \n",
              "2         0.079420       1                   0.0      False  \n",
              "3         0.083325       1                   0.0      False  \n",
              "4         0.086379       1                   0.0      False  \n",
              "...            ...     ...                   ...        ...  \n",
              "7404      0.080013     264                   0.0      False  \n",
              "7405      0.078740     264                   0.0      False  \n",
              "7406      0.091471     264                   0.0      False  \n",
              "7407      0.090026     264                   0.0      False  \n",
              "7408      0.089097     264                   0.0      False  \n",
              "\n",
              "[7409 rows x 24 columns]"
            ]
          },
          "metadata": {},
          "output_type": "display_data"
        },
        {
          "name": "stdout",
          "output_type": "stream",
          "text": [
            "\n",
            "\n",
            "Information sur les colonnes :\n",
            "<class 'pandas.core.frame.DataFrame'>\n",
            "RangeIndex: 7409 entries, 0 to 7408\n",
            "Data columns (total 24 columns):\n",
            " #   Column                Non-Null Count  Dtype  \n",
            "---  ------                --------------  -----  \n",
            " 0   Num                   7409 non-null   int64  \n",
            " 1   Timestamp             7409 non-null   object \n",
            " 2   Current_J0            7363 non-null   float64\n",
            " 3   Temperature_T0        7355 non-null   float64\n",
            " 4   Current_J1            7355 non-null   float64\n",
            " 5   Temperature_J1        7355 non-null   float64\n",
            " 6   Current_J2            7355 non-null   float64\n",
            " 7   Temperature_J2        7355 non-null   float64\n",
            " 8   Current_J3            7355 non-null   float64\n",
            " 9   Temperature_J3        7355 non-null   float64\n",
            " 10  Current_J4            7355 non-null   float64\n",
            " 11  Temperature_J4        7355 non-null   float64\n",
            " 12  Current_J5            7355 non-null   float64\n",
            " 13  Temperature_J5        7355 non-null   float64\n",
            " 14  Speed_J0              7355 non-null   float64\n",
            " 15  Speed_J1              7355 non-null   float64\n",
            " 16  Speed_J2              7355 non-null   float64\n",
            " 17  Speed_J3              7355 non-null   float64\n",
            " 18  Speed_J4              7355 non-null   float64\n",
            " 19  Speed_J5              7355 non-null   float64\n",
            " 20  Tool_current          7355 non-null   float64\n",
            " 21  cycle                 7409 non-null   int64  \n",
            " 22  Robot_ProtectiveStop  7355 non-null   float64\n",
            " 23  grip_lost             7409 non-null   bool   \n",
            "dtypes: bool(1), float64(20), int64(2), object(1)\n",
            "memory usage: 1.3+ MB\n",
            "None\n",
            "\n",
            "\n",
            "Statistiques descriptives :\n"
          ]
        },
        {
          "data": {
            "application/vnd.google.colaboratory.intrinsic+json": {
              "type": "dataframe"
            },
            "text/html": [
              "\n",
              "  <div id=\"df-4bc585dc-512e-4756-9927-d5c418d51163\" class=\"colab-df-container\">\n",
              "    <div>\n",
              "<style scoped>\n",
              "    .dataframe tbody tr th:only-of-type {\n",
              "        vertical-align: middle;\n",
              "    }\n",
              "\n",
              "    .dataframe tbody tr th {\n",
              "        vertical-align: top;\n",
              "    }\n",
              "\n",
              "    .dataframe thead th {\n",
              "        text-align: right;\n",
              "    }\n",
              "</style>\n",
              "<table border=\"1\" class=\"dataframe\">\n",
              "  <thead>\n",
              "    <tr style=\"text-align: right;\">\n",
              "      <th></th>\n",
              "      <th>Num</th>\n",
              "      <th>Timestamp</th>\n",
              "      <th>Current_J0</th>\n",
              "      <th>Temperature_T0</th>\n",
              "      <th>Current_J1</th>\n",
              "      <th>Temperature_J1</th>\n",
              "      <th>Current_J2</th>\n",
              "      <th>Temperature_J2</th>\n",
              "      <th>Current_J3</th>\n",
              "      <th>Temperature_J3</th>\n",
              "      <th>...</th>\n",
              "      <th>Speed_J0</th>\n",
              "      <th>Speed_J1</th>\n",
              "      <th>Speed_J2</th>\n",
              "      <th>Speed_J3</th>\n",
              "      <th>Speed_J4</th>\n",
              "      <th>Speed_J5</th>\n",
              "      <th>Tool_current</th>\n",
              "      <th>cycle</th>\n",
              "      <th>Robot_ProtectiveStop</th>\n",
              "      <th>grip_lost</th>\n",
              "    </tr>\n",
              "  </thead>\n",
              "  <tbody>\n",
              "    <tr>\n",
              "      <th>count</th>\n",
              "      <td>7409.000000</td>\n",
              "      <td>7409</td>\n",
              "      <td>7363.000000</td>\n",
              "      <td>7355.000000</td>\n",
              "      <td>7355.000000</td>\n",
              "      <td>7355.000000</td>\n",
              "      <td>7355.000000</td>\n",
              "      <td>7355.000000</td>\n",
              "      <td>7355.000000</td>\n",
              "      <td>7355.000000</td>\n",
              "      <td>...</td>\n",
              "      <td>7355.000000</td>\n",
              "      <td>7355.000000</td>\n",
              "      <td>7355.000000</td>\n",
              "      <td>7355.000000</td>\n",
              "      <td>7355.000000</td>\n",
              "      <td>7355.000000</td>\n",
              "      <td>7355.000000</td>\n",
              "      <td>7409.000000</td>\n",
              "      <td>7355.000000</td>\n",
              "      <td>7409</td>\n",
              "    </tr>\n",
              "    <tr>\n",
              "      <th>unique</th>\n",
              "      <td>NaN</td>\n",
              "      <td>7409</td>\n",
              "      <td>NaN</td>\n",
              "      <td>NaN</td>\n",
              "      <td>NaN</td>\n",
              "      <td>NaN</td>\n",
              "      <td>NaN</td>\n",
              "      <td>NaN</td>\n",
              "      <td>NaN</td>\n",
              "      <td>NaN</td>\n",
              "      <td>...</td>\n",
              "      <td>NaN</td>\n",
              "      <td>NaN</td>\n",
              "      <td>NaN</td>\n",
              "      <td>NaN</td>\n",
              "      <td>NaN</td>\n",
              "      <td>NaN</td>\n",
              "      <td>NaN</td>\n",
              "      <td>NaN</td>\n",
              "      <td>NaN</td>\n",
              "      <td>2</td>\n",
              "    </tr>\n",
              "    <tr>\n",
              "      <th>top</th>\n",
              "      <td>NaN</td>\n",
              "      <td>2022-10-26T15:36:06.580Z</td>\n",
              "      <td>NaN</td>\n",
              "      <td>NaN</td>\n",
              "      <td>NaN</td>\n",
              "      <td>NaN</td>\n",
              "      <td>NaN</td>\n",
              "      <td>NaN</td>\n",
              "      <td>NaN</td>\n",
              "      <td>NaN</td>\n",
              "      <td>...</td>\n",
              "      <td>NaN</td>\n",
              "      <td>NaN</td>\n",
              "      <td>NaN</td>\n",
              "      <td>NaN</td>\n",
              "      <td>NaN</td>\n",
              "      <td>NaN</td>\n",
              "      <td>NaN</td>\n",
              "      <td>NaN</td>\n",
              "      <td>NaN</td>\n",
              "      <td>False</td>\n",
              "    </tr>\n",
              "    <tr>\n",
              "      <th>freq</th>\n",
              "      <td>NaN</td>\n",
              "      <td>1</td>\n",
              "      <td>NaN</td>\n",
              "      <td>NaN</td>\n",
              "      <td>NaN</td>\n",
              "      <td>NaN</td>\n",
              "      <td>NaN</td>\n",
              "      <td>NaN</td>\n",
              "      <td>NaN</td>\n",
              "      <td>NaN</td>\n",
              "      <td>...</td>\n",
              "      <td>NaN</td>\n",
              "      <td>NaN</td>\n",
              "      <td>NaN</td>\n",
              "      <td>NaN</td>\n",
              "      <td>NaN</td>\n",
              "      <td>NaN</td>\n",
              "      <td>NaN</td>\n",
              "      <td>NaN</td>\n",
              "      <td>NaN</td>\n",
              "      <td>7166</td>\n",
              "    </tr>\n",
              "    <tr>\n",
              "      <th>mean</th>\n",
              "      <td>3705.000000</td>\n",
              "      <td>NaN</td>\n",
              "      <td>-0.048934</td>\n",
              "      <td>34.906781</td>\n",
              "      <td>-2.297936</td>\n",
              "      <td>37.659636</td>\n",
              "      <td>-1.199381</td>\n",
              "      <td>38.064064</td>\n",
              "      <td>-0.605312</td>\n",
              "      <td>40.936999</td>\n",
              "      <td>...</td>\n",
              "      <td>0.001671</td>\n",
              "      <td>0.000061</td>\n",
              "      <td>0.003791</td>\n",
              "      <td>-0.004610</td>\n",
              "      <td>-0.000810</td>\n",
              "      <td>0.002880</td>\n",
              "      <td>0.109527</td>\n",
              "      <td>141.113241</td>\n",
              "      <td>0.037797</td>\n",
              "      <td>NaN</td>\n",
              "    </tr>\n",
              "    <tr>\n",
              "      <th>std</th>\n",
              "      <td>2138.938405</td>\n",
              "      <td>NaN</td>\n",
              "      <td>0.829395</td>\n",
              "      <td>2.762057</td>\n",
              "      <td>0.800450</td>\n",
              "      <td>3.247315</td>\n",
              "      <td>0.609984</td>\n",
              "      <td>3.311948</td>\n",
              "      <td>0.514937</td>\n",
              "      <td>3.182399</td>\n",
              "      <td>...</td>\n",
              "      <td>0.148826</td>\n",
              "      <td>0.049370</td>\n",
              "      <td>0.729422</td>\n",
              "      <td>0.359999</td>\n",
              "      <td>0.038436</td>\n",
              "      <td>0.313953</td>\n",
              "      <td>0.078832</td>\n",
              "      <td>80.542340</td>\n",
              "      <td>0.190719</td>\n",
              "      <td>NaN</td>\n",
              "    </tr>\n",
              "    <tr>\n",
              "      <th>min</th>\n",
              "      <td>1.000000</td>\n",
              "      <td>NaN</td>\n",
              "      <td>-6.247756</td>\n",
              "      <td>27.812500</td>\n",
              "      <td>-5.808734</td>\n",
              "      <td>29.312500</td>\n",
              "      <td>-4.171966</td>\n",
              "      <td>29.375000</td>\n",
              "      <td>-3.333102</td>\n",
              "      <td>32.125000</td>\n",
              "      <td>...</td>\n",
              "      <td>-0.656331</td>\n",
              "      <td>-0.330833</td>\n",
              "      <td>-2.733091</td>\n",
              "      <td>-1.271460</td>\n",
              "      <td>-0.226233</td>\n",
              "      <td>-1.629721</td>\n",
              "      <td>0.020180</td>\n",
              "      <td>1.000000</td>\n",
              "      <td>0.000000</td>\n",
              "      <td>NaN</td>\n",
              "    </tr>\n",
              "    <tr>\n",
              "      <th>25%</th>\n",
              "      <td>1853.000000</td>\n",
              "      <td>NaN</td>\n",
              "      <td>-0.195026</td>\n",
              "      <td>33.000000</td>\n",
              "      <td>-2.664919</td>\n",
              "      <td>35.375000</td>\n",
              "      <td>-1.552803</td>\n",
              "      <td>35.750000</td>\n",
              "      <td>-0.830933</td>\n",
              "      <td>38.937500</td>\n",
              "      <td>...</td>\n",
              "      <td>-0.000483</td>\n",
              "      <td>-0.000659</td>\n",
              "      <td>-0.004100</td>\n",
              "      <td>-0.005365</td>\n",
              "      <td>-0.000120</td>\n",
              "      <td>-0.000803</td>\n",
              "      <td>0.082387</td>\n",
              "      <td>68.000000</td>\n",
              "      <td>0.000000</td>\n",
              "      <td>NaN</td>\n",
              "    </tr>\n",
              "    <tr>\n",
              "      <th>50%</th>\n",
              "      <td>3705.000000</td>\n",
              "      <td>NaN</td>\n",
              "      <td>-0.080830</td>\n",
              "      <td>36.500000</td>\n",
              "      <td>-2.236342</td>\n",
              "      <td>39.687500</td>\n",
              "      <td>-1.077137</td>\n",
              "      <td>40.187500</td>\n",
              "      <td>-0.571190</td>\n",
              "      <td>43.062500</td>\n",
              "      <td>...</td>\n",
              "      <td>0.000000</td>\n",
              "      <td>0.000000</td>\n",
              "      <td>0.000000</td>\n",
              "      <td>0.000000</td>\n",
              "      <td>0.000000</td>\n",
              "      <td>0.000000</td>\n",
              "      <td>0.085192</td>\n",
              "      <td>154.000000</td>\n",
              "      <td>0.000000</td>\n",
              "      <td>NaN</td>\n",
              "    </tr>\n",
              "    <tr>\n",
              "      <th>75%</th>\n",
              "      <td>5557.000000</td>\n",
              "      <td>NaN</td>\n",
              "      <td>0.095959</td>\n",
              "      <td>37.062500</td>\n",
              "      <td>-1.778334</td>\n",
              "      <td>40.125000</td>\n",
              "      <td>-0.838721</td>\n",
              "      <td>40.437500</td>\n",
              "      <td>-0.388398</td>\n",
              "      <td>43.125000</td>\n",
              "      <td>...</td>\n",
              "      <td>0.002115</td>\n",
              "      <td>0.000540</td>\n",
              "      <td>0.000205</td>\n",
              "      <td>0.009912</td>\n",
              "      <td>0.000066</td>\n",
              "      <td>0.012924</td>\n",
              "      <td>0.089518</td>\n",
              "      <td>218.000000</td>\n",
              "      <td>0.000000</td>\n",
              "      <td>NaN</td>\n",
              "    </tr>\n",
              "    <tr>\n",
              "      <th>max</th>\n",
              "      <td>7409.000000</td>\n",
              "      <td>NaN</td>\n",
              "      <td>6.806938</td>\n",
              "      <td>37.250000</td>\n",
              "      <td>1.083596</td>\n",
              "      <td>40.500000</td>\n",
              "      <td>2.464940</td>\n",
              "      <td>40.937500</td>\n",
              "      <td>2.270268</td>\n",
              "      <td>43.437500</td>\n",
              "      <td>...</td>\n",
              "      <td>0.791929</td>\n",
              "      <td>0.615526</td>\n",
              "      <td>2.679848</td>\n",
              "      <td>1.363093</td>\n",
              "      <td>0.193914</td>\n",
              "      <td>1.378015</td>\n",
              "      <td>0.602054</td>\n",
              "      <td>264.000000</td>\n",
              "      <td>1.000000</td>\n",
              "      <td>NaN</td>\n",
              "    </tr>\n",
              "  </tbody>\n",
              "</table>\n",
              "<p>11 rows × 24 columns</p>\n",
              "</div>\n",
              "    <div class=\"colab-df-buttons\">\n",
              "\n",
              "  <div class=\"colab-df-container\">\n",
              "    <button class=\"colab-df-convert\" onclick=\"convertToInteractive('df-4bc585dc-512e-4756-9927-d5c418d51163')\"\n",
              "            title=\"Convert this dataframe to an interactive table.\"\n",
              "            style=\"display:none;\">\n",
              "\n",
              "  <svg xmlns=\"http://www.w3.org/2000/svg\" height=\"24px\" viewBox=\"0 -960 960 960\">\n",
              "    <path d=\"M120-120v-720h720v720H120Zm60-500h600v-160H180v160Zm220 220h160v-160H400v160Zm0 220h160v-160H400v160ZM180-400h160v-160H180v160Zm440 0h160v-160H620v160ZM180-180h160v-160H180v160Zm440 0h160v-160H620v160Z\"/>\n",
              "  </svg>\n",
              "    </button>\n",
              "\n",
              "  <style>\n",
              "    .colab-df-container {\n",
              "      display:flex;\n",
              "      gap: 12px;\n",
              "    }\n",
              "\n",
              "    .colab-df-convert {\n",
              "      background-color: #E8F0FE;\n",
              "      border: none;\n",
              "      border-radius: 50%;\n",
              "      cursor: pointer;\n",
              "      display: none;\n",
              "      fill: #1967D2;\n",
              "      height: 32px;\n",
              "      padding: 0 0 0 0;\n",
              "      width: 32px;\n",
              "    }\n",
              "\n",
              "    .colab-df-convert:hover {\n",
              "      background-color: #E2EBFA;\n",
              "      box-shadow: 0px 1px 2px rgba(60, 64, 67, 0.3), 0px 1px 3px 1px rgba(60, 64, 67, 0.15);\n",
              "      fill: #174EA6;\n",
              "    }\n",
              "\n",
              "    .colab-df-buttons div {\n",
              "      margin-bottom: 4px;\n",
              "    }\n",
              "\n",
              "    [theme=dark] .colab-df-convert {\n",
              "      background-color: #3B4455;\n",
              "      fill: #D2E3FC;\n",
              "    }\n",
              "\n",
              "    [theme=dark] .colab-df-convert:hover {\n",
              "      background-color: #434B5C;\n",
              "      box-shadow: 0px 1px 3px 1px rgba(0, 0, 0, 0.15);\n",
              "      filter: drop-shadow(0px 1px 2px rgba(0, 0, 0, 0.3));\n",
              "      fill: #FFFFFF;\n",
              "    }\n",
              "  </style>\n",
              "\n",
              "    <script>\n",
              "      const buttonEl =\n",
              "        document.querySelector('#df-4bc585dc-512e-4756-9927-d5c418d51163 button.colab-df-convert');\n",
              "      buttonEl.style.display =\n",
              "        google.colab.kernel.accessAllowed ? 'block' : 'none';\n",
              "\n",
              "      async function convertToInteractive(key) {\n",
              "        const element = document.querySelector('#df-4bc585dc-512e-4756-9927-d5c418d51163');\n",
              "        const dataTable =\n",
              "          await google.colab.kernel.invokeFunction('convertToInteractive',\n",
              "                                                    [key], {});\n",
              "        if (!dataTable) return;\n",
              "\n",
              "        const docLinkHtml = 'Like what you see? Visit the ' +\n",
              "          '<a target=\"_blank\" href=https://colab.research.google.com/notebooks/data_table.ipynb>data table notebook</a>'\n",
              "          + ' to learn more about interactive tables.';\n",
              "        element.innerHTML = '';\n",
              "        dataTable['output_type'] = 'display_data';\n",
              "        await google.colab.output.renderOutput(dataTable, element);\n",
              "        const docLink = document.createElement('div');\n",
              "        docLink.innerHTML = docLinkHtml;\n",
              "        element.appendChild(docLink);\n",
              "      }\n",
              "    </script>\n",
              "  </div>\n",
              "\n",
              "\n",
              "<div id=\"df-7d8982b8-4ded-4676-bf5e-c8e7b841700c\">\n",
              "  <button class=\"colab-df-quickchart\" onclick=\"quickchart('df-7d8982b8-4ded-4676-bf5e-c8e7b841700c')\"\n",
              "            title=\"Suggest charts\"\n",
              "            style=\"display:none;\">\n",
              "\n",
              "<svg xmlns=\"http://www.w3.org/2000/svg\" height=\"24px\"viewBox=\"0 0 24 24\"\n",
              "     width=\"24px\">\n",
              "    <g>\n",
              "        <path d=\"M19 3H5c-1.1 0-2 .9-2 2v14c0 1.1.9 2 2 2h14c1.1 0 2-.9 2-2V5c0-1.1-.9-2-2-2zM9 17H7v-7h2v7zm4 0h-2V7h2v10zm4 0h-2v-4h2v4z\"/>\n",
              "    </g>\n",
              "</svg>\n",
              "  </button>\n",
              "\n",
              "<style>\n",
              "  .colab-df-quickchart {\n",
              "      --bg-color: #E8F0FE;\n",
              "      --fill-color: #1967D2;\n",
              "      --hover-bg-color: #E2EBFA;\n",
              "      --hover-fill-color: #174EA6;\n",
              "      --disabled-fill-color: #AAA;\n",
              "      --disabled-bg-color: #DDD;\n",
              "  }\n",
              "\n",
              "  [theme=dark] .colab-df-quickchart {\n",
              "      --bg-color: #3B4455;\n",
              "      --fill-color: #D2E3FC;\n",
              "      --hover-bg-color: #434B5C;\n",
              "      --hover-fill-color: #FFFFFF;\n",
              "      --disabled-bg-color: #3B4455;\n",
              "      --disabled-fill-color: #666;\n",
              "  }\n",
              "\n",
              "  .colab-df-quickchart {\n",
              "    background-color: var(--bg-color);\n",
              "    border: none;\n",
              "    border-radius: 50%;\n",
              "    cursor: pointer;\n",
              "    display: none;\n",
              "    fill: var(--fill-color);\n",
              "    height: 32px;\n",
              "    padding: 0;\n",
              "    width: 32px;\n",
              "  }\n",
              "\n",
              "  .colab-df-quickchart:hover {\n",
              "    background-color: var(--hover-bg-color);\n",
              "    box-shadow: 0 1px 2px rgba(60, 64, 67, 0.3), 0 1px 3px 1px rgba(60, 64, 67, 0.15);\n",
              "    fill: var(--button-hover-fill-color);\n",
              "  }\n",
              "\n",
              "  .colab-df-quickchart-complete:disabled,\n",
              "  .colab-df-quickchart-complete:disabled:hover {\n",
              "    background-color: var(--disabled-bg-color);\n",
              "    fill: var(--disabled-fill-color);\n",
              "    box-shadow: none;\n",
              "  }\n",
              "\n",
              "  .colab-df-spinner {\n",
              "    border: 2px solid var(--fill-color);\n",
              "    border-color: transparent;\n",
              "    border-bottom-color: var(--fill-color);\n",
              "    animation:\n",
              "      spin 1s steps(1) infinite;\n",
              "  }\n",
              "\n",
              "  @keyframes spin {\n",
              "    0% {\n",
              "      border-color: transparent;\n",
              "      border-bottom-color: var(--fill-color);\n",
              "      border-left-color: var(--fill-color);\n",
              "    }\n",
              "    20% {\n",
              "      border-color: transparent;\n",
              "      border-left-color: var(--fill-color);\n",
              "      border-top-color: var(--fill-color);\n",
              "    }\n",
              "    30% {\n",
              "      border-color: transparent;\n",
              "      border-left-color: var(--fill-color);\n",
              "      border-top-color: var(--fill-color);\n",
              "      border-right-color: var(--fill-color);\n",
              "    }\n",
              "    40% {\n",
              "      border-color: transparent;\n",
              "      border-right-color: var(--fill-color);\n",
              "      border-top-color: var(--fill-color);\n",
              "    }\n",
              "    60% {\n",
              "      border-color: transparent;\n",
              "      border-right-color: var(--fill-color);\n",
              "    }\n",
              "    80% {\n",
              "      border-color: transparent;\n",
              "      border-right-color: var(--fill-color);\n",
              "      border-bottom-color: var(--fill-color);\n",
              "    }\n",
              "    90% {\n",
              "      border-color: transparent;\n",
              "      border-bottom-color: var(--fill-color);\n",
              "    }\n",
              "  }\n",
              "</style>\n",
              "\n",
              "  <script>\n",
              "    async function quickchart(key) {\n",
              "      const quickchartButtonEl =\n",
              "        document.querySelector('#' + key + ' button');\n",
              "      quickchartButtonEl.disabled = true;  // To prevent multiple clicks.\n",
              "      quickchartButtonEl.classList.add('colab-df-spinner');\n",
              "      try {\n",
              "        const charts = await google.colab.kernel.invokeFunction(\n",
              "            'suggestCharts', [key], {});\n",
              "      } catch (error) {\n",
              "        console.error('Error during call to suggestCharts:', error);\n",
              "      }\n",
              "      quickchartButtonEl.classList.remove('colab-df-spinner');\n",
              "      quickchartButtonEl.classList.add('colab-df-quickchart-complete');\n",
              "    }\n",
              "    (() => {\n",
              "      let quickchartButtonEl =\n",
              "        document.querySelector('#df-7d8982b8-4ded-4676-bf5e-c8e7b841700c button');\n",
              "      quickchartButtonEl.style.display =\n",
              "        google.colab.kernel.accessAllowed ? 'block' : 'none';\n",
              "    })();\n",
              "  </script>\n",
              "</div>\n",
              "\n",
              "    </div>\n",
              "  </div>\n"
            ],
            "text/plain": [
              "                Num                 Timestamp   Current_J0  Temperature_T0  \\\n",
              "count   7409.000000                      7409  7363.000000     7355.000000   \n",
              "unique          NaN                      7409          NaN             NaN   \n",
              "top             NaN  2022-10-26T15:36:06.580Z          NaN             NaN   \n",
              "freq            NaN                         1          NaN             NaN   \n",
              "mean    3705.000000                       NaN    -0.048934       34.906781   \n",
              "std     2138.938405                       NaN     0.829395        2.762057   \n",
              "min        1.000000                       NaN    -6.247756       27.812500   \n",
              "25%     1853.000000                       NaN    -0.195026       33.000000   \n",
              "50%     3705.000000                       NaN    -0.080830       36.500000   \n",
              "75%     5557.000000                       NaN     0.095959       37.062500   \n",
              "max     7409.000000                       NaN     6.806938       37.250000   \n",
              "\n",
              "         Current_J1  Temperature_J1   Current_J2  Temperature_J2   Current_J3  \\\n",
              "count   7355.000000     7355.000000  7355.000000     7355.000000  7355.000000   \n",
              "unique          NaN             NaN          NaN             NaN          NaN   \n",
              "top             NaN             NaN          NaN             NaN          NaN   \n",
              "freq            NaN             NaN          NaN             NaN          NaN   \n",
              "mean      -2.297936       37.659636    -1.199381       38.064064    -0.605312   \n",
              "std        0.800450        3.247315     0.609984        3.311948     0.514937   \n",
              "min       -5.808734       29.312500    -4.171966       29.375000    -3.333102   \n",
              "25%       -2.664919       35.375000    -1.552803       35.750000    -0.830933   \n",
              "50%       -2.236342       39.687500    -1.077137       40.187500    -0.571190   \n",
              "75%       -1.778334       40.125000    -0.838721       40.437500    -0.388398   \n",
              "max        1.083596       40.500000     2.464940       40.937500     2.270268   \n",
              "\n",
              "        Temperature_J3  ...     Speed_J0     Speed_J1     Speed_J2  \\\n",
              "count      7355.000000  ...  7355.000000  7355.000000  7355.000000   \n",
              "unique             NaN  ...          NaN          NaN          NaN   \n",
              "top                NaN  ...          NaN          NaN          NaN   \n",
              "freq               NaN  ...          NaN          NaN          NaN   \n",
              "mean         40.936999  ...     0.001671     0.000061     0.003791   \n",
              "std           3.182399  ...     0.148826     0.049370     0.729422   \n",
              "min          32.125000  ...    -0.656331    -0.330833    -2.733091   \n",
              "25%          38.937500  ...    -0.000483    -0.000659    -0.004100   \n",
              "50%          43.062500  ...     0.000000     0.000000     0.000000   \n",
              "75%          43.125000  ...     0.002115     0.000540     0.000205   \n",
              "max          43.437500  ...     0.791929     0.615526     2.679848   \n",
              "\n",
              "           Speed_J3     Speed_J4     Speed_J5  Tool_current       cycle   \\\n",
              "count   7355.000000  7355.000000  7355.000000   7355.000000  7409.000000   \n",
              "unique          NaN          NaN          NaN           NaN          NaN   \n",
              "top             NaN          NaN          NaN           NaN          NaN   \n",
              "freq            NaN          NaN          NaN           NaN          NaN   \n",
              "mean      -0.004610    -0.000810     0.002880      0.109527   141.113241   \n",
              "std        0.359999     0.038436     0.313953      0.078832    80.542340   \n",
              "min       -1.271460    -0.226233    -1.629721      0.020180     1.000000   \n",
              "25%       -0.005365    -0.000120    -0.000803      0.082387    68.000000   \n",
              "50%        0.000000     0.000000     0.000000      0.085192   154.000000   \n",
              "75%        0.009912     0.000066     0.012924      0.089518   218.000000   \n",
              "max        1.363093     0.193914     1.378015      0.602054   264.000000   \n",
              "\n",
              "        Robot_ProtectiveStop  grip_lost  \n",
              "count            7355.000000       7409  \n",
              "unique                   NaN          2  \n",
              "top                      NaN      False  \n",
              "freq                     NaN       7166  \n",
              "mean                0.037797        NaN  \n",
              "std                 0.190719        NaN  \n",
              "min                 0.000000        NaN  \n",
              "25%                 0.000000        NaN  \n",
              "50%                 0.000000        NaN  \n",
              "75%                 0.000000        NaN  \n",
              "max                 1.000000        NaN  \n",
              "\n",
              "[11 rows x 24 columns]"
            ]
          },
          "metadata": {},
          "output_type": "display_data"
        }
      ],
      "source": [
        "import pandas as pd\n",
        "import numpy as np\n",
        "import matplotlib.pyplot as plt\n",
        "import seaborn as sns\n",
        "from google.colab import drive\n",
        "\n",
        "# Chargement des données\n",
        "data = pd.read_excel('dataset_02052023.xlsx')\n",
        "print(data['Timestamp'].head())\n",
        "\n",
        "\n",
        "# 1. Afficher les dimensions du dataframe\n",
        "print(\"Dimensions du dataframe :\", data.shape)\n",
        "print(\"\\n\")\n",
        "\n",
        "# 2. Afficher les 10 premières lignes\n",
        "print(\"10 premières lignes :\")\n",
        "display(data)\n",
        "print(\"\\n\")\n",
        "\n",
        "# 3. Utiliser info() pour les détails des colonnes\n",
        "print(\"Information sur les colonnes :\")\n",
        "print(data.info())\n",
        "print(\"\\n\")\n",
        "\n",
        "# 4. Utiliser describe() pour les statistiques\n",
        "print(\"Statistiques descriptives :\")\n",
        "display(data.describe(include='all'))"
      ]
    },
    {
      "cell_type": "code",
      "execution_count": 2,
      "metadata": {
        "colab": {
          "base_uri": "https://localhost:8080/"
        },
        "id": "eVeeWo88yypA",
        "outputId": "02bae03f-d286-401e-e0d1-5410ebcb04fb"
      },
      "outputs": [
        {
          "name": "stdout",
          "output_type": "stream",
          "text": [
            "0   2022-10-26 08:17:21.847000+00:00\n",
            "1   2022-10-26 08:17:22.852000+00:00\n",
            "2   2022-10-26 08:17:23.857000+00:00\n",
            "3   2022-10-26 08:17:24.863000+00:00\n",
            "4   2022-10-26 08:17:25.877000+00:00\n",
            "Name: Timestamp, dtype: datetime64[ns, UTC]\n",
            "0\n",
            "Num                       int64\n",
            "Current_J0              float64\n",
            "Temperature_T0          float64\n",
            "Current_J1              float64\n",
            "Temperature_J1          float64\n",
            "Current_J2              float64\n",
            "Temperature_J2          float64\n",
            "Current_J3              float64\n",
            "Temperature_J3          float64\n",
            "Current_J4              float64\n",
            "Temperature_J4          float64\n",
            "Current_J5              float64\n",
            "Temperature_J5          float64\n",
            "Speed_J0                float64\n",
            "Speed_J1                float64\n",
            "Speed_J2                float64\n",
            "Speed_J3                float64\n",
            "Speed_J4                float64\n",
            "Speed_J5                float64\n",
            "Tool_current            float64\n",
            "cycle                     int64\n",
            "Robot_ProtectiveStop    float64\n",
            "grip_lost                  bool\n",
            "hour                      int32\n",
            "minute                    int32\n",
            "second                    int32\n",
            "dtype: object\n"
          ]
        }
      ],
      "source": [
        "# Si tes timestamps sont des chaînes avec des guillemets, on les nettoie :\n",
        "data['Timestamp'] = data['Timestamp'].astype(str).str.strip('\"')\n",
        "\n",
        "# On tente une conversion automatique (pandas est très bon à ça)\n",
        "data['Timestamp'] = pd.to_datetime(data['Timestamp'], errors='coerce')\n",
        "\n",
        "# Vérifie si la conversion a réussi\n",
        "print(data['Timestamp'].head())\n",
        "\n",
        "data['hour'] = data['Timestamp'].dt.hour\n",
        "data['minute'] = data['Timestamp'].dt.minute\n",
        "data['second'] = data['Timestamp'].dt.second\n",
        "\n",
        "# Vérifier combien de NaT\n",
        "print(data['Timestamp'].isna().sum())\n",
        "\n",
        "# Supprimer les lignes où Timestamp est NaT\n",
        "data = data.dropna(subset=['Timestamp'])\n",
        "\n",
        "# 5. SUPPRESSION de la colonne Timestamp\n",
        "data = data.drop(columns=['Timestamp'])\n",
        "\n",
        "# 6. (Optionnel) Vérifie que tout est numérique\n",
        "print(data.dtypes)  # toutes les colonnes doivent être float, int...\n"
      ]
    },
    {
      "cell_type": "markdown",
      "metadata": {
        "id": "p3Ui-8JlPH6R"
      },
      "source": [
        "**Analyse des données**"
      ]
    },
    {
      "cell_type": "code",
      "execution_count": 3,
      "metadata": {
        "colab": {
          "base_uri": "https://localhost:8080/"
        },
        "id": "1Im4yfyLPOa5",
        "outputId": "66ca30bb-6051-44b9-8f6d-a273eb26834c"
      },
      "outputs": [
        {
          "name": "stdout",
          "output_type": "stream",
          "text": [
            "Types de données :\n",
            "Num                       int64\n",
            "Current_J0              float64\n",
            "Temperature_T0          float64\n",
            "Current_J1              float64\n",
            "Temperature_J1          float64\n",
            "Current_J2              float64\n",
            "Temperature_J2          float64\n",
            "Current_J3              float64\n",
            "Temperature_J3          float64\n",
            "Current_J4              float64\n",
            "Temperature_J4          float64\n",
            "Current_J5              float64\n",
            "Temperature_J5          float64\n",
            "Speed_J0                float64\n",
            "Speed_J1                float64\n",
            "Speed_J2                float64\n",
            "Speed_J3                float64\n",
            "Speed_J4                float64\n",
            "Speed_J5                float64\n",
            "Tool_current            float64\n",
            "cycle                     int64\n",
            "Robot_ProtectiveStop    float64\n",
            "grip_lost                  bool\n",
            "hour                      int32\n",
            "minute                    int32\n",
            "second                    int32\n",
            "dtype: object\n",
            "\n",
            "\n",
            "Valeurs manquantes par colonne :\n",
            "Num                      0\n",
            "Current_J0              46\n",
            "Temperature_T0          54\n",
            "Current_J1              54\n",
            "Temperature_J1          54\n",
            "Current_J2              54\n",
            "Temperature_J2          54\n",
            "Current_J3              54\n",
            "Temperature_J3          54\n",
            "Current_J4              54\n",
            "Temperature_J4          54\n",
            "Current_J5              54\n",
            "Temperature_J5          54\n",
            "Speed_J0                54\n",
            "Speed_J1                54\n",
            "Speed_J2                54\n",
            "Speed_J3                54\n",
            "Speed_J4                54\n",
            "Speed_J5                54\n",
            "Tool_current            54\n",
            "cycle                    0\n",
            "Robot_ProtectiveStop    54\n",
            "grip_lost                0\n",
            "hour                     0\n",
            "minute                   0\n",
            "second                   0\n",
            "dtype: int64\n",
            "\n",
            "\n",
            "Nombre de doublons : 0\n",
            "\n",
            "\n"
          ]
        }
      ],
      "source": [
        "# 2.1 Vérification des types de données\n",
        "print(\"Types de données :\")\n",
        "print(data.dtypes)\n",
        "print(\"\\n\")\n",
        "\n",
        "# Vérification des valeurs manquantes\n",
        "print(\"Valeurs manquantes par colonne :\")\n",
        "print(data.isnull().sum())\n",
        "print(\"\\n\")\n",
        "\n",
        "# Vérification des doublons\n",
        "print(\"Nombre de doublons :\", data.duplicated().sum())\n",
        "print(\"\\n\")"
      ]
    },
    {
      "cell_type": "markdown",
      "metadata": {
        "id": "Iz687HFcP3VX"
      },
      "source": [
        "**Nettoyage et prétraitement**"
      ]
    },
    {
      "cell_type": "code",
      "execution_count": 4,
      "metadata": {
        "colab": {
          "base_uri": "https://localhost:8080/"
        },
        "id": "DkDSKXaUP7t5",
        "outputId": "85d5c51f-f16a-401f-edb6-b265bf41d3ed"
      },
      "outputs": [
        {
          "name": "stdout",
          "output_type": "stream",
          "text": [
            "   Num  Current_J0  Temperature_T0  Current_J1  Temperature_J1  Current_J2  \\\n",
            "0    1    0.109628          27.875   -2.024669         29.3750   -1.531442   \n",
            "1    2    0.595605          27.875   -2.278456         29.3125   -0.866556   \n",
            "2    3   -0.229474          27.875   -2.800408         29.3125   -2.304336   \n",
            "3    4    0.065053          27.875   -3.687768         29.3125   -1.217652   \n",
            "4    5    0.884140          27.875   -2.938830         29.3750   -1.794076   \n",
            "\n",
            "   Temperature_J2  Current_J3  Temperature_J3  Current_J4  ...  Speed_J3  \\\n",
            "0         29.3750   -0.998570         32.1250   -0.062540  ... -0.132836   \n",
            "1         29.4375   -0.206097         32.1875   -1.062762  ...  0.001668   \n",
            "2         29.4375   -0.351499         32.1250   -0.668869  ...  0.379867   \n",
            "3         29.4375   -1.209115         32.1250   -0.819755  ... -0.384196   \n",
            "4         29.4375   -2.356471         32.1875   -0.966427  ... -0.353284   \n",
            "\n",
            "   Speed_J4  Speed_J5  Tool_current  cycle   Robot_ProtectiveStop  grip_lost  \\\n",
            "0 -0.007479 -0.152962      0.082732       1                   0.0          0   \n",
            "1 -0.000767  0.000417      0.505895       1                   0.0          0   \n",
            "2  0.000455 -0.496856      0.079420       1                   0.0          0   \n",
            "3  0.018411  0.425559      0.083325       1                   0.0          0   \n",
            "4  0.014994  0.180989      0.086379       1                   0.0          0   \n",
            "\n",
            "   hour  minute  second  \n",
            "0     8      17      21  \n",
            "1     8      17      22  \n",
            "2     8      17      23  \n",
            "3     8      17      24  \n",
            "4     8      17      25  \n",
            "\n",
            "[5 rows x 26 columns]\n",
            "Types de données :\n",
            "Num                       int64\n",
            "Current_J0              float64\n",
            "Temperature_T0          float64\n",
            "Current_J1              float64\n",
            "Temperature_J1          float64\n",
            "Current_J2              float64\n",
            "Temperature_J2          float64\n",
            "Current_J3              float64\n",
            "Temperature_J3          float64\n",
            "Current_J4              float64\n",
            "Temperature_J4          float64\n",
            "Current_J5              float64\n",
            "Temperature_J5          float64\n",
            "Speed_J0                float64\n",
            "Speed_J1                float64\n",
            "Speed_J2                float64\n",
            "Speed_J3                float64\n",
            "Speed_J4                float64\n",
            "Speed_J5                float64\n",
            "Tool_current            float64\n",
            "cycle                     int64\n",
            "Robot_ProtectiveStop    float64\n",
            "grip_lost                 int64\n",
            "hour                      int32\n",
            "minute                    int32\n",
            "second                    int32\n",
            "dtype: object\n",
            "\n",
            "\n",
            "   Num  Current_J0  Temperature_T0  Current_J1  Temperature_J1  Current_J2  \\\n",
            "0    1    0.109628          27.875   -2.024669         29.3750   -1.531442   \n",
            "1    2    0.595605          27.875   -2.278456         29.3125   -0.866556   \n",
            "2    3   -0.229474          27.875   -2.800408         29.3125   -2.304336   \n",
            "3    4    0.065053          27.875   -3.687768         29.3125   -1.217652   \n",
            "4    5    0.884140          27.875   -2.938830         29.3750   -1.794076   \n",
            "\n",
            "   Temperature_J2  Current_J3  Temperature_J3  Current_J4  ...  Speed_J3  \\\n",
            "0         29.3750   -0.998570         32.1250   -0.062540  ... -0.132836   \n",
            "1         29.4375   -0.206097         32.1875   -1.062762  ...  0.001668   \n",
            "2         29.4375   -0.351499         32.1250   -0.668869  ...  0.379867   \n",
            "3         29.4375   -1.209115         32.1250   -0.819755  ... -0.384196   \n",
            "4         29.4375   -2.356471         32.1875   -0.966427  ... -0.353284   \n",
            "\n",
            "   Speed_J4  Speed_J5  Tool_current  cycle   Robot_ProtectiveStop  grip_lost  \\\n",
            "0 -0.007479 -0.152962      0.082732       1                   0.0          0   \n",
            "1 -0.000767  0.000417      0.505895       1                   0.0          0   \n",
            "2  0.000455 -0.496856      0.079420       1                   0.0          0   \n",
            "3  0.018411  0.425559      0.083325       1                   0.0          0   \n",
            "4  0.014994  0.180989      0.086379       1                   0.0          0   \n",
            "\n",
            "   hour  minute  second  \n",
            "0     8      17      21  \n",
            "1     8      17      22  \n",
            "2     8      17      23  \n",
            "3     8      17      24  \n",
            "4     8      17      25  \n",
            "\n",
            "[5 rows x 26 columns]\n"
          ]
        }
      ],
      "source": [
        "#encodage\n",
        "from sklearn.preprocessing import LabelEncoder\n",
        "\n",
        "# Création d'un objet LabelEncoder\n",
        "label_encoder = LabelEncoder()\n",
        "data['grip_lost'] = label_encoder.fit_transform(data['grip_lost'])\n",
        "print(data.head())\n",
        "\n",
        "# 1. Sélectionner uniquement les features numériques (exclure la target)\n",
        "numeric_features = data.select_dtypes(include=np.number).columns.tolist()\n",
        "numeric_features = [col for col in numeric_features if col != 'Robot_ProtectiveStop']\n",
        "\n",
        "# 2. Calculer les moyennes par colonne (hors target)\n",
        "mean_values = data[numeric_features].mean()\n",
        "\n",
        "# 3. Remplissage des NaN uniquement pour les features\n",
        "data[numeric_features] = data[numeric_features].fillna(mean_values)\n",
        "\n",
        "\n",
        "#  Vérification des types de données\n",
        "print(\"Types de données :\")\n",
        "print(data.dtypes)\n",
        "print(\"\\n\")\n",
        "# Affichage du résultat\n",
        "print(data.head())"
      ]
    },
    {
      "cell_type": "code",
      "execution_count": 5,
      "metadata": {
        "colab": {
          "base_uri": "https://localhost:8080/"
        },
        "id": "MwD_wAAXtzd8",
        "outputId": "b0676487-5bf7-4648-c5b1-416ef47933f4"
      },
      "outputs": [
        {
          "name": "stdout",
          "output_type": "stream",
          "text": [
            "Nombre de lignes restantes : 7355\n",
            "Valeurs uniques de la target :\n",
            " Robot_ProtectiveStop\n",
            "0.0    7077\n",
            "1.0     278\n",
            "Name: count, dtype: int64\n"
          ]
        }
      ],
      "source": [
        "# Suppression des lignes où 'Robot_ProtectiveStop' est NaN\n",
        "data = data.dropna(subset=['Robot_ProtectiveStop'])\n",
        "\n",
        "# Vérification\n",
        "print(\"Nombre de lignes restantes :\", len(data))\n",
        "print(\"Valeurs uniques de la target :\\n\", data['Robot_ProtectiveStop'].value_counts())"
      ]
    },
    {
      "cell_type": "markdown",
      "metadata": {
        "id": "AWG_KE1MUwQF"
      },
      "source": [
        "**Répartition des classes**"
      ]
    },
    {
      "cell_type": "code",
      "execution_count": 6,
      "metadata": {
        "colab": {
          "base_uri": "https://localhost:8080/"
        },
        "id": "boL0J1xmU0Bz",
        "outputId": "52cd316b-3830-4983-a81d-df81cda3ce7f"
      },
      "outputs": [
        {
          "name": "stdout",
          "output_type": "stream",
          "text": [
            "Robot_ProtectiveStop\n",
            "0.0    7077\n",
            "1.0     278\n",
            "Name: count, dtype: int64\n"
          ]
        }
      ],
      "source": [
        "# Vérifier la répartition des classes de la variable cible 'y'\n",
        "print(data['Robot_ProtectiveStop'].value_counts())"
      ]
    },
    {
      "cell_type": "code",
      "execution_count": 7,
      "metadata": {
        "colab": {
          "base_uri": "https://localhost:8080/"
        },
        "id": "ioUl861Ukjky",
        "outputId": "8f9c2fda-2fc0-42ad-9308-363b8567d2f2"
      },
      "outputs": [
        {
          "name": "stdout",
          "output_type": "stream",
          "text": [
            "Robot_ProtectiveStop\n",
            "0.0    3677\n",
            "1.0    3677\n",
            "Name: count, dtype: int64\n",
            "       Num  Current_J0  Temperature_T0  Current_J1  Temperature_J1  \\\n",
            "871    872   -0.078593         30.7500   -2.432065         32.7500   \n",
            "5597  5598   -0.097761         37.0625   -1.609335         40.1250   \n",
            "5419  5420    0.068788         37.0625   -1.879117         40.1250   \n",
            "5381  5382    0.171511         37.0625   -2.429525         40.0625   \n",
            "3899  3900    0.484133         36.6250   -2.039247         39.7500   \n",
            "\n",
            "      Current_J2  Temperature_J2  Current_J3  Temperature_J3  Current_J4  ...  \\\n",
            "871    -1.043761         33.0625   -0.488177         36.1875    0.030074  ...   \n",
            "5597   -0.770012         40.5000   -0.646738         43.1250   -0.146647  ...   \n",
            "5419   -0.913738         40.3750   -0.599597         43.1250   -0.022845  ...   \n",
            "5381   -1.327231         40.3750   -0.803213         43.1250   -0.008761  ...   \n",
            "3899   -0.800814         40.3125   -0.686050         43.1250    0.111538  ...   \n",
            "\n",
            "          Speed_J3      Speed_J4  Speed_J5  Tool_current  cycle   \\\n",
            "871   0.000000e+00  0.000000e+00  0.000000      0.083325      33   \n",
            "5597 -1.821688e-44  0.000000e+00  0.000130      0.085785     219   \n",
            "5419  0.000000e+00  0.000000e+00  0.000000      0.080779     214   \n",
            "5381 -1.071810e-04  0.000000e+00 -0.000611      0.156991     213   \n",
            "3899 -5.765108e-01 -4.014720e-42  0.652578      0.085699     162   \n",
            "\n",
            "      Robot_ProtectiveStop  grip_lost  hour  minute  second  \n",
            "871                    0.0          0     8      31      59  \n",
            "5597                   0.0          0    15       5      44  \n",
            "5419                   0.0          0    15       2      44  \n",
            "5381                   0.0          0    15       2       6  \n",
            "3899                   0.0          0    14      37       9  \n",
            "\n",
            "[5 rows x 26 columns]\n"
          ]
        }
      ],
      "source": [
        "from sklearn.utils import resample\n",
        "\n",
        "df_majority = data[data['Robot_ProtectiveStop'] == 0]  # Assuming 0 is the majority class label\n",
        "df_minority1 = data[data['Robot_ProtectiveStop'] == 1]  # Assuming 1 is the first minority class label\n",
        "\n",
        "\n",
        "# Calculer la taille cible = moyenne des classes\n",
        "target_size = (len(df_minority1) + len(df_majority)) // 2  # Ex: ~2500\n",
        "\n",
        "# Sur-échantillonner les minoritaires pour atteindre target_size\n",
        "df_minority1_upsampled = resample(df_minority1, replace=True, n_samples=target_size, random_state=42)\n",
        "\n",
        "\n",
        "# Sous-échantillonner la majoritaire si nécessaire (ou garder intacte)\n",
        "df_majority_downsampled = resample(df_majority, replace=True, n_samples=target_size, random_state=42)\n",
        "\n",
        "# Combine the upsampled minority classes with the majority class\n",
        "df_balanced = pd.concat([df_majority_downsampled, df_minority1_upsampled])\n",
        "\n",
        "# Check the class distribution after oversampling\n",
        "print(df_balanced['Robot_ProtectiveStop'].value_counts())\n",
        "print(df_balanced.head())\n"
      ]
    },
    {
      "cell_type": "markdown",
      "metadata": {
        "id": "SinoAcQOlesy"
      },
      "source": [
        "** Normalisation des variables numériques**"
      ]
    },
    {
      "cell_type": "code",
      "execution_count": 24,
      "metadata": {
        "colab": {
          "base_uri": "https://localhost:8080/"
        },
        "id": "GKHXTF4dld66",
        "outputId": "11cf7ab4-4c23-48be-9b5f-95d807f6e176"
      },
      "outputs": [
        {
          "data": {
            "text/plain": [
              "['data_scaler.pkl']"
            ]
          },
          "execution_count": 24,
          "metadata": {},
          "output_type": "execute_result"
        }
      ],
      "source": [
        "from sklearn.preprocessing import MinMaxScaler\n",
        "\n",
        "# Liste des colonnes à normaliser (exclure target et booléens)\n",
        "numeric_cols = df_balanced.select_dtypes(include=['float64', 'int64']).columns.tolist()\n",
        "numeric_cols = [col for col in numeric_cols if col not in ['Robot_ProtectiveStop', 'grip_lost','hour','minute','second']]\n",
        "\n",
        "# Normalisation\n",
        "scaler = MinMaxScaler()\n",
        "df_balanced[numeric_cols] = scaler.fit_transform(df_balanced[numeric_cols])\n",
        "\n",
        "\n",
        "# Sauvegarde du scaler pour l'inférence\n",
        "import joblib\n",
        "joblib.dump(scaler, 'data_scaler.pkl')"
      ]
    },
    {
      "cell_type": "code",
      "execution_count": 31,
      "metadata": {
        "colab": {
          "base_uri": "https://localhost:8080/",
          "height": 255
        },
        "id": "2anySLrW4u1_",
        "outputId": "0b493411-762b-43e9-8702-70b766ab1620"
      },
      "outputs": [
        {
          "data": {
            "application/vnd.google.colaboratory.intrinsic+json": {
              "type": "dataframe",
              "variable_name": "df_balanced"
            },
            "text/html": [
              "\n",
              "  <div id=\"df-a3219f86-18ee-45c6-ba3c-b2ad4face2b4\" class=\"colab-df-container\">\n",
              "    <div>\n",
              "<style scoped>\n",
              "    .dataframe tbody tr th:only-of-type {\n",
              "        vertical-align: middle;\n",
              "    }\n",
              "\n",
              "    .dataframe tbody tr th {\n",
              "        vertical-align: top;\n",
              "    }\n",
              "\n",
              "    .dataframe thead th {\n",
              "        text-align: right;\n",
              "    }\n",
              "</style>\n",
              "<table border=\"1\" class=\"dataframe\">\n",
              "  <thead>\n",
              "    <tr style=\"text-align: right;\">\n",
              "      <th></th>\n",
              "      <th>Num</th>\n",
              "      <th>Current_J0</th>\n",
              "      <th>Temperature_T0</th>\n",
              "      <th>Current_J1</th>\n",
              "      <th>Temperature_J1</th>\n",
              "      <th>Current_J2</th>\n",
              "      <th>Temperature_J2</th>\n",
              "      <th>Current_J3</th>\n",
              "      <th>Temperature_J3</th>\n",
              "      <th>Current_J4</th>\n",
              "      <th>...</th>\n",
              "      <th>Speed_J3</th>\n",
              "      <th>Speed_J4</th>\n",
              "      <th>Speed_J5</th>\n",
              "      <th>Tool_current</th>\n",
              "      <th>cycle</th>\n",
              "      <th>Robot_ProtectiveStop</th>\n",
              "      <th>grip_lost</th>\n",
              "      <th>hour</th>\n",
              "      <th>minute</th>\n",
              "      <th>second</th>\n",
              "    </tr>\n",
              "  </thead>\n",
              "  <tbody>\n",
              "    <tr>\n",
              "      <th>871</th>\n",
              "      <td>0.117504</td>\n",
              "      <td>0.472563</td>\n",
              "      <td>0.311258</td>\n",
              "      <td>0.489917</td>\n",
              "      <td>0.308989</td>\n",
              "      <td>0.456211</td>\n",
              "      <td>0.316940</td>\n",
              "      <td>0.507717</td>\n",
              "      <td>0.359116</td>\n",
              "      <td>0.541650</td>\n",
              "      <td>...</td>\n",
              "      <td>0.481892</td>\n",
              "      <td>0.53555</td>\n",
              "      <td>0.535080</td>\n",
              "      <td>0.108521</td>\n",
              "      <td>0.121673</td>\n",
              "      <td>0.0</td>\n",
              "      <td>0</td>\n",
              "      <td>8</td>\n",
              "      <td>31</td>\n",
              "      <td>59</td>\n",
              "    </tr>\n",
              "    <tr>\n",
              "      <th>5597</th>\n",
              "      <td>0.755808</td>\n",
              "      <td>0.471095</td>\n",
              "      <td>0.980132</td>\n",
              "      <td>0.609286</td>\n",
              "      <td>0.971910</td>\n",
              "      <td>0.498637</td>\n",
              "      <td>0.967213</td>\n",
              "      <td>0.479419</td>\n",
              "      <td>0.972376</td>\n",
              "      <td>0.521577</td>\n",
              "      <td>...</td>\n",
              "      <td>0.481892</td>\n",
              "      <td>0.53555</td>\n",
              "      <td>0.535124</td>\n",
              "      <td>0.112749</td>\n",
              "      <td>0.828897</td>\n",
              "      <td>0.0</td>\n",
              "      <td>0</td>\n",
              "      <td>15</td>\n",
              "      <td>5</td>\n",
              "      <td>44</td>\n",
              "    </tr>\n",
              "    <tr>\n",
              "      <th>5419</th>\n",
              "      <td>0.731767</td>\n",
              "      <td>0.483852</td>\n",
              "      <td>0.980132</td>\n",
              "      <td>0.570143</td>\n",
              "      <td>0.971910</td>\n",
              "      <td>0.476362</td>\n",
              "      <td>0.956284</td>\n",
              "      <td>0.487832</td>\n",
              "      <td>0.972376</td>\n",
              "      <td>0.535639</td>\n",
              "      <td>...</td>\n",
              "      <td>0.481892</td>\n",
              "      <td>0.53555</td>\n",
              "      <td>0.535080</td>\n",
              "      <td>0.104146</td>\n",
              "      <td>0.809886</td>\n",
              "      <td>0.0</td>\n",
              "      <td>0</td>\n",
              "      <td>15</td>\n",
              "      <td>2</td>\n",
              "      <td>44</td>\n",
              "    </tr>\n",
              "    <tr>\n",
              "      <th>5381</th>\n",
              "      <td>0.726634</td>\n",
              "      <td>0.491721</td>\n",
              "      <td>0.980132</td>\n",
              "      <td>0.490285</td>\n",
              "      <td>0.966292</td>\n",
              "      <td>0.412277</td>\n",
              "      <td>0.956284</td>\n",
              "      <td>0.451494</td>\n",
              "      <td>0.972376</td>\n",
              "      <td>0.537239</td>\n",
              "      <td>...</td>\n",
              "      <td>0.481851</td>\n",
              "      <td>0.53555</td>\n",
              "      <td>0.534874</td>\n",
              "      <td>0.235121</td>\n",
              "      <td>0.806084</td>\n",
              "      <td>0.0</td>\n",
              "      <td>0</td>\n",
              "      <td>15</td>\n",
              "      <td>2</td>\n",
              "      <td>6</td>\n",
              "    </tr>\n",
              "    <tr>\n",
              "      <th>3899</th>\n",
              "      <td>0.526472</td>\n",
              "      <td>0.515668</td>\n",
              "      <td>0.933775</td>\n",
              "      <td>0.546910</td>\n",
              "      <td>0.938202</td>\n",
              "      <td>0.493863</td>\n",
              "      <td>0.950820</td>\n",
              "      <td>0.472404</td>\n",
              "      <td>0.972376</td>\n",
              "      <td>0.550904</td>\n",
              "      <td>...</td>\n",
              "      <td>0.262575</td>\n",
              "      <td>0.53555</td>\n",
              "      <td>0.755249</td>\n",
              "      <td>0.112601</td>\n",
              "      <td>0.612167</td>\n",
              "      <td>0.0</td>\n",
              "      <td>0</td>\n",
              "      <td>14</td>\n",
              "      <td>37</td>\n",
              "      <td>9</td>\n",
              "    </tr>\n",
              "  </tbody>\n",
              "</table>\n",
              "<p>5 rows × 26 columns</p>\n",
              "</div>\n",
              "    <div class=\"colab-df-buttons\">\n",
              "\n",
              "  <div class=\"colab-df-container\">\n",
              "    <button class=\"colab-df-convert\" onclick=\"convertToInteractive('df-a3219f86-18ee-45c6-ba3c-b2ad4face2b4')\"\n",
              "            title=\"Convert this dataframe to an interactive table.\"\n",
              "            style=\"display:none;\">\n",
              "\n",
              "  <svg xmlns=\"http://www.w3.org/2000/svg\" height=\"24px\" viewBox=\"0 -960 960 960\">\n",
              "    <path d=\"M120-120v-720h720v720H120Zm60-500h600v-160H180v160Zm220 220h160v-160H400v160Zm0 220h160v-160H400v160ZM180-400h160v-160H180v160Zm440 0h160v-160H620v160ZM180-180h160v-160H180v160Zm440 0h160v-160H620v160Z\"/>\n",
              "  </svg>\n",
              "    </button>\n",
              "\n",
              "  <style>\n",
              "    .colab-df-container {\n",
              "      display:flex;\n",
              "      gap: 12px;\n",
              "    }\n",
              "\n",
              "    .colab-df-convert {\n",
              "      background-color: #E8F0FE;\n",
              "      border: none;\n",
              "      border-radius: 50%;\n",
              "      cursor: pointer;\n",
              "      display: none;\n",
              "      fill: #1967D2;\n",
              "      height: 32px;\n",
              "      padding: 0 0 0 0;\n",
              "      width: 32px;\n",
              "    }\n",
              "\n",
              "    .colab-df-convert:hover {\n",
              "      background-color: #E2EBFA;\n",
              "      box-shadow: 0px 1px 2px rgba(60, 64, 67, 0.3), 0px 1px 3px 1px rgba(60, 64, 67, 0.15);\n",
              "      fill: #174EA6;\n",
              "    }\n",
              "\n",
              "    .colab-df-buttons div {\n",
              "      margin-bottom: 4px;\n",
              "    }\n",
              "\n",
              "    [theme=dark] .colab-df-convert {\n",
              "      background-color: #3B4455;\n",
              "      fill: #D2E3FC;\n",
              "    }\n",
              "\n",
              "    [theme=dark] .colab-df-convert:hover {\n",
              "      background-color: #434B5C;\n",
              "      box-shadow: 0px 1px 3px 1px rgba(0, 0, 0, 0.15);\n",
              "      filter: drop-shadow(0px 1px 2px rgba(0, 0, 0, 0.3));\n",
              "      fill: #FFFFFF;\n",
              "    }\n",
              "  </style>\n",
              "\n",
              "    <script>\n",
              "      const buttonEl =\n",
              "        document.querySelector('#df-a3219f86-18ee-45c6-ba3c-b2ad4face2b4 button.colab-df-convert');\n",
              "      buttonEl.style.display =\n",
              "        google.colab.kernel.accessAllowed ? 'block' : 'none';\n",
              "\n",
              "      async function convertToInteractive(key) {\n",
              "        const element = document.querySelector('#df-a3219f86-18ee-45c6-ba3c-b2ad4face2b4');\n",
              "        const dataTable =\n",
              "          await google.colab.kernel.invokeFunction('convertToInteractive',\n",
              "                                                    [key], {});\n",
              "        if (!dataTable) return;\n",
              "\n",
              "        const docLinkHtml = 'Like what you see? Visit the ' +\n",
              "          '<a target=\"_blank\" href=https://colab.research.google.com/notebooks/data_table.ipynb>data table notebook</a>'\n",
              "          + ' to learn more about interactive tables.';\n",
              "        element.innerHTML = '';\n",
              "        dataTable['output_type'] = 'display_data';\n",
              "        await google.colab.output.renderOutput(dataTable, element);\n",
              "        const docLink = document.createElement('div');\n",
              "        docLink.innerHTML = docLinkHtml;\n",
              "        element.appendChild(docLink);\n",
              "      }\n",
              "    </script>\n",
              "  </div>\n",
              "\n",
              "\n",
              "<div id=\"df-5098fb50-904f-4f4f-a13f-cd92c0710b0c\">\n",
              "  <button class=\"colab-df-quickchart\" onclick=\"quickchart('df-5098fb50-904f-4f4f-a13f-cd92c0710b0c')\"\n",
              "            title=\"Suggest charts\"\n",
              "            style=\"display:none;\">\n",
              "\n",
              "<svg xmlns=\"http://www.w3.org/2000/svg\" height=\"24px\"viewBox=\"0 0 24 24\"\n",
              "     width=\"24px\">\n",
              "    <g>\n",
              "        <path d=\"M19 3H5c-1.1 0-2 .9-2 2v14c0 1.1.9 2 2 2h14c1.1 0 2-.9 2-2V5c0-1.1-.9-2-2-2zM9 17H7v-7h2v7zm4 0h-2V7h2v10zm4 0h-2v-4h2v4z\"/>\n",
              "    </g>\n",
              "</svg>\n",
              "  </button>\n",
              "\n",
              "<style>\n",
              "  .colab-df-quickchart {\n",
              "      --bg-color: #E8F0FE;\n",
              "      --fill-color: #1967D2;\n",
              "      --hover-bg-color: #E2EBFA;\n",
              "      --hover-fill-color: #174EA6;\n",
              "      --disabled-fill-color: #AAA;\n",
              "      --disabled-bg-color: #DDD;\n",
              "  }\n",
              "\n",
              "  [theme=dark] .colab-df-quickchart {\n",
              "      --bg-color: #3B4455;\n",
              "      --fill-color: #D2E3FC;\n",
              "      --hover-bg-color: #434B5C;\n",
              "      --hover-fill-color: #FFFFFF;\n",
              "      --disabled-bg-color: #3B4455;\n",
              "      --disabled-fill-color: #666;\n",
              "  }\n",
              "\n",
              "  .colab-df-quickchart {\n",
              "    background-color: var(--bg-color);\n",
              "    border: none;\n",
              "    border-radius: 50%;\n",
              "    cursor: pointer;\n",
              "    display: none;\n",
              "    fill: var(--fill-color);\n",
              "    height: 32px;\n",
              "    padding: 0;\n",
              "    width: 32px;\n",
              "  }\n",
              "\n",
              "  .colab-df-quickchart:hover {\n",
              "    background-color: var(--hover-bg-color);\n",
              "    box-shadow: 0 1px 2px rgba(60, 64, 67, 0.3), 0 1px 3px 1px rgba(60, 64, 67, 0.15);\n",
              "    fill: var(--button-hover-fill-color);\n",
              "  }\n",
              "\n",
              "  .colab-df-quickchart-complete:disabled,\n",
              "  .colab-df-quickchart-complete:disabled:hover {\n",
              "    background-color: var(--disabled-bg-color);\n",
              "    fill: var(--disabled-fill-color);\n",
              "    box-shadow: none;\n",
              "  }\n",
              "\n",
              "  .colab-df-spinner {\n",
              "    border: 2px solid var(--fill-color);\n",
              "    border-color: transparent;\n",
              "    border-bottom-color: var(--fill-color);\n",
              "    animation:\n",
              "      spin 1s steps(1) infinite;\n",
              "  }\n",
              "\n",
              "  @keyframes spin {\n",
              "    0% {\n",
              "      border-color: transparent;\n",
              "      border-bottom-color: var(--fill-color);\n",
              "      border-left-color: var(--fill-color);\n",
              "    }\n",
              "    20% {\n",
              "      border-color: transparent;\n",
              "      border-left-color: var(--fill-color);\n",
              "      border-top-color: var(--fill-color);\n",
              "    }\n",
              "    30% {\n",
              "      border-color: transparent;\n",
              "      border-left-color: var(--fill-color);\n",
              "      border-top-color: var(--fill-color);\n",
              "      border-right-color: var(--fill-color);\n",
              "    }\n",
              "    40% {\n",
              "      border-color: transparent;\n",
              "      border-right-color: var(--fill-color);\n",
              "      border-top-color: var(--fill-color);\n",
              "    }\n",
              "    60% {\n",
              "      border-color: transparent;\n",
              "      border-right-color: var(--fill-color);\n",
              "    }\n",
              "    80% {\n",
              "      border-color: transparent;\n",
              "      border-right-color: var(--fill-color);\n",
              "      border-bottom-color: var(--fill-color);\n",
              "    }\n",
              "    90% {\n",
              "      border-color: transparent;\n",
              "      border-bottom-color: var(--fill-color);\n",
              "    }\n",
              "  }\n",
              "</style>\n",
              "\n",
              "  <script>\n",
              "    async function quickchart(key) {\n",
              "      const quickchartButtonEl =\n",
              "        document.querySelector('#' + key + ' button');\n",
              "      quickchartButtonEl.disabled = true;  // To prevent multiple clicks.\n",
              "      quickchartButtonEl.classList.add('colab-df-spinner');\n",
              "      try {\n",
              "        const charts = await google.colab.kernel.invokeFunction(\n",
              "            'suggestCharts', [key], {});\n",
              "      } catch (error) {\n",
              "        console.error('Error during call to suggestCharts:', error);\n",
              "      }\n",
              "      quickchartButtonEl.classList.remove('colab-df-spinner');\n",
              "      quickchartButtonEl.classList.add('colab-df-quickchart-complete');\n",
              "    }\n",
              "    (() => {\n",
              "      let quickchartButtonEl =\n",
              "        document.querySelector('#df-5098fb50-904f-4f4f-a13f-cd92c0710b0c button');\n",
              "      quickchartButtonEl.style.display =\n",
              "        google.colab.kernel.accessAllowed ? 'block' : 'none';\n",
              "    })();\n",
              "  </script>\n",
              "</div>\n",
              "\n",
              "    </div>\n",
              "  </div>\n"
            ],
            "text/plain": [
              "           Num  Current_J0  Temperature_T0  Current_J1  Temperature_J1  \\\n",
              "871   0.117504    0.472563        0.311258    0.489917        0.308989   \n",
              "5597  0.755808    0.471095        0.980132    0.609286        0.971910   \n",
              "5419  0.731767    0.483852        0.980132    0.570143        0.971910   \n",
              "5381  0.726634    0.491721        0.980132    0.490285        0.966292   \n",
              "3899  0.526472    0.515668        0.933775    0.546910        0.938202   \n",
              "\n",
              "      Current_J2  Temperature_J2  Current_J3  Temperature_J3  Current_J4  ...  \\\n",
              "871     0.456211        0.316940    0.507717        0.359116    0.541650  ...   \n",
              "5597    0.498637        0.967213    0.479419        0.972376    0.521577  ...   \n",
              "5419    0.476362        0.956284    0.487832        0.972376    0.535639  ...   \n",
              "5381    0.412277        0.956284    0.451494        0.972376    0.537239  ...   \n",
              "3899    0.493863        0.950820    0.472404        0.972376    0.550904  ...   \n",
              "\n",
              "      Speed_J3  Speed_J4  Speed_J5  Tool_current    cycle   \\\n",
              "871   0.481892   0.53555  0.535080      0.108521  0.121673   \n",
              "5597  0.481892   0.53555  0.535124      0.112749  0.828897   \n",
              "5419  0.481892   0.53555  0.535080      0.104146  0.809886   \n",
              "5381  0.481851   0.53555  0.534874      0.235121  0.806084   \n",
              "3899  0.262575   0.53555  0.755249      0.112601  0.612167   \n",
              "\n",
              "      Robot_ProtectiveStop  grip_lost  hour  minute  second  \n",
              "871                    0.0          0     8      31      59  \n",
              "5597                   0.0          0    15       5      44  \n",
              "5419                   0.0          0    15       2      44  \n",
              "5381                   0.0          0    15       2       6  \n",
              "3899                   0.0          0    14      37       9  \n",
              "\n",
              "[5 rows x 26 columns]"
            ]
          },
          "execution_count": 31,
          "metadata": {},
          "output_type": "execute_result"
        }
      ],
      "source": [
        "df_balanced.head()"
      ]
    },
    {
      "cell_type": "markdown",
      "metadata": {
        "id": "jjkYDkXll1Ma"
      },
      "source": [
        "**Création des vecteurs X et Y**"
      ]
    },
    {
      "cell_type": "code",
      "execution_count": 25,
      "metadata": {
        "colab": {
          "base_uri": "https://localhost:8080/"
        },
        "id": "mBocF8Ysl5Op",
        "outputId": "2bc6f770-f6c9-4f86-f3b1-b951b97f522f"
      },
      "outputs": [
        {
          "name": "stdout",
          "output_type": "stream",
          "text": [
            "Shape de X : (7354, 25)\n",
            "Shape de y : (7354,)\n"
          ]
        }
      ],
      "source": [
        "# Sélection de la target\n",
        "  # Use the scaled DataFrame df_balanced\n",
        "\n",
        "target = 'Robot_ProtectiveStop'\n",
        "Y = df_balanced[target].values  # Access target from data\n",
        "\n",
        "# Sélection des features (exclure les colonnes non pertinentes)\n",
        "# Exclude non-numeric columns and the target column\n",
        "features = [col for col in df_balanced.columns if df_balanced[col].dtype != 'object' and col != target]\n",
        "X = df_balanced[features].values  # Access features from data\n",
        "\n",
        "# Vérification des dimensions\n",
        "print(\"Shape de X :\", X.shape)\n",
        "print(\"Shape de y :\", Y.shape)\n",
        "\n"
      ]
    },
    {
      "cell_type": "code",
      "execution_count": 41,
      "metadata": {
        "id": "z3K-FIjlLi7k"
      },
      "outputs": [],
      "source": [
        "# prompt: je veux telecherger le x sous un csv\n",
        "\n",
        "import pandas as pd\n",
        "# Assuming 'X' is your NumPy array and you want to save it as a CSV\n",
        "\n",
        "# Convert the NumPy array to a Pandas DataFrame (optional but recommended)\n",
        "X_df = pd.DataFrame(X)\n",
        "\n",
        "# Save the DataFrame to a CSV file\n",
        "X_df.to_csv('X.csv', index=False)  # Set index=False to avoid saving row indices\n",
        "\n",
        "\n"
      ]
    },
    {
      "cell_type": "markdown",
      "metadata": {
        "id": "huZ_kt7dpZTG"
      },
      "source": [
        "Préparation données pour le modèle LSTM"
      ]
    },
    {
      "cell_type": "code",
      "execution_count": 26,
      "metadata": {
        "colab": {
          "base_uri": "https://localhost:8080/"
        },
        "id": "xAKVPQmapaE8",
        "outputId": "46e85031-5df3-4243-8935-a89651c19f78"
      },
      "outputs": [
        {
          "name": "stdout",
          "output_type": "stream",
          "text": [
            "(7344, 10, 25) (7344,)\n"
          ]
        }
      ],
      "source": [
        "# Création des séquences temporelles\n",
        "def create_sequences(X, Y, time_steps=10):\n",
        "    X_seq, Y_seq = [], []\n",
        "    for i in range(len(X) - time_steps):\n",
        "        X_seq.append(X[i:i + time_steps])  # Séquence des 10 dernières valeurs - using array slicing\n",
        "        Y_seq.append(Y[i + time_steps])  # Valeur suivante - using array slicing\n",
        "    return np.array(X_seq), np.array(Y_seq)\n",
        "\n",
        "X_seq, Y_seq = create_sequences(X, Y, time_steps=10)\n",
        "print(X_seq.shape, Y_seq.shape)"
      ]
    },
    {
      "cell_type": "code",
      "execution_count": 27,
      "metadata": {
        "colab": {
          "base_uri": "https://localhost:8080/"
        },
        "id": "G36ujn3wqNY9",
        "outputId": "506049f4-06c7-4c54-cfc4-a8cd449ff345"
      },
      "outputs": [
        {
          "name": "stdout",
          "output_type": "stream",
          "text": [
            "[1. 1. 0. ... 1. 1. 1.]\n"
          ]
        }
      ],
      "source": [
        "#Diviser les données en un ensemble d'entraînement et un ensemble de test\n",
        "from sklearn.model_selection import train_test_split\n",
        "X_train, X_test, Y_train, Y_test = train_test_split(X_seq, Y_seq, test_size=0.2, random_state=42)\n",
        "print(Y_test)\n"
      ]
    },
    {
      "cell_type": "code",
      "execution_count": 28,
      "metadata": {
        "colab": {
          "base_uri": "https://localhost:8080/",
          "height": 1000
        },
        "id": "AV09wqMzlx64",
        "outputId": "ca55ae40-1183-4487-a1c2-03b2e4879e2d"
      },
      "outputs": [
        {
          "name": "stdout",
          "output_type": "stream",
          "text": [
            "float64\n",
            "float64\n",
            "<class 'numpy.ndarray'> <class 'numpy.ndarray'>\n"
          ]
        },
        {
          "name": "stderr",
          "output_type": "stream",
          "text": [
            "/usr/local/lib/python3.11/dist-packages/keras/src/layers/rnn/rnn.py:200: UserWarning: Do not pass an `input_shape`/`input_dim` argument to a layer. When using Sequential models, prefer using an `Input(shape)` object as the first layer in the model instead.\n",
            "  super().__init__(**kwargs)\n"
          ]
        },
        {
          "data": {
            "text/html": [
              "<pre style=\"white-space:pre;overflow-x:auto;line-height:normal;font-family:Menlo,'DejaVu Sans Mono',consolas,'Courier New',monospace\"><span style=\"font-weight: bold\">Model: \"sequential_2\"</span>\n",
              "</pre>\n"
            ],
            "text/plain": [
              "\u001b[1mModel: \"sequential_2\"\u001b[0m\n"
            ]
          },
          "metadata": {},
          "output_type": "display_data"
        },
        {
          "data": {
            "text/html": [
              "<pre style=\"white-space:pre;overflow-x:auto;line-height:normal;font-family:Menlo,'DejaVu Sans Mono',consolas,'Courier New',monospace\">┏━━━━━━━━━━━━━━━━━━━━━━━━━━━━━━━━━━━━━━┳━━━━━━━━━━━━━━━━━━━━━━━━━━━━━┳━━━━━━━━━━━━━━━━━┓\n",
              "┃<span style=\"font-weight: bold\"> Layer (type)                         </span>┃<span style=\"font-weight: bold\"> Output Shape                </span>┃<span style=\"font-weight: bold\">         Param # </span>┃\n",
              "┡━━━━━━━━━━━━━━━━━━━━━━━━━━━━━━━━━━━━━━╇━━━━━━━━━━━━━━━━━━━━━━━━━━━━━╇━━━━━━━━━━━━━━━━━┩\n",
              "│ lstm_4 (<span style=\"color: #0087ff; text-decoration-color: #0087ff\">LSTM</span>)                        │ (<span style=\"color: #00d7ff; text-decoration-color: #00d7ff\">None</span>, <span style=\"color: #00af00; text-decoration-color: #00af00\">10</span>, <span style=\"color: #00af00; text-decoration-color: #00af00\">64</span>)              │          <span style=\"color: #00af00; text-decoration-color: #00af00\">23,040</span> │\n",
              "├──────────────────────────────────────┼─────────────────────────────┼─────────────────┤\n",
              "│ dropout_4 (<span style=\"color: #0087ff; text-decoration-color: #0087ff\">Dropout</span>)                  │ (<span style=\"color: #00d7ff; text-decoration-color: #00d7ff\">None</span>, <span style=\"color: #00af00; text-decoration-color: #00af00\">10</span>, <span style=\"color: #00af00; text-decoration-color: #00af00\">64</span>)              │               <span style=\"color: #00af00; text-decoration-color: #00af00\">0</span> │\n",
              "├──────────────────────────────────────┼─────────────────────────────┼─────────────────┤\n",
              "│ lstm_5 (<span style=\"color: #0087ff; text-decoration-color: #0087ff\">LSTM</span>)                        │ (<span style=\"color: #00d7ff; text-decoration-color: #00d7ff\">None</span>, <span style=\"color: #00af00; text-decoration-color: #00af00\">32</span>)                  │          <span style=\"color: #00af00; text-decoration-color: #00af00\">12,416</span> │\n",
              "├──────────────────────────────────────┼─────────────────────────────┼─────────────────┤\n",
              "│ dropout_5 (<span style=\"color: #0087ff; text-decoration-color: #0087ff\">Dropout</span>)                  │ (<span style=\"color: #00d7ff; text-decoration-color: #00d7ff\">None</span>, <span style=\"color: #00af00; text-decoration-color: #00af00\">32</span>)                  │               <span style=\"color: #00af00; text-decoration-color: #00af00\">0</span> │\n",
              "├──────────────────────────────────────┼─────────────────────────────┼─────────────────┤\n",
              "│ dense_2 (<span style=\"color: #0087ff; text-decoration-color: #0087ff\">Dense</span>)                      │ (<span style=\"color: #00d7ff; text-decoration-color: #00d7ff\">None</span>, <span style=\"color: #00af00; text-decoration-color: #00af00\">1</span>)                   │              <span style=\"color: #00af00; text-decoration-color: #00af00\">33</span> │\n",
              "└──────────────────────────────────────┴─────────────────────────────┴─────────────────┘\n",
              "</pre>\n"
            ],
            "text/plain": [
              "┏━━━━━━━━━━━━━━━━━━━━━━━━━━━━━━━━━━━━━━┳━━━━━━━━━━━━━━━━━━━━━━━━━━━━━┳━━━━━━━━━━━━━━━━━┓\n",
              "┃\u001b[1m \u001b[0m\u001b[1mLayer (type)                        \u001b[0m\u001b[1m \u001b[0m┃\u001b[1m \u001b[0m\u001b[1mOutput Shape               \u001b[0m\u001b[1m \u001b[0m┃\u001b[1m \u001b[0m\u001b[1m        Param #\u001b[0m\u001b[1m \u001b[0m┃\n",
              "┡━━━━━━━━━━━━━━━━━━━━━━━━━━━━━━━━━━━━━━╇━━━━━━━━━━━━━━━━━━━━━━━━━━━━━╇━━━━━━━━━━━━━━━━━┩\n",
              "│ lstm_4 (\u001b[38;5;33mLSTM\u001b[0m)                        │ (\u001b[38;5;45mNone\u001b[0m, \u001b[38;5;34m10\u001b[0m, \u001b[38;5;34m64\u001b[0m)              │          \u001b[38;5;34m23,040\u001b[0m │\n",
              "├──────────────────────────────────────┼─────────────────────────────┼─────────────────┤\n",
              "│ dropout_4 (\u001b[38;5;33mDropout\u001b[0m)                  │ (\u001b[38;5;45mNone\u001b[0m, \u001b[38;5;34m10\u001b[0m, \u001b[38;5;34m64\u001b[0m)              │               \u001b[38;5;34m0\u001b[0m │\n",
              "├──────────────────────────────────────┼─────────────────────────────┼─────────────────┤\n",
              "│ lstm_5 (\u001b[38;5;33mLSTM\u001b[0m)                        │ (\u001b[38;5;45mNone\u001b[0m, \u001b[38;5;34m32\u001b[0m)                  │          \u001b[38;5;34m12,416\u001b[0m │\n",
              "├──────────────────────────────────────┼─────────────────────────────┼─────────────────┤\n",
              "│ dropout_5 (\u001b[38;5;33mDropout\u001b[0m)                  │ (\u001b[38;5;45mNone\u001b[0m, \u001b[38;5;34m32\u001b[0m)                  │               \u001b[38;5;34m0\u001b[0m │\n",
              "├──────────────────────────────────────┼─────────────────────────────┼─────────────────┤\n",
              "│ dense_2 (\u001b[38;5;33mDense\u001b[0m)                      │ (\u001b[38;5;45mNone\u001b[0m, \u001b[38;5;34m1\u001b[0m)                   │              \u001b[38;5;34m33\u001b[0m │\n",
              "└──────────────────────────────────────┴─────────────────────────────┴─────────────────┘\n"
            ]
          },
          "metadata": {},
          "output_type": "display_data"
        },
        {
          "data": {
            "text/html": [
              "<pre style=\"white-space:pre;overflow-x:auto;line-height:normal;font-family:Menlo,'DejaVu Sans Mono',consolas,'Courier New',monospace\"><span style=\"font-weight: bold\"> Total params: </span><span style=\"color: #00af00; text-decoration-color: #00af00\">35,489</span> (138.63 KB)\n",
              "</pre>\n"
            ],
            "text/plain": [
              "\u001b[1m Total params: \u001b[0m\u001b[38;5;34m35,489\u001b[0m (138.63 KB)\n"
            ]
          },
          "metadata": {},
          "output_type": "display_data"
        },
        {
          "data": {
            "text/html": [
              "<pre style=\"white-space:pre;overflow-x:auto;line-height:normal;font-family:Menlo,'DejaVu Sans Mono',consolas,'Courier New',monospace\"><span style=\"font-weight: bold\"> Trainable params: </span><span style=\"color: #00af00; text-decoration-color: #00af00\">35,489</span> (138.63 KB)\n",
              "</pre>\n"
            ],
            "text/plain": [
              "\u001b[1m Trainable params: \u001b[0m\u001b[38;5;34m35,489\u001b[0m (138.63 KB)\n"
            ]
          },
          "metadata": {},
          "output_type": "display_data"
        },
        {
          "data": {
            "text/html": [
              "<pre style=\"white-space:pre;overflow-x:auto;line-height:normal;font-family:Menlo,'DejaVu Sans Mono',consolas,'Courier New',monospace\"><span style=\"font-weight: bold\"> Non-trainable params: </span><span style=\"color: #00af00; text-decoration-color: #00af00\">0</span> (0.00 B)\n",
              "</pre>\n"
            ],
            "text/plain": [
              "\u001b[1m Non-trainable params: \u001b[0m\u001b[38;5;34m0\u001b[0m (0.00 B)\n"
            ]
          },
          "metadata": {},
          "output_type": "display_data"
        },
        {
          "name": "stdout",
          "output_type": "stream",
          "text": [
            "Epoch 1/20\n",
            "\u001b[1m147/147\u001b[0m \u001b[32m━━━━━━━━━━━━━━━━━━━━\u001b[0m\u001b[37m\u001b[0m \u001b[1m10s\u001b[0m 29ms/step - accuracy: 0.6848 - loss: 0.5792 - precision_2: 0.6859 - recall_2: 0.7147 - val_accuracy: 0.8281 - val_loss: 0.3866 - val_precision_2: 0.8289 - val_recall_2: 0.8316\n",
            "Epoch 2/20\n",
            "\u001b[1m147/147\u001b[0m \u001b[32m━━━━━━━━━━━━━━━━━━━━\u001b[0m\u001b[37m\u001b[0m \u001b[1m4s\u001b[0m 23ms/step - accuracy: 0.8324 - loss: 0.3882 - precision_2: 0.8351 - recall_2: 0.8255 - val_accuracy: 0.8902 - val_loss: 0.2663 - val_precision_2: 0.9159 - val_recall_2: 0.8620\n",
            "Epoch 3/20\n",
            "\u001b[1m147/147\u001b[0m \u001b[32m━━━━━━━━━━━━━━━━━━━━\u001b[0m\u001b[37m\u001b[0m \u001b[1m4s\u001b[0m 16ms/step - accuracy: 0.8649 - loss: 0.3062 - precision_2: 0.8656 - recall_2: 0.8682 - val_accuracy: 0.9140 - val_loss: 0.2273 - val_precision_2: 0.9458 - val_recall_2: 0.8805\n",
            "Epoch 4/20\n",
            "\u001b[1m147/147\u001b[0m \u001b[32m━━━━━━━━━━━━━━━━━━━━\u001b[0m\u001b[37m\u001b[0m \u001b[1m3s\u001b[0m 18ms/step - accuracy: 0.9036 - loss: 0.2378 - precision_2: 0.9003 - recall_2: 0.9101 - val_accuracy: 0.9302 - val_loss: 0.1748 - val_precision_2: 0.9414 - val_recall_2: 0.9192\n",
            "Epoch 5/20\n",
            "\u001b[1m147/147\u001b[0m \u001b[32m━━━━━━━━━━━━━━━━━━━━\u001b[0m\u001b[37m\u001b[0m \u001b[1m3s\u001b[0m 23ms/step - accuracy: 0.9345 - loss: 0.1706 - precision_2: 0.9353 - recall_2: 0.9349 - val_accuracy: 0.9421 - val_loss: 0.1555 - val_precision_2: 0.9148 - val_recall_2: 0.9764\n",
            "Epoch 6/20\n",
            "\u001b[1m147/147\u001b[0m \u001b[32m━━━━━━━━━━━━━━━━━━━━\u001b[0m\u001b[37m\u001b[0m \u001b[1m5s\u001b[0m 24ms/step - accuracy: 0.9417 - loss: 0.1566 - precision_2: 0.9344 - recall_2: 0.9510 - val_accuracy: 0.9574 - val_loss: 0.1174 - val_precision_2: 0.9459 - val_recall_2: 0.9714\n",
            "Epoch 7/20\n",
            "\u001b[1m147/147\u001b[0m \u001b[32m━━━━━━━━━━━━━━━━━━━━\u001b[0m\u001b[37m\u001b[0m \u001b[1m2s\u001b[0m 16ms/step - accuracy: 0.9384 - loss: 0.1537 - precision_2: 0.9366 - recall_2: 0.9402 - val_accuracy: 0.9685 - val_loss: 0.0987 - val_precision_2: 0.9558 - val_recall_2: 0.9832\n",
            "Epoch 8/20\n",
            "\u001b[1m147/147\u001b[0m \u001b[32m━━━━━━━━━━━━━━━━━━━━\u001b[0m\u001b[37m\u001b[0m \u001b[1m2s\u001b[0m 16ms/step - accuracy: 0.9342 - loss: 0.1678 - precision_2: 0.9301 - recall_2: 0.9394 - val_accuracy: 0.9685 - val_loss: 0.0973 - val_precision_2: 0.9603 - val_recall_2: 0.9781\n",
            "Epoch 9/20\n",
            "\u001b[1m147/147\u001b[0m \u001b[32m━━━━━━━━━━━━━━━━━━━━\u001b[0m\u001b[37m\u001b[0m \u001b[1m3s\u001b[0m 18ms/step - accuracy: 0.9688 - loss: 0.1002 - precision_2: 0.9636 - recall_2: 0.9755 - val_accuracy: 0.9711 - val_loss: 0.0866 - val_precision_2: 0.9531 - val_recall_2: 0.9916\n",
            "Epoch 10/20\n",
            "\u001b[1m147/147\u001b[0m \u001b[32m━━━━━━━━━━━━━━━━━━━━\u001b[0m\u001b[37m\u001b[0m \u001b[1m3s\u001b[0m 23ms/step - accuracy: 0.9668 - loss: 0.0972 - precision_2: 0.9612 - recall_2: 0.9718 - val_accuracy: 0.9745 - val_loss: 0.0728 - val_precision_2: 0.9608 - val_recall_2: 0.9899\n",
            "Epoch 11/20\n",
            "\u001b[1m147/147\u001b[0m \u001b[32m━━━━━━━━━━━━━━━━━━━━\u001b[0m\u001b[37m\u001b[0m \u001b[1m4s\u001b[0m 17ms/step - accuracy: 0.9682 - loss: 0.0934 - precision_2: 0.9655 - recall_2: 0.9706 - val_accuracy: 0.9736 - val_loss: 0.0686 - val_precision_2: 0.9592 - val_recall_2: 0.9899\n",
            "Epoch 12/20\n",
            "\u001b[1m147/147\u001b[0m \u001b[32m━━━━━━━━━━━━━━━━━━━━\u001b[0m\u001b[37m\u001b[0m \u001b[1m3s\u001b[0m 17ms/step - accuracy: 0.9677 - loss: 0.0887 - precision_2: 0.9619 - recall_2: 0.9734 - val_accuracy: 0.9779 - val_loss: 0.0631 - val_precision_2: 0.9846 - val_recall_2: 0.9714\n",
            "Epoch 13/20\n",
            "\u001b[1m147/147\u001b[0m \u001b[32m━━━━━━━━━━━━━━━━━━━━\u001b[0m\u001b[37m\u001b[0m \u001b[1m6s\u001b[0m 22ms/step - accuracy: 0.9677 - loss: 0.0845 - precision_2: 0.9646 - recall_2: 0.9712 - val_accuracy: 0.9634 - val_loss: 0.0960 - val_precision_2: 0.9893 - val_recall_2: 0.9377\n",
            "Epoch 14/20\n",
            "\u001b[1m147/147\u001b[0m \u001b[32m━━━━━━━━━━━━━━━━━━━━\u001b[0m\u001b[37m\u001b[0m \u001b[1m5s\u001b[0m 19ms/step - accuracy: 0.9678 - loss: 0.0898 - precision_2: 0.9680 - recall_2: 0.9677 - val_accuracy: 0.9813 - val_loss: 0.0493 - val_precision_2: 0.9704 - val_recall_2: 0.9933\n",
            "Epoch 15/20\n",
            "\u001b[1m147/147\u001b[0m \u001b[32m━━━━━━━━━━━━━━━━━━━━\u001b[0m\u001b[37m\u001b[0m \u001b[1m5s\u001b[0m 19ms/step - accuracy: 0.9844 - loss: 0.0521 - precision_2: 0.9834 - recall_2: 0.9859 - val_accuracy: 0.9566 - val_loss: 0.1214 - val_precision_2: 0.9236 - val_recall_2: 0.9966\n",
            "Epoch 16/20\n",
            "\u001b[1m147/147\u001b[0m \u001b[32m━━━━━━━━━━━━━━━━━━━━\u001b[0m\u001b[37m\u001b[0m \u001b[1m5s\u001b[0m 34ms/step - accuracy: 0.9740 - loss: 0.0705 - precision_2: 0.9694 - recall_2: 0.9788 - val_accuracy: 0.9728 - val_loss: 0.0752 - val_precision_2: 0.9947 - val_recall_2: 0.9512\n",
            "Epoch 17/20\n",
            "\u001b[1m147/147\u001b[0m \u001b[32m━━━━━━━━━━━━━━━━━━━━\u001b[0m\u001b[37m\u001b[0m \u001b[1m3s\u001b[0m 20ms/step - accuracy: 0.9766 - loss: 0.0623 - precision_2: 0.9777 - recall_2: 0.9741 - val_accuracy: 0.9872 - val_loss: 0.0468 - val_precision_2: 0.9898 - val_recall_2: 0.9848\n",
            "Epoch 18/20\n",
            "\u001b[1m147/147\u001b[0m \u001b[32m━━━━━━━━━━━━━━━━━━━━\u001b[0m\u001b[37m\u001b[0m \u001b[1m5s\u001b[0m 17ms/step - accuracy: 0.9852 - loss: 0.0441 - precision_2: 0.9855 - recall_2: 0.9855 - val_accuracy: 0.9855 - val_loss: 0.0419 - val_precision_2: 0.9832 - val_recall_2: 0.9882\n",
            "Epoch 19/20\n",
            "\u001b[1m147/147\u001b[0m \u001b[32m━━━━━━━━━━━━━━━━━━━━\u001b[0m\u001b[37m\u001b[0m \u001b[1m8s\u001b[0m 36ms/step - accuracy: 0.9859 - loss: 0.0403 - precision_2: 0.9850 - recall_2: 0.9868 - val_accuracy: 0.9864 - val_loss: 0.0420 - val_precision_2: 0.9769 - val_recall_2: 0.9966\n",
            "Epoch 20/20\n",
            "\u001b[1m147/147\u001b[0m \u001b[32m━━━━━━━━━━━━━━━━━━━━\u001b[0m\u001b[37m\u001b[0m \u001b[1m3s\u001b[0m 17ms/step - accuracy: 0.9865 - loss: 0.0417 - precision_2: 0.9863 - recall_2: 0.9871 - val_accuracy: 0.9889 - val_loss: 0.0320 - val_precision_2: 0.9915 - val_recall_2: 0.9865\n",
            "float64\n",
            "float64\n",
            "<class 'numpy.ndarray'> <class 'numpy.ndarray'>\n"
          ]
        }
      ],
      "source": [
        "import tensorflow as tf\n",
        "from tensorflow.keras.models import Sequential\n",
        "from tensorflow.keras.layers import LSTM, Dense, Dropout\n",
        "\n",
        "model = Sequential([\n",
        "    LSTM(64, input_shape=(10, X_train.shape[2]), return_sequences=True),  # X_train.shape[2] = nombre de features\n",
        "    Dropout(0.3),\n",
        "    LSTM(32),\n",
        "    Dropout(0.3),\n",
        "    Dense(1, activation='sigmoid')  # Couche de sortie unique pour classification binaire\n",
        "])\n",
        "\n",
        "model.compile(\n",
        "    optimizer='adam',\n",
        "    loss='binary_crossentropy',  # Fonction de perte adaptée\n",
        "    metrics=['accuracy', tf.keras.metrics.Precision(), tf.keras.metrics.Recall()]\n",
        ")\n",
        "\n",
        "print(X_train.dtype)  # Check the data type of the elements in X_train\n",
        "print(Y_train.dtype)  # Check the data type of the elements in Y_train\n",
        "print(type(X_train), type(Y_train))\n",
        "\n",
        "model.summary()\n",
        "\n",
        "history = model.fit(\n",
        "    X_train, Y_train,\n",
        "    epochs=20,\n",
        "    batch_size=32,\n",
        "    validation_split=0.2,  # ou validation_data=(X_val, y_val) si tu as un set dédié\n",
        "    verbose=1\n",
        ")\n",
        "print(X_train.dtype)  # Check the data type of the elements in X_train\n",
        "print(Y_train.dtype)  # Check the data type of the elements in Y_train\n",
        "print(type(X_train), type(Y_train))\n",
        "\n"
      ]
    },
    {
      "cell_type": "code",
      "execution_count": 29,
      "metadata": {
        "colab": {
          "base_uri": "https://localhost:8080/",
          "height": 490
        },
        "id": "kPR12wpRv12b",
        "outputId": "f116f41d-9cff-42fa-e253-1bc0baa9cb25"
      },
      "outputs": [
        {
          "name": "stdout",
          "output_type": "stream",
          "text": [
            "\u001b[1m46/46\u001b[0m \u001b[32m━━━━━━━━━━━━━━━━━━━━\u001b[0m\u001b[37m\u001b[0m \u001b[1m1s\u001b[0m 12ms/step\n"
          ]
        },
        {
          "data": {
            "image/png": "[encoded data removed]",
            "text/plain": [
              "<Figure size 640x480 with 2 Axes>"
            ]
          },
          "metadata": {},
          "output_type": "display_data"
        }
      ],
      "source": [
        "from sklearn.metrics import confusion_matrix, ConfusionMatrixDisplay\n",
        "import matplotlib.pyplot as plt\n",
        "\n",
        "# Prédictions sur le set de test\n",
        "y_pred_proba = model.predict(X_test)\n",
        "y_pred = (y_pred_proba > 0.5).astype(int)  # Seuillage à 0.5\n",
        "\n",
        "# Matrice de confusion\n",
        "cm = confusion_matrix(Y_test, y_pred)\n",
        "disp = ConfusionMatrixDisplay(confusion_matrix=cm)\n",
        "disp.plot(cmap=plt.cm.Blues)\n",
        "plt.title(\"Matrice de confusion\")\n",
        "plt.show()\n"
      ]
    },
    {
      "cell_type": "code",
      "execution_count": 14,
      "metadata": {
        "colab": {
          "base_uri": "https://localhost:8080/"
        },
        "id": "H8fSAfQa25Ti",
        "outputId": "0d8d2918-671a-4a20-a340-62b95636164c"
      },
      "outputs": [
        {
          "name": "stdout",
          "output_type": "stream",
          "text": [
            "Collecting keras-tuner\n",
            "  Downloading keras_tuner-1.4.7-py3-none-any.whl.metadata (5.4 kB)\n",
            "Requirement already satisfied: keras in /usr/local/lib/python3.11/dist-packages (from keras-tuner) (3.8.0)\n",
            "Requirement already satisfied: packaging in /usr/local/lib/python3.11/dist-packages (from keras-tuner) (24.2)\n",
            "Requirement already satisfied: requests in /usr/local/lib/python3.11/dist-packages (from keras-tuner) (2.32.3)\n",
            "Collecting kt-legacy (from keras-tuner)\n",
            "  Downloading kt_legacy-1.0.5-py3-none-any.whl.metadata (221 bytes)\n",
            "Requirement already satisfied: absl-py in /usr/local/lib/python3.11/dist-packages (from keras->keras-tuner) (1.4.0)\n",
            "Requirement already satisfied: numpy in /usr/local/lib/python3.11/dist-packages (from keras->keras-tuner) (2.0.2)\n",
            "Requirement already satisfied: rich in /usr/local/lib/python3.11/dist-packages (from keras->keras-tuner) (13.9.4)\n",
            "Requirement already satisfied: namex in /usr/local/lib/python3.11/dist-packages (from keras->keras-tuner) (0.0.8)\n",
            "Requirement already satisfied: h5py in /usr/local/lib/python3.11/dist-packages (from keras->keras-tuner) (3.13.0)\n",
            "Requirement already satisfied: optree in /usr/local/lib/python3.11/dist-packages (from keras->keras-tuner) (0.14.1)\n",
            "Requirement already satisfied: ml-dtypes in /usr/local/lib/python3.11/dist-packages (from keras->keras-tuner) (0.4.1)\n",
            "Requirement already satisfied: charset-normalizer<4,>=2 in /usr/local/lib/python3.11/dist-packages (from requests->keras-tuner) (3.4.1)\n",
            "Requirement already satisfied: idna<4,>=2.5 in /usr/local/lib/python3.11/dist-packages (from requests->keras-tuner) (3.10)\n",
            "Requirement already satisfied: urllib3<3,>=1.21.1 in /usr/local/lib/python3.11/dist-packages (from requests->keras-tuner) (2.3.0)\n",
            "Requirement already satisfied: certifi>=2017.4.17 in /usr/local/lib/python3.11/dist-packages (from requests->keras-tuner) (2025.1.31)\n",
            "Requirement already satisfied: typing-extensions>=4.5.0 in /usr/local/lib/python3.11/dist-packages (from optree->keras->keras-tuner) (4.13.1)\n",
            "Requirement already satisfied: markdown-it-py>=2.2.0 in /usr/local/lib/python3.11/dist-packages (from rich->keras->keras-tuner) (3.0.0)\n",
            "Requirement already satisfied: pygments<3.0.0,>=2.13.0 in /usr/local/lib/python3.11/dist-packages (from rich->keras->keras-tuner) (2.18.0)\n",
            "Requirement already satisfied: mdurl~=0.1 in /usr/local/lib/python3.11/dist-packages (from markdown-it-py>=2.2.0->rich->keras->keras-tuner) (0.1.2)\n",
            "Downloading keras_tuner-1.4.7-py3-none-any.whl (129 kB)\n",
            "\u001b[2K   \u001b[90m━━━━━━━━━━━━━━━━━━━━━━━━━━━━━━━━━━━━━━━━\u001b[0m \u001b[32m129.1/129.1 kB\u001b[0m \u001b[31m2.7 MB/s\u001b[0m eta \u001b[36m0:00:00\u001b[0m\n",
            "\u001b[?25hDownloading kt_legacy-1.0.5-py3-none-any.whl (9.6 kB)\n",
            "Installing collected packages: kt-legacy, keras-tuner\n",
            "Successfully installed keras-tuner-1.4.7 kt-legacy-1.0.5\n"
          ]
        }
      ],
      "source": [
        "pip install keras-tuner --upgrade\n"
      ]
    },
    {
      "cell_type": "markdown",
      "metadata": {
        "id": "40vznpiM3Xin"
      },
      "source": [
        "Test de plusieurs jeux d'hyperparamètres"
      ]
    },
    {
      "cell_type": "code",
      "execution_count": 32,
      "metadata": {
        "colab": {
          "base_uri": "https://localhost:8080/"
        },
        "id": "bR-WrJHp3XD6",
        "outputId": "41fd9213-cee1-4029-9b45-dd2b6df2d95b"
      },
      "outputs": [
        {
          "name": "stdout",
          "output_type": "stream",
          "text": [
            "Trial 10 Complete [00h 00m 48s]\n",
            "val_accuracy: 0.9429787397384644\n",
            "\n",
            "Best val_accuracy So Far: 0.9821276664733887\n",
            "Total elapsed time: 00h 09m 14s\n"
          ]
        }
      ],
      "source": [
        "import keras_tuner as kt\n",
        "from tensorflow.keras.models import Sequential\n",
        "from tensorflow.keras.layers import LSTM, Dense, Dropout\n",
        "\n",
        "def build_model(hp):\n",
        "    model = Sequential()\n",
        "    model.add(LSTM(\n",
        "        units=hp.Int('units_1', min_value=32, max_value=128, step=32),\n",
        "        return_sequences=True,\n",
        "        input_shape=(X_train.shape[1], X_train.shape[2])\n",
        "    ))\n",
        "    model.add(Dropout(hp.Float('dropout_1', min_value=0.2, max_value=0.5, step=0.1)))\n",
        "\n",
        "    model.add(LSTM(\n",
        "        units=hp.Int('units_2', min_value=16, max_value=64, step=16)\n",
        "    ))\n",
        "    model.add(Dropout(hp.Float('dropout_2', min_value=0.2, max_value=0.5, step=0.1)))\n",
        "\n",
        "    model.add(Dense(1, activation='sigmoid'))\n",
        "\n",
        "    model.compile(\n",
        "        optimizer='adam',\n",
        "        loss='binary_crossentropy',\n",
        "        metrics=['accuracy', tf.keras.metrics.Precision(), tf.keras.metrics.Recall()]\n",
        "    )\n",
        "\n",
        "    return model\n",
        "\n",
        "tuner = kt.RandomSearch(\n",
        "    build_model,\n",
        "    objective='val_accuracy',\n",
        "    max_trials=10,  # essaie 10 combinaisons différentes\n",
        "    executions_per_trial=1,\n",
        "    overwrite=True,\n",
        "    directory='lstm_tuning',\n",
        "    project_name='robot_lstm'\n",
        ")\n",
        "\n",
        "tuner.search(X_train, Y_train,\n",
        "             epochs=10,\n",
        "             batch_size=32,\n",
        "             validation_split=0.2,\n",
        "             verbose=1)\n",
        "\n"
      ]
    },
    {
      "cell_type": "markdown",
      "metadata": {
        "id": "qR-lBXBC5Isw"
      },
      "source": [
        "Récupération du meilleur modèle et affichage dues meilleurs hyperparamètres"
      ]
    },
    {
      "cell_type": "code",
      "execution_count": 16,
      "metadata": {
        "colab": {
          "base_uri": "https://localhost:8080/",
          "height": 472
        },
        "id": "zAQrx2-N5MMK",
        "outputId": "4346a9f0-f885-4ae6-fe1d-ea641fdbd174"
      },
      "outputs": [
        {
          "name": "stderr",
          "output_type": "stream",
          "text": [
            "/usr/local/lib/python3.11/dist-packages/keras/src/saving/saving_lib.py:757: UserWarning: Skipping variable loading for optimizer 'adam', because it has 2 variables whereas the saved optimizer has 18 variables. \n",
            "  saveable.load_own_variables(weights_store.get(inner_path))\n"
          ]
        },
        {
          "data": {
            "text/html": [
              "<pre style=\"white-space:pre;overflow-x:auto;line-height:normal;font-family:Menlo,'DejaVu Sans Mono',consolas,'Courier New',monospace\"><span style=\"font-weight: bold\">Model: \"sequential\"</span>\n",
              "</pre>\n"
            ],
            "text/plain": [
              "\u001b[1mModel: \"sequential\"\u001b[0m\n"
            ]
          },
          "metadata": {},
          "output_type": "display_data"
        },
        {
          "data": {
            "text/html": [
              "<pre style=\"white-space:pre;overflow-x:auto;line-height:normal;font-family:Menlo,'DejaVu Sans Mono',consolas,'Courier New',monospace\">┏━━━━━━━━━━━━━━━━━━━━━━━━━━━━━━━━━━━━━━┳━━━━━━━━━━━━━━━━━━━━━━━━━━━━━┳━━━━━━━━━━━━━━━━━┓\n",
              "┃<span style=\"font-weight: bold\"> Layer (type)                         </span>┃<span style=\"font-weight: bold\"> Output Shape                </span>┃<span style=\"font-weight: bold\">         Param # </span>┃\n",
              "┡━━━━━━━━━━━━━━━━━━━━━━━━━━━━━━━━━━━━━━╇━━━━━━━━━━━━━━━━━━━━━━━━━━━━━╇━━━━━━━━━━━━━━━━━┩\n",
              "│ lstm (<span style=\"color: #0087ff; text-decoration-color: #0087ff\">LSTM</span>)                          │ (<span style=\"color: #00d7ff; text-decoration-color: #00d7ff\">None</span>, <span style=\"color: #00af00; text-decoration-color: #00af00\">10</span>, <span style=\"color: #00af00; text-decoration-color: #00af00\">64</span>)              │          <span style=\"color: #00af00; text-decoration-color: #00af00\">23,040</span> │\n",
              "├──────────────────────────────────────┼─────────────────────────────┼─────────────────┤\n",
              "│ dropout (<span style=\"color: #0087ff; text-decoration-color: #0087ff\">Dropout</span>)                    │ (<span style=\"color: #00d7ff; text-decoration-color: #00d7ff\">None</span>, <span style=\"color: #00af00; text-decoration-color: #00af00\">10</span>, <span style=\"color: #00af00; text-decoration-color: #00af00\">64</span>)              │               <span style=\"color: #00af00; text-decoration-color: #00af00\">0</span> │\n",
              "├──────────────────────────────────────┼─────────────────────────────┼─────────────────┤\n",
              "│ lstm_1 (<span style=\"color: #0087ff; text-decoration-color: #0087ff\">LSTM</span>)                        │ (<span style=\"color: #00d7ff; text-decoration-color: #00d7ff\">None</span>, <span style=\"color: #00af00; text-decoration-color: #00af00\">64</span>)                  │          <span style=\"color: #00af00; text-decoration-color: #00af00\">33,024</span> │\n",
              "├──────────────────────────────────────┼─────────────────────────────┼─────────────────┤\n",
              "│ dropout_1 (<span style=\"color: #0087ff; text-decoration-color: #0087ff\">Dropout</span>)                  │ (<span style=\"color: #00d7ff; text-decoration-color: #00d7ff\">None</span>, <span style=\"color: #00af00; text-decoration-color: #00af00\">64</span>)                  │               <span style=\"color: #00af00; text-decoration-color: #00af00\">0</span> │\n",
              "├──────────────────────────────────────┼─────────────────────────────┼─────────────────┤\n",
              "│ dense (<span style=\"color: #0087ff; text-decoration-color: #0087ff\">Dense</span>)                        │ (<span style=\"color: #00d7ff; text-decoration-color: #00d7ff\">None</span>, <span style=\"color: #00af00; text-decoration-color: #00af00\">1</span>)                   │              <span style=\"color: #00af00; text-decoration-color: #00af00\">65</span> │\n",
              "└──────────────────────────────────────┴─────────────────────────────┴─────────────────┘\n",
              "</pre>\n"
            ],
            "text/plain": [
              "┏━━━━━━━━━━━━━━━━━━━━━━━━━━━━━━━━━━━━━━┳━━━━━━━━━━━━━━━━━━━━━━━━━━━━━┳━━━━━━━━━━━━━━━━━┓\n",
              "┃\u001b[1m \u001b[0m\u001b[1mLayer (type)                        \u001b[0m\u001b[1m \u001b[0m┃\u001b[1m \u001b[0m\u001b[1mOutput Shape               \u001b[0m\u001b[1m \u001b[0m┃\u001b[1m \u001b[0m\u001b[1m        Param #\u001b[0m\u001b[1m \u001b[0m┃\n",
              "┡━━━━━━━━━━━━━━━━━━━━━━━━━━━━━━━━━━━━━━╇━━━━━━━━━━━━━━━━━━━━━━━━━━━━━╇━━━━━━━━━━━━━━━━━┩\n",
              "│ lstm (\u001b[38;5;33mLSTM\u001b[0m)                          │ (\u001b[38;5;45mNone\u001b[0m, \u001b[38;5;34m10\u001b[0m, \u001b[38;5;34m64\u001b[0m)              │          \u001b[38;5;34m23,040\u001b[0m │\n",
              "├──────────────────────────────────────┼─────────────────────────────┼─────────────────┤\n",
              "│ dropout (\u001b[38;5;33mDropout\u001b[0m)                    │ (\u001b[38;5;45mNone\u001b[0m, \u001b[38;5;34m10\u001b[0m, \u001b[38;5;34m64\u001b[0m)              │               \u001b[38;5;34m0\u001b[0m │\n",
              "├──────────────────────────────────────┼─────────────────────────────┼─────────────────┤\n",
              "│ lstm_1 (\u001b[38;5;33mLSTM\u001b[0m)                        │ (\u001b[38;5;45mNone\u001b[0m, \u001b[38;5;34m64\u001b[0m)                  │          \u001b[38;5;34m33,024\u001b[0m │\n",
              "├──────────────────────────────────────┼─────────────────────────────┼─────────────────┤\n",
              "│ dropout_1 (\u001b[38;5;33mDropout\u001b[0m)                  │ (\u001b[38;5;45mNone\u001b[0m, \u001b[38;5;34m64\u001b[0m)                  │               \u001b[38;5;34m0\u001b[0m │\n",
              "├──────────────────────────────────────┼─────────────────────────────┼─────────────────┤\n",
              "│ dense (\u001b[38;5;33mDense\u001b[0m)                        │ (\u001b[38;5;45mNone\u001b[0m, \u001b[38;5;34m1\u001b[0m)                   │              \u001b[38;5;34m65\u001b[0m │\n",
              "└──────────────────────────────────────┴─────────────────────────────┴─────────────────┘\n"
            ]
          },
          "metadata": {},
          "output_type": "display_data"
        },
        {
          "data": {
            "text/html": [
              "<pre style=\"white-space:pre;overflow-x:auto;line-height:normal;font-family:Menlo,'DejaVu Sans Mono',consolas,'Courier New',monospace\"><span style=\"font-weight: bold\"> Total params: </span><span style=\"color: #00af00; text-decoration-color: #00af00\">56,129</span> (219.25 KB)\n",
              "</pre>\n"
            ],
            "text/plain": [
              "\u001b[1m Total params: \u001b[0m\u001b[38;5;34m56,129\u001b[0m (219.25 KB)\n"
            ]
          },
          "metadata": {},
          "output_type": "display_data"
        },
        {
          "data": {
            "text/html": [
              "<pre style=\"white-space:pre;overflow-x:auto;line-height:normal;font-family:Menlo,'DejaVu Sans Mono',consolas,'Courier New',monospace\"><span style=\"font-weight: bold\"> Trainable params: </span><span style=\"color: #00af00; text-decoration-color: #00af00\">56,129</span> (219.25 KB)\n",
              "</pre>\n"
            ],
            "text/plain": [
              "\u001b[1m Trainable params: \u001b[0m\u001b[38;5;34m56,129\u001b[0m (219.25 KB)\n"
            ]
          },
          "metadata": {},
          "output_type": "display_data"
        },
        {
          "data": {
            "text/html": [
              "<pre style=\"white-space:pre;overflow-x:auto;line-height:normal;font-family:Menlo,'DejaVu Sans Mono',consolas,'Courier New',monospace\"><span style=\"font-weight: bold\"> Non-trainable params: </span><span style=\"color: #00af00; text-decoration-color: #00af00\">0</span> (0.00 B)\n",
              "</pre>\n"
            ],
            "text/plain": [
              "\u001b[1m Non-trainable params: \u001b[0m\u001b[38;5;34m0\u001b[0m (0.00 B)\n"
            ]
          },
          "metadata": {},
          "output_type": "display_data"
        },
        {
          "name": "stdout",
          "output_type": "stream",
          "text": [
            "\u001b[1m46/46\u001b[0m \u001b[32m━━━━━━━━━━━━━━━━━━━━\u001b[0m\u001b[37m\u001b[0m \u001b[1m5s\u001b[0m 15ms/step - accuracy: 0.9677 - loss: 0.0913 - precision: 0.9612 - recall: 0.9725\n",
            "Accuracy: 0.9653 | Precision: 0.9650 | Recall: 0.9637\n",
            "Meilleurs hyperparamètres trouvés :\n",
            "Units LSTM 1: 64\n",
            "Dropout 1: 0.2\n",
            "Units LSTM 2: 64\n",
            "Dropout 2: 0.30000000000000004\n"
          ]
        }
      ],
      "source": [
        "best_model = tuner.get_best_models(num_models=1)[0]\n",
        "\n",
        "# Résumé\n",
        "best_model.summary()\n",
        "\n",
        "# Évaluation sur test set\n",
        "loss, acc, prec, recall = best_model.evaluate(X_test, Y_test)\n",
        "print(f\"Accuracy: {acc:.4f} | Precision: {prec:.4f} | Recall: {recall:.4f}\")\n",
        "best_hps = tuner.get_best_hyperparameters(1)[0]\n",
        "print(\"Meilleurs hyperparamètres trouvés :\")\n",
        "print(f\"Units LSTM 1: {best_hps.get('units_1')}\")\n",
        "print(f\"Dropout 1: {best_hps.get('dropout_1')}\")\n",
        "print(f\"Units LSTM 2: {best_hps.get('units_2')}\")\n",
        "print(f\"Dropout 2: {best_hps.get('dropout_2')}\")\n"
      ]
    },
    {
      "cell_type": "code",
      "execution_count": 33,
      "metadata": {
        "colab": {
          "base_uri": "https://localhost:8080/"
        },
        "id": "43yAKYGM_mKT",
        "outputId": "73366a6c-66a4-491d-a2cc-189ebe1f9fe2"
      },
      "outputs": [
        {
          "name": "stderr",
          "output_type": "stream",
          "text": [
            "WARNING:absl:You are saving your model as an HDF5 file via `model.save()` or `keras.saving.save_model(model)`. This file format is considered legacy. We recommend using instead the native Keras format, e.g. `model.save('my_model.keras')` or `keras.saving.save_model(model, 'my_model.keras')`. \n"
          ]
        }
      ],
      "source": [
        "# 2. Sauvegarde du modèle localement\n",
        "model.save(\"best_modelLSTM.h5\")"
      ]
    },
    {
      "cell_type": "markdown",
      "metadata": {
        "id": "-32akulyAV3e"
      },
      "source": [
        "Random Forest"
      ]
    },
    {
      "cell_type": "code",
      "execution_count": 34,
      "metadata": {
        "colab": {
          "base_uri": "https://localhost:8080/"
        },
        "id": "Vg98HKcjEnKB",
        "outputId": "e4e2db36-ab27-46c6-945d-216c0f51e7d8"
      },
      "outputs": [
        {
          "name": "stdout",
          "output_type": "stream",
          "text": [
            "Shape de X : (7354, 22)\n",
            "Shape de y : (7354,)\n",
            "Accuracy : 0.99\n",
            "Précision : 0.99\n",
            "Rappel : 1.00\n",
            "Score F1 : 0.99\n"
          ]
        }
      ],
      "source": [
        "#arbre de décision\n",
        "from sklearn.tree import DecisionTreeClassifier\n",
        "from sklearn.model_selection import train_test_split\n",
        "from sklearn.metrics import accuracy_score, classification_report, confusion_matrix, precision_score, recall_score, f1_score, roc_curve, auc\n",
        "import matplotlib.pyplot as plt\n",
        "from sklearn.tree import plot_tree\n",
        "\n",
        "df_balanced_forest = df_balanced.drop(columns=['hour', 'minute', 'second'])\n",
        "\n",
        "target = 'Robot_ProtectiveStop'\n",
        "Y_forest = df_balanced_forest[target].values  # Access target from data\n",
        "\n",
        "# Exclude non-numeric columns and the target column\n",
        "features = [col for col in df_balanced_forest.columns if df_balanced_forest[col].dtype != 'object' and col != target]\n",
        "X_forest = df_balanced_forest[features].values  # Access features from data\n",
        "\n",
        "# Vérification des dimensions\n",
        "print(\"Shape de X :\", X_forest.shape)\n",
        "print(\"Shape de y :\", Y_forest.shape)\n",
        "\n",
        "#Diviser les données en un ensemble d'entraînement et un ensemble de test\n",
        "X_train2, X_test2, Y_train2, Y_test2 = train_test_split(X_forest, Y_forest, test_size=0.2, random_state=42)\n",
        "\n",
        "#Créer et entraîner l'arbre de décision\n",
        "clf = DecisionTreeClassifier(random_state=42)\n",
        "clf.fit(X_train2, Y_train2)\n",
        "\n",
        "# Faire des prédictions sur l'ensemble de test\n",
        "Y_pred2 = clf.predict(X_test2)\n",
        "\n",
        "# 2. Accuracy\n",
        "accuracy = accuracy_score(Y_test2, Y_pred2)\n",
        "print(f\"Accuracy : {accuracy:.2f}\")\n",
        "\n",
        "# 3. Précision\n",
        "precision = precision_score(Y_test2, Y_pred2)\n",
        "print(f\"Précision : {precision:.2f}\")\n",
        "\n",
        "# 4. Rappel\n",
        "recall = recall_score(Y_test2, Y_pred2)\n",
        "print(f\"Rappel : {recall:.2f}\")\n",
        "\n",
        "# 5. Score F1\n",
        "f1 = f1_score(Y_test2, Y_pred2)\n",
        "print(f\"Score F1 : {f1:.2f}\")"
      ]
    },
    {
      "cell_type": "code",
      "execution_count": 35,
      "metadata": {
        "colab": {
          "base_uri": "https://localhost:8080/",
          "height": 410
        },
        "id": "OdXhnDYmKq-P",
        "outputId": "343ae402-6949-4f6a-b6cd-f591541c0fef"
      },
      "outputs": [
        {
          "data": {
            "image/png": "[encoded data removed]",
            "text/plain": [
              "<Figure size 600x400 with 2 Axes>"
            ]
          },
          "metadata": {},
          "output_type": "display_data"
        }
      ],
      "source": [
        "import seaborn as sns\n",
        "\n",
        "cm = confusion_matrix(Y_test2, Y_pred2)\n",
        "plt.figure(figsize=(6,4))\n",
        "sns.heatmap(cm, annot=True, fmt='d', cmap='Blues')\n",
        "plt.title(\"Matrice de confusion\")\n",
        "plt.xlabel(\"Prédictions\")\n",
        "plt.ylabel(\"Vérités\")\n",
        "plt.show()\n"
      ]
    },
    {
      "cell_type": "markdown",
      "metadata": {
        "id": "MVW6tpBnK_4R"
      },
      "source": [
        "Forêt Aléatoire\n"
      ]
    },
    {
      "cell_type": "code",
      "execution_count": 36,
      "metadata": {
        "colab": {
          "base_uri": "https://localhost:8080/",
          "height": 483
        },
        "id": "DZMIJaMJLDMN",
        "outputId": "41dad05d-564a-449c-cb48-24be2f9fa7df"
      },
      "outputs": [
        {
          "name": "stdout",
          "output_type": "stream",
          "text": [
            "Accuracy : 0.99\n",
            "Précision : 0.99\n",
            "Rappel : 1.00\n",
            "Score F1 : 0.99\n"
          ]
        },
        {
          "data": {
            "image/png": "[encoded data removed]",
            "text/plain": [
              "<Figure size 600x400 with 2 Axes>"
            ]
          },
          "metadata": {},
          "output_type": "display_data"
        }
      ],
      "source": [
        "#Forêt aléatoire\n",
        "from sklearn.ensemble import RandomForestClassifier\n",
        "\n",
        "# Créer et entraîner le modèle\n",
        "rf_clf = RandomForestClassifier(random_state=42)\n",
        "rf_clf.fit(X_train2, Y_train2)\n",
        "\n",
        "# Faire des prédictions sur l'ensemble de test\n",
        "Y_pred3 = rf_clf.predict(X_test2)\n",
        "\n",
        "# 2. Accuracy\n",
        "accuracy = accuracy_score(Y_test2, Y_pred3)\n",
        "print(f\"Accuracy : {accuracy:.2f}\")\n",
        "\n",
        "# 3. Précision\n",
        "precision = precision_score(Y_test2, Y_pred3)\n",
        "print(f\"Précision : {precision:.2f}\")\n",
        "\n",
        "# 4. Rappel\n",
        "recall = recall_score(Y_test2, Y_pred3)\n",
        "print(f\"Rappel : {recall:.2f}\")\n",
        "\n",
        "# 5. Score F1\n",
        "f1 = f1_score(Y_test2, Y_pred3)\n",
        "print(f\"Score F1 : {f1:.2f}\")\n",
        "\n",
        "import seaborn as sns\n",
        "\n",
        "cm = confusion_matrix(Y_test2, Y_pred3)\n",
        "plt.figure(figsize=(6,4))\n",
        "sns.heatmap(cm, annot=True, fmt='d', cmap='Blues')\n",
        "plt.title(\"Matrice de confusion\")\n",
        "plt.xlabel(\"Prédictions\")\n",
        "plt.ylabel(\"Vérités\")\n",
        "plt.show()"
      ]
    },
    {
      "cell_type": "code",
      "execution_count": 37,
      "metadata": {
        "colab": {
          "base_uri": "https://localhost:8080/",
          "height": 1000
        },
        "id": "I8NmkM3-B65i",
        "outputId": "984bc894-1df7-4f48-c7ca-e9dd430f4958"
      },
      "outputs": [
        {
          "name": "stdout",
          "output_type": "stream",
          "text": [
            "Requirement already satisfied: wandb in /usr/local/lib/python3.11/dist-packages (0.19.9)\n",
            "Requirement already satisfied: click!=8.0.0,>=7.1 in /usr/local/lib/python3.11/dist-packages (from wandb) (8.1.8)\n",
            "Requirement already satisfied: docker-pycreds>=0.4.0 in /usr/local/lib/python3.11/dist-packages (from wandb) (0.4.0)\n",
            "Requirement already satisfied: gitpython!=3.1.29,>=1.0.0 in /usr/local/lib/python3.11/dist-packages (from wandb) (3.1.44)\n",
            "Requirement already satisfied: platformdirs in /usr/local/lib/python3.11/dist-packages (from wandb) (4.3.7)\n",
            "Requirement already satisfied: protobuf!=4.21.0,!=5.28.0,<6,>=3.19.0 in /usr/local/lib/python3.11/dist-packages (from wandb) (5.29.4)\n",
            "Requirement already satisfied: psutil>=5.0.0 in /usr/local/lib/python3.11/dist-packages (from wandb) (5.9.5)\n",
            "Requirement already satisfied: pydantic<3 in /usr/local/lib/python3.11/dist-packages (from wandb) (2.11.2)\n",
            "Requirement already satisfied: pyyaml in /usr/local/lib/python3.11/dist-packages (from wandb) (6.0.2)\n",
            "Requirement already satisfied: requests<3,>=2.0.0 in /usr/local/lib/python3.11/dist-packages (from wandb) (2.32.3)\n",
            "Requirement already satisfied: sentry-sdk>=2.0.0 in /usr/local/lib/python3.11/dist-packages (from wandb) (2.25.1)\n",
            "Requirement already satisfied: setproctitle in /usr/local/lib/python3.11/dist-packages (from wandb) (1.3.5)\n",
            "Requirement already satisfied: setuptools in /usr/local/lib/python3.11/dist-packages (from wandb) (75.2.0)\n",
            "Requirement already satisfied: typing-extensions<5,>=4.4 in /usr/local/lib/python3.11/dist-packages (from wandb) (4.13.1)\n",
            "Requirement already satisfied: six>=1.4.0 in /usr/local/lib/python3.11/dist-packages (from docker-pycreds>=0.4.0->wandb) (1.17.0)\n",
            "Requirement already satisfied: gitdb<5,>=4.0.1 in /usr/local/lib/python3.11/dist-packages (from gitpython!=3.1.29,>=1.0.0->wandb) (4.0.12)\n",
            "Requirement already satisfied: annotated-types>=0.6.0 in /usr/local/lib/python3.11/dist-packages (from pydantic<3->wandb) (0.7.0)\n",
            "Requirement already satisfied: pydantic-core==2.33.1 in /usr/local/lib/python3.11/dist-packages (from pydantic<3->wandb) (2.33.1)\n",
            "Requirement already satisfied: typing-inspection>=0.4.0 in /usr/local/lib/python3.11/dist-packages (from pydantic<3->wandb) (0.4.0)\n",
            "Requirement already satisfied: charset-normalizer<4,>=2 in /usr/local/lib/python3.11/dist-packages (from requests<3,>=2.0.0->wandb) (3.4.1)\n",
            "Requirement already satisfied: idna<4,>=2.5 in /usr/local/lib/python3.11/dist-packages (from requests<3,>=2.0.0->wandb) (3.10)\n",
            "Requirement already satisfied: urllib3<3,>=1.21.1 in /usr/local/lib/python3.11/dist-packages (from requests<3,>=2.0.0->wandb) (2.3.0)\n",
            "Requirement already satisfied: certifi>=2017.4.17 in /usr/local/lib/python3.11/dist-packages (from requests<3,>=2.0.0->wandb) (2025.1.31)\n",
            "Requirement already satisfied: smmap<6,>=3.0.1 in /usr/local/lib/python3.11/dist-packages (from gitdb<5,>=4.0.1->gitpython!=3.1.29,>=1.0.0->wandb) (5.0.2)\n"
          ]
        },
        {
          "data": {
            "text/html": [
              "Tracking run with wandb version 0.19.9"
            ],
            "text/plain": [
              "<IPython.core.display.HTML object>"
            ]
          },
          "metadata": {},
          "output_type": "display_data"
        },
        {
          "data": {
            "text/html": [
              "Run data is saved locally in <code>/content/wandb/run-20250408_010341-ocjtykpu</code>"
            ],
            "text/plain": [
              "<IPython.core.display.HTML object>"
            ]
          },
          "metadata": {},
          "output_type": "display_data"
        },
        {
          "data": {
            "text/html": [
              "Syncing run <strong><a href='https://wandb.ai/hakimrouamba7-centralesup-lec/my-IA-project/runs/ocjtykpu' target=\"_blank\">royal-plasma-4</a></strong> to <a href='https://wandb.ai/hakimrouamba7-centralesup-lec/my-IA-project' target=\"_blank\">Weights & Biases</a> (<a href='https://wandb.me/developer-guide' target=\"_blank\">docs</a>)<br>"
            ],
            "text/plain": [
              "<IPython.core.display.HTML object>"
            ]
          },
          "metadata": {},
          "output_type": "display_data"
        },
        {
          "data": {
            "text/html": [
              " View project at <a href='https://wandb.ai/hakimrouamba7-centralesup-lec/my-IA-project' target=\"_blank\">https://wandb.ai/hakimrouamba7-centralesup-lec/my-IA-project</a>"
            ],
            "text/plain": [
              "<IPython.core.display.HTML object>"
            ]
          },
          "metadata": {},
          "output_type": "display_data"
        },
        {
          "data": {
            "text/html": [
              " View run at <a href='https://wandb.ai/hakimrouamba7-centralesup-lec/my-IA-project/runs/ocjtykpu' target=\"_blank\">https://wandb.ai/hakimrouamba7-centralesup-lec/my-IA-project/runs/ocjtykpu</a>"
            ],
            "text/plain": [
              "<IPython.core.display.HTML object>"
            ]
          },
          "metadata": {},
          "output_type": "display_data"
        },
        {
          "name": "stderr",
          "output_type": "stream",
          "text": [
            "/usr/local/lib/python3.11/dist-packages/keras/src/layers/rnn/rnn.py:200: UserWarning: Do not pass an `input_shape`/`input_dim` argument to a layer. When using Sequential models, prefer using an `Input(shape)` object as the first layer in the model instead.\n",
            "  super().__init__(**kwargs)\n"
          ]
        },
        {
          "data": {
            "text/html": [
              "<pre style=\"white-space:pre;overflow-x:auto;line-height:normal;font-family:Menlo,'DejaVu Sans Mono',consolas,'Courier New',monospace\"><span style=\"font-weight: bold\">Model: \"sequential_1\"</span>\n",
              "</pre>\n"
            ],
            "text/plain": [
              "\u001b[1mModel: \"sequential_1\"\u001b[0m\n"
            ]
          },
          "metadata": {},
          "output_type": "display_data"
        },
        {
          "data": {
            "text/html": [
              "<pre style=\"white-space:pre;overflow-x:auto;line-height:normal;font-family:Menlo,'DejaVu Sans Mono',consolas,'Courier New',monospace\">┏━━━━━━━━━━━━━━━━━━━━━━━━━━━━━━━━━━━━━━┳━━━━━━━━━━━━━━━━━━━━━━━━━━━━━┳━━━━━━━━━━━━━━━━━┓\n",
              "┃<span style=\"font-weight: bold\"> Layer (type)                         </span>┃<span style=\"font-weight: bold\"> Output Shape                </span>┃<span style=\"font-weight: bold\">         Param # </span>┃\n",
              "┡━━━━━━━━━━━━━━━━━━━━━━━━━━━━━━━━━━━━━━╇━━━━━━━━━━━━━━━━━━━━━━━━━━━━━╇━━━━━━━━━━━━━━━━━┩\n",
              "│ lstm_2 (<span style=\"color: #0087ff; text-decoration-color: #0087ff\">LSTM</span>)                        │ (<span style=\"color: #00d7ff; text-decoration-color: #00d7ff\">None</span>, <span style=\"color: #00af00; text-decoration-color: #00af00\">10</span>, <span style=\"color: #00af00; text-decoration-color: #00af00\">64</span>)              │          <span style=\"color: #00af00; text-decoration-color: #00af00\">23,040</span> │\n",
              "├──────────────────────────────────────┼─────────────────────────────┼─────────────────┤\n",
              "│ dropout_2 (<span style=\"color: #0087ff; text-decoration-color: #0087ff\">Dropout</span>)                  │ (<span style=\"color: #00d7ff; text-decoration-color: #00d7ff\">None</span>, <span style=\"color: #00af00; text-decoration-color: #00af00\">10</span>, <span style=\"color: #00af00; text-decoration-color: #00af00\">64</span>)              │               <span style=\"color: #00af00; text-decoration-color: #00af00\">0</span> │\n",
              "├──────────────────────────────────────┼─────────────────────────────┼─────────────────┤\n",
              "│ lstm_3 (<span style=\"color: #0087ff; text-decoration-color: #0087ff\">LSTM</span>)                        │ (<span style=\"color: #00d7ff; text-decoration-color: #00d7ff\">None</span>, <span style=\"color: #00af00; text-decoration-color: #00af00\">32</span>)                  │          <span style=\"color: #00af00; text-decoration-color: #00af00\">12,416</span> │\n",
              "├──────────────────────────────────────┼─────────────────────────────┼─────────────────┤\n",
              "│ dropout_3 (<span style=\"color: #0087ff; text-decoration-color: #0087ff\">Dropout</span>)                  │ (<span style=\"color: #00d7ff; text-decoration-color: #00d7ff\">None</span>, <span style=\"color: #00af00; text-decoration-color: #00af00\">32</span>)                  │               <span style=\"color: #00af00; text-decoration-color: #00af00\">0</span> │\n",
              "├──────────────────────────────────────┼─────────────────────────────┼─────────────────┤\n",
              "│ dense_1 (<span style=\"color: #0087ff; text-decoration-color: #0087ff\">Dense</span>)                      │ (<span style=\"color: #00d7ff; text-decoration-color: #00d7ff\">None</span>, <span style=\"color: #00af00; text-decoration-color: #00af00\">1</span>)                   │              <span style=\"color: #00af00; text-decoration-color: #00af00\">33</span> │\n",
              "└──────────────────────────────────────┴─────────────────────────────┴─────────────────┘\n",
              "</pre>\n"
            ],
            "text/plain": [
              "┏━━━━━━━━━━━━━━━━━━━━━━━━━━━━━━━━━━━━━━┳━━━━━━━━━━━━━━━━━━━━━━━━━━━━━┳━━━━━━━━━━━━━━━━━┓\n",
              "┃\u001b[1m \u001b[0m\u001b[1mLayer (type)                        \u001b[0m\u001b[1m \u001b[0m┃\u001b[1m \u001b[0m\u001b[1mOutput Shape               \u001b[0m\u001b[1m \u001b[0m┃\u001b[1m \u001b[0m\u001b[1m        Param #\u001b[0m\u001b[1m \u001b[0m┃\n",
              "┡━━━━━━━━━━━━━━━━━━━━━━━━━━━━━━━━━━━━━━╇━━━━━━━━━━━━━━━━━━━━━━━━━━━━━╇━━━━━━━━━━━━━━━━━┩\n",
              "│ lstm_2 (\u001b[38;5;33mLSTM\u001b[0m)                        │ (\u001b[38;5;45mNone\u001b[0m, \u001b[38;5;34m10\u001b[0m, \u001b[38;5;34m64\u001b[0m)              │          \u001b[38;5;34m23,040\u001b[0m │\n",
              "├──────────────────────────────────────┼─────────────────────────────┼─────────────────┤\n",
              "│ dropout_2 (\u001b[38;5;33mDropout\u001b[0m)                  │ (\u001b[38;5;45mNone\u001b[0m, \u001b[38;5;34m10\u001b[0m, \u001b[38;5;34m64\u001b[0m)              │               \u001b[38;5;34m0\u001b[0m │\n",
              "├──────────────────────────────────────┼─────────────────────────────┼─────────────────┤\n",
              "│ lstm_3 (\u001b[38;5;33mLSTM\u001b[0m)                        │ (\u001b[38;5;45mNone\u001b[0m, \u001b[38;5;34m32\u001b[0m)                  │          \u001b[38;5;34m12,416\u001b[0m │\n",
              "├──────────────────────────────────────┼─────────────────────────────┼─────────────────┤\n",
              "│ dropout_3 (\u001b[38;5;33mDropout\u001b[0m)                  │ (\u001b[38;5;45mNone\u001b[0m, \u001b[38;5;34m32\u001b[0m)                  │               \u001b[38;5;34m0\u001b[0m │\n",
              "├──────────────────────────────────────┼─────────────────────────────┼─────────────────┤\n",
              "│ dense_1 (\u001b[38;5;33mDense\u001b[0m)                      │ (\u001b[38;5;45mNone\u001b[0m, \u001b[38;5;34m1\u001b[0m)                   │              \u001b[38;5;34m33\u001b[0m │\n",
              "└──────────────────────────────────────┴─────────────────────────────┴─────────────────┘\n"
            ]
          },
          "metadata": {},
          "output_type": "display_data"
        },
        {
          "data": {
            "text/html": [
              "<pre style=\"white-space:pre;overflow-x:auto;line-height:normal;font-family:Menlo,'DejaVu Sans Mono',consolas,'Courier New',monospace\"><span style=\"font-weight: bold\"> Total params: </span><span style=\"color: #00af00; text-decoration-color: #00af00\">35,489</span> (138.63 KB)\n",
              "</pre>\n"
            ],
            "text/plain": [
              "\u001b[1m Total params: \u001b[0m\u001b[38;5;34m35,489\u001b[0m (138.63 KB)\n"
            ]
          },
          "metadata": {},
          "output_type": "display_data"
        },
        {
          "data": {
            "text/html": [
              "<pre style=\"white-space:pre;overflow-x:auto;line-height:normal;font-family:Menlo,'DejaVu Sans Mono',consolas,'Courier New',monospace\"><span style=\"font-weight: bold\"> Trainable params: </span><span style=\"color: #00af00; text-decoration-color: #00af00\">35,489</span> (138.63 KB)\n",
              "</pre>\n"
            ],
            "text/plain": [
              "\u001b[1m Trainable params: \u001b[0m\u001b[38;5;34m35,489\u001b[0m (138.63 KB)\n"
            ]
          },
          "metadata": {},
          "output_type": "display_data"
        },
        {
          "data": {
            "text/html": [
              "<pre style=\"white-space:pre;overflow-x:auto;line-height:normal;font-family:Menlo,'DejaVu Sans Mono',consolas,'Courier New',monospace\"><span style=\"font-weight: bold\"> Non-trainable params: </span><span style=\"color: #00af00; text-decoration-color: #00af00\">0</span> (0.00 B)\n",
              "</pre>\n"
            ],
            "text/plain": [
              "\u001b[1m Non-trainable params: \u001b[0m\u001b[38;5;34m0\u001b[0m (0.00 B)\n"
            ]
          },
          "metadata": {},
          "output_type": "display_data"
        },
        {
          "name": "stdout",
          "output_type": "stream",
          "text": [
            "Epoch 1/20\n",
            "\u001b[1m145/147\u001b[0m \u001b[32m━━━━━━━━━━━━━━━━━━━\u001b[0m\u001b[37m━\u001b[0m \u001b[1m0s\u001b[0m 15ms/step - accuracy: 0.6912 - loss: 0.5875 - precision_3: 0.6765 - recall_3: 0.7576"
          ]
        },
        {
          "name": "stderr",
          "output_type": "stream",
          "text": [
            "WARNING:absl:You are saving your model as an HDF5 file via `model.save()` or `keras.saving.save_model(model)`. This file format is considered legacy. We recommend using instead the native Keras format, e.g. `model.save('my_model.keras')` or `keras.saving.save_model(model, 'my_model.keras')`. \n"
          ]
        },
        {
          "name": "stdout",
          "output_type": "stream",
          "text": [
            "\b\b\b\b\b\b\b\b\b\b\b\b\b\b\b\b\b\b\b\b\b\b\b\b\b\b\b\b\b\b\b\b\b\b\b\b\b\b\b\b\b\b\b\b\b\b\b\b\b\b\b\b\b\b\b\b\b\b\b\b\b\b\b\b\b\b\b\b\b\b\b\b\b\b\b\b\b\b\b\b\b\b\b\b\b\b\b\b\b\b\b\b\b\b\b\b\b\b\b\b\b\b\b\b\b\b\b\b\b\b\b\b\b\b\b\b\r\u001b[1m147/147\u001b[0m \u001b[32m━━━━━━━━━━━━━━━━━━━━\u001b[0m\u001b[37m\u001b[0m \u001b[1m9s\u001b[0m 24ms/step - accuracy: 0.6924 - loss: 0.5860 - precision_3: 0.6779 - recall_3: 0.7577 - val_accuracy: 0.7889 - val_loss: 0.4568 - val_precision_3: 0.8794 - val_recall_3: 0.6751\n",
            "Epoch 2/20\n",
            "\u001b[1m147/147\u001b[0m \u001b[32m━━━━━━━━━━━━━━━━━━━━\u001b[0m\u001b[37m\u001b[0m \u001b[1m0s\u001b[0m 38ms/step - accuracy: 0.8019 - loss: 0.4282 - precision_3: 0.8144 - recall_3: 0.7925"
          ]
        },
        {
          "name": "stderr",
          "output_type": "stream",
          "text": [
            "WARNING:absl:You are saving your model as an HDF5 file via `model.save()` or `keras.saving.save_model(model)`. This file format is considered legacy. We recommend using instead the native Keras format, e.g. `model.save('my_model.keras')` or `keras.saving.save_model(model, 'my_model.keras')`. \n"
          ]
        },
        {
          "name": "stdout",
          "output_type": "stream",
          "text": [
            "\b\b\b\b\b\b\b\b\b\b\b\b\b\b\b\b\b\b\b\b\b\b\b\b\b\b\b\b\b\b\b\b\b\b\b\b\b\b\b\b\b\b\b\b\b\b\b\b\b\b\b\b\b\b\b\b\b\b\b\b\b\b\b\b\b\b\b\b\b\b\b\b\b\b\b\b\b\b\b\b\b\b\b\b\b\b\b\b\b\b\b\b\b\b\b\b\b\b\b\b\b\b\b\b\b\b\b\b\b\b\b\b\b\b\b\b\r\u001b[1m147/147\u001b[0m \u001b[32m━━━━━━━━━━━━━━━━━━━━\u001b[0m\u001b[37m\u001b[0m \u001b[1m8s\u001b[0m 45ms/step - accuracy: 0.8020 - loss: 0.4279 - precision_3: 0.8146 - recall_3: 0.7927 - val_accuracy: 0.8553 - val_loss: 0.3268 - val_precision_3: 0.9417 - val_recall_3: 0.7609\n",
            "Epoch 3/20\n",
            "\u001b[1m147/147\u001b[0m \u001b[32m━━━━━━━━━━━━━━━━━━━━\u001b[0m\u001b[37m\u001b[0m \u001b[1m0s\u001b[0m 52ms/step - accuracy: 0.8778 - loss: 0.2872 - precision_3: 0.8804 - recall_3: 0.8708"
          ]
        },
        {
          "name": "stderr",
          "output_type": "stream",
          "text": [
            "WARNING:absl:You are saving your model as an HDF5 file via `model.save()` or `keras.saving.save_model(model)`. This file format is considered legacy. We recommend using instead the native Keras format, e.g. `model.save('my_model.keras')` or `keras.saving.save_model(model, 'my_model.keras')`. \n"
          ]
        },
        {
          "name": "stdout",
          "output_type": "stream",
          "text": [
            "\b\b\b\b\b\b\b\b\b\b\b\b\b\b\b\b\b\b\b\b\b\b\b\b\b\b\b\b\b\b\b\b\b\b\b\b\b\b\b\b\b\b\b\b\b\b\b\b\b\b\b\b\b\b\b\b\b\b\b\b\b\b\b\b\b\b\b\b\b\b\b\b\b\b\b\b\b\b\b\b\b\b\b\b\b\b\b\b\b\b\b\b\b\b\b\b\b\b\b\b\b\b\b\b\b\b\b\b\b\b\b\b\b\b\b\b\r\u001b[1m147/147\u001b[0m \u001b[32m━━━━━━━━━━━━━━━━━━━━\u001b[0m\u001b[37m\u001b[0m \u001b[1m12s\u001b[0m 60ms/step - accuracy: 0.8779 - loss: 0.2871 - precision_3: 0.8804 - recall_3: 0.8710 - val_accuracy: 0.8596 - val_loss: 0.3092 - val_precision_3: 0.9694 - val_recall_3: 0.7458\n",
            "Epoch 4/20\n",
            "\u001b[1m146/147\u001b[0m \u001b[32m━━━━━━━━━━━━━━━━━━━\u001b[0m\u001b[37m━\u001b[0m \u001b[1m0s\u001b[0m 46ms/step - accuracy: 0.9200 - loss: 0.2120 - precision_3: 0.9187 - recall_3: 0.9227"
          ]
        },
        {
          "name": "stderr",
          "output_type": "stream",
          "text": [
            "WARNING:absl:You are saving your model as an HDF5 file via `model.save()` or `keras.saving.save_model(model)`. This file format is considered legacy. We recommend using instead the native Keras format, e.g. `model.save('my_model.keras')` or `keras.saving.save_model(model, 'my_model.keras')`. \n"
          ]
        },
        {
          "name": "stdout",
          "output_type": "stream",
          "text": [
            "\b\b\b\b\b\b\b\b\b\b\b\b\b\b\b\b\b\b\b\b\b\b\b\b\b\b\b\b\b\b\b\b\b\b\b\b\b\b\b\b\b\b\b\b\b\b\b\b\b\b\b\b\b\b\b\b\b\b\b\b\b\b\b\b\b\b\b\b\b\b\b\b\b\b\b\b\b\b\b\b\b\b\b\b\b\b\b\b\b\b\b\b\b\b\b\b\b\b\b\b\b\b\b\b\b\b\b\b\b\b\b\b\b\b\b\b\r\u001b[1m147/147\u001b[0m \u001b[32m━━━━━━━━━━━━━━━━━━━━\u001b[0m\u001b[37m\u001b[0m \u001b[1m9s\u001b[0m 58ms/step - accuracy: 0.9199 - loss: 0.2121 - precision_3: 0.9186 - recall_3: 0.9226 - val_accuracy: 0.9217 - val_loss: 0.2011 - val_precision_3: 0.8898 - val_recall_3: 0.9646\n",
            "Epoch 5/20\n",
            "\u001b[1m147/147\u001b[0m \u001b[32m━━━━━━━━━━━━━━━━━━━━\u001b[0m\u001b[37m\u001b[0m \u001b[1m7s\u001b[0m 46ms/step - accuracy: 0.9247 - loss: 0.1854 - precision_3: 0.9245 - recall_3: 0.9253 - val_accuracy: 0.9072 - val_loss: 0.2322 - val_precision_3: 0.8479 - val_recall_3: 0.9949\n",
            "Epoch 6/20\n",
            "\u001b[1m147/147\u001b[0m \u001b[32m━━━━━━━━━━━━━━━━━━━━\u001b[0m\u001b[37m\u001b[0m \u001b[1m0s\u001b[0m 36ms/step - accuracy: 0.9389 - loss: 0.1619 - precision_3: 0.9372 - recall_3: 0.9416"
          ]
        },
        {
          "name": "stderr",
          "output_type": "stream",
          "text": [
            "WARNING:absl:You are saving your model as an HDF5 file via `model.save()` or `keras.saving.save_model(model)`. This file format is considered legacy. We recommend using instead the native Keras format, e.g. `model.save('my_model.keras')` or `keras.saving.save_model(model, 'my_model.keras')`. \n"
          ]
        },
        {
          "name": "stdout",
          "output_type": "stream",
          "text": [
            "\b\b\b\b\b\b\b\b\b\b\b\b\b\b\b\b\b\b\b\b\b\b\b\b\b\b\b\b\b\b\b\b\b\b\b\b\b\b\b\b\b\b\b\b\b\b\b\b\b\b\b\b\b\b\b\b\b\b\b\b\b\b\b\b\b\b\b\b\b\b\b\b\b\b\b\b\b\b\b\b\b\b\b\b\b\b\b\b\b\b\b\b\b\b\b\b\b\b\b\b\b\b\b\b\b\b\b\b\b\b\b\b\b\b\b\b\r\u001b[1m147/147\u001b[0m \u001b[32m━━━━━━━━━━━━━━━━━━━━\u001b[0m\u001b[37m\u001b[0m \u001b[1m9s\u001b[0m 40ms/step - accuracy: 0.9389 - loss: 0.1618 - precision_3: 0.9372 - recall_3: 0.9417 - val_accuracy: 0.9311 - val_loss: 0.1491 - val_precision_3: 0.9605 - val_recall_3: 0.9007\n",
            "Epoch 7/20\n",
            "\u001b[1m145/147\u001b[0m \u001b[32m━━━━━━━━━━━━━━━━━━━\u001b[0m\u001b[37m━\u001b[0m \u001b[1m0s\u001b[0m 16ms/step - accuracy: 0.9484 - loss: 0.1337 - precision_3: 0.9478 - recall_3: 0.9498"
          ]
        },
        {
          "name": "stderr",
          "output_type": "stream",
          "text": [
            "WARNING:absl:You are saving your model as an HDF5 file via `model.save()` or `keras.saving.save_model(model)`. This file format is considered legacy. We recommend using instead the native Keras format, e.g. `model.save('my_model.keras')` or `keras.saving.save_model(model, 'my_model.keras')`. \n"
          ]
        },
        {
          "name": "stdout",
          "output_type": "stream",
          "text": [
            "\b\b\b\b\b\b\b\b\b\b\b\b\b\b\b\b\b\b\b\b\b\b\b\b\b\b\b\b\b\b\b\b\b\b\b\b\b\b\b\b\b\b\b\b\b\b\b\b\b\b\b\b\b\b\b\b\b\b\b\b\b\b\b\b\b\b\b\b\b\b\b\b\b\b\b\b\b\b\b\b\b\b\b\b\b\b\b\b\b\b\b\b\b\b\b\b\b\b\b\b\b\b\b\b\b\b\b\b\b\b\b\b\b\b\b\b\r\u001b[1m147/147\u001b[0m \u001b[32m━━━━━━━━━━━━━━━━━━━━\u001b[0m\u001b[37m\u001b[0m \u001b[1m7s\u001b[0m 20ms/step - accuracy: 0.9485 - loss: 0.1336 - precision_3: 0.9479 - recall_3: 0.9498 - val_accuracy: 0.9455 - val_loss: 0.1323 - val_precision_3: 0.9665 - val_recall_3: 0.9242\n",
            "Epoch 8/20\n",
            "\u001b[1m144/147\u001b[0m \u001b[32m━━━━━━━━━━━━━━━━━━━\u001b[0m\u001b[37m━\u001b[0m \u001b[1m0s\u001b[0m 16ms/step - accuracy: 0.9538 - loss: 0.1233 - precision_3: 0.9573 - recall_3: 0.9517"
          ]
        },
        {
          "name": "stderr",
          "output_type": "stream",
          "text": [
            "WARNING:absl:You are saving your model as an HDF5 file via `model.save()` or `keras.saving.save_model(model)`. This file format is considered legacy. We recommend using instead the native Keras format, e.g. `model.save('my_model.keras')` or `keras.saving.save_model(model, 'my_model.keras')`. \n"
          ]
        },
        {
          "name": "stdout",
          "output_type": "stream",
          "text": [
            "\b\b\b\b\b\b\b\b\b\b\b\b\b\b\b\b\b\b\b\b\b\b\b\b\b\b\b\b\b\b\b\b\b\b\b\b\b\b\b\b\b\b\b\b\b\b\b\b\b\b\b\b\b\b\b\b\b\b\b\b\b\b\b\b\b\b\b\b\b\b\b\b\b\b\b\b\b\b\b\b\b\b\b\b\b\b\b\b\b\b\b\b\b\b\b\b\b\b\b\b\b\b\b\b\b\b\b\b\b\b\b\b\b\b\b\b\r\u001b[1m147/147\u001b[0m \u001b[32m━━━━━━━━━━━━━━━━━━━━\u001b[0m\u001b[37m\u001b[0m \u001b[1m3s\u001b[0m 18ms/step - accuracy: 0.9537 - loss: 0.1234 - precision_3: 0.9570 - recall_3: 0.9517 - val_accuracy: 0.9472 - val_loss: 0.1227 - val_precision_3: 0.9750 - val_recall_3: 0.9192\n",
            "Epoch 9/20\n",
            "\u001b[1m147/147\u001b[0m \u001b[32m━━━━━━━━━━━━━━━━━━━━\u001b[0m\u001b[37m\u001b[0m \u001b[1m6s\u001b[0m 23ms/step - accuracy: 0.9685 - loss: 0.0953 - precision_3: 0.9645 - recall_3: 0.9738 - val_accuracy: 0.9506 - val_loss: 0.1475 - val_precision_3: 0.9136 - val_recall_3: 0.9966\n",
            "Epoch 10/20\n",
            "\u001b[1m147/147\u001b[0m \u001b[32m━━━━━━━━━━━━━━━━━━━━\u001b[0m\u001b[37m\u001b[0m \u001b[1m0s\u001b[0m 15ms/step - accuracy: 0.9715 - loss: 0.0819 - precision_3: 0.9697 - recall_3: 0.9739"
          ]
        },
        {
          "name": "stderr",
          "output_type": "stream",
          "text": [
            "WARNING:absl:You are saving your model as an HDF5 file via `model.save()` or `keras.saving.save_model(model)`. This file format is considered legacy. We recommend using instead the native Keras format, e.g. `model.save('my_model.keras')` or `keras.saving.save_model(model, 'my_model.keras')`. \n"
          ]
        },
        {
          "name": "stdout",
          "output_type": "stream",
          "text": [
            "\b\b\b\b\b\b\b\b\b\b\b\b\b\b\b\b\b\b\b\b\b\b\b\b\b\b\b\b\b\b\b\b\b\b\b\b\b\b\b\b\b\b\b\b\b\b\b\b\b\b\b\b\b\b\b\b\b\b\b\b\b\b\b\b\b\b\b\b\b\b\b\b\b\b\b\b\b\b\b\b\b\b\b\b\b\b\b\b\b\b\b\b\b\b\b\b\b\b\b\b\b\b\b\b\b\b\b\b\b\b\b\b\b\b\b\b\r\u001b[1m147/147\u001b[0m \u001b[32m━━━━━━━━━━━━━━━━━━━━\u001b[0m\u001b[37m\u001b[0m \u001b[1m3s\u001b[0m 17ms/step - accuracy: 0.9715 - loss: 0.0819 - precision_3: 0.9697 - recall_3: 0.9739 - val_accuracy: 0.9626 - val_loss: 0.0963 - val_precision_3: 0.9568 - val_recall_3: 0.9697\n",
            "Epoch 11/20\n",
            "\u001b[1m145/147\u001b[0m \u001b[32m━━━━━━━━━━━━━━━━━━━\u001b[0m\u001b[37m━\u001b[0m \u001b[1m0s\u001b[0m 16ms/step - accuracy: 0.9792 - loss: 0.0692 - precision_3: 0.9755 - recall_3: 0.9837"
          ]
        },
        {
          "name": "stderr",
          "output_type": "stream",
          "text": [
            "WARNING:absl:You are saving your model as an HDF5 file via `model.save()` or `keras.saving.save_model(model)`. This file format is considered legacy. We recommend using instead the native Keras format, e.g. `model.save('my_model.keras')` or `keras.saving.save_model(model, 'my_model.keras')`. \n"
          ]
        },
        {
          "name": "stdout",
          "output_type": "stream",
          "text": [
            "\b\b\b\b\b\b\b\b\b\b\b\b\b\b\b\b\b\b\b\b\b\b\b\b\b\b\b\b\b\b\b\b\b\b\b\b\b\b\b\b\b\b\b\b\b\b\b\b\b\b\b\b\b\b\b\b\b\b\b\b\b\b\b\b\b\b\b\b\b\b\b\b\b\b\b\b\b\b\b\b\b\b\b\b\b\b\b\b\b\b\b\b\b\b\b\b\b\b\b\b\b\b\b\b\b\b\b\b\b\b\b\b\b\b\b\b\r\u001b[1m147/147\u001b[0m \u001b[32m━━━━━━━━━━━━━━━━━━━━\u001b[0m\u001b[37m\u001b[0m \u001b[1m3s\u001b[0m 19ms/step - accuracy: 0.9791 - loss: 0.0694 - precision_3: 0.9754 - recall_3: 0.9836 - val_accuracy: 0.9719 - val_loss: 0.0697 - val_precision_3: 0.9714 - val_recall_3: 0.9731\n",
            "Epoch 12/20\n",
            "\u001b[1m146/147\u001b[0m \u001b[32m━━━━━━━━━━━━━━━━━━━\u001b[0m\u001b[37m━\u001b[0m \u001b[1m0s\u001b[0m 32ms/step - accuracy: 0.9799 - loss: 0.0616 - precision_3: 0.9834 - recall_3: 0.9764"
          ]
        },
        {
          "name": "stderr",
          "output_type": "stream",
          "text": [
            "WARNING:absl:You are saving your model as an HDF5 file via `model.save()` or `keras.saving.save_model(model)`. This file format is considered legacy. We recommend using instead the native Keras format, e.g. `model.save('my_model.keras')` or `keras.saving.save_model(model, 'my_model.keras')`. \n"
          ]
        },
        {
          "name": "stdout",
          "output_type": "stream",
          "text": [
            "\b\b\b\b\b\b\b\b\b\b\b\b\b\b\b\b\b\b\b\b\b\b\b\b\b\b\b\b\b\b\b\b\b\b\b\b\b\b\b\b\b\b\b\b\b\b\b\b\b\b\b\b\b\b\b\b\b\b\b\b\b\b\b\b\b\b\b\b\b\b\b\b\b\b\b\b\b\b\b\b\b\b\b\b\b\b\b\b\b\b\b\b\b\b\b\b\b\b\b\b\b\b\b\b\b\b\b\b\b\b\b\b\b\b\b\b\r\u001b[1m147/147\u001b[0m \u001b[32m━━━━━━━━━━━━━━━━━━━━\u001b[0m\u001b[37m\u001b[0m \u001b[1m8s\u001b[0m 37ms/step - accuracy: 0.9798 - loss: 0.0618 - precision_3: 0.9833 - recall_3: 0.9763 - val_accuracy: 0.9736 - val_loss: 0.0684 - val_precision_3: 0.9653 - val_recall_3: 0.9832\n",
            "Epoch 13/20\n",
            "\u001b[1m146/147\u001b[0m \u001b[32m━━━━━━━━━━━━━━━━━━━\u001b[0m\u001b[37m━\u001b[0m \u001b[1m0s\u001b[0m 20ms/step - accuracy: 0.9765 - loss: 0.0682 - precision_3: 0.9798 - recall_3: 0.9726"
          ]
        },
        {
          "name": "stderr",
          "output_type": "stream",
          "text": [
            "WARNING:absl:You are saving your model as an HDF5 file via `model.save()` or `keras.saving.save_model(model)`. This file format is considered legacy. We recommend using instead the native Keras format, e.g. `model.save('my_model.keras')` or `keras.saving.save_model(model, 'my_model.keras')`. \n"
          ]
        },
        {
          "name": "stdout",
          "output_type": "stream",
          "text": [
            "\b\b\b\b\b\b\b\b\b\b\b\b\b\b\b\b\b\b\b\b\b\b\b\b\b\b\b\b\b\b\b\b\b\b\b\b\b\b\b\b\b\b\b\b\b\b\b\b\b\b\b\b\b\b\b\b\b\b\b\b\b\b\b\b\b\b\b\b\b\b\b\b\b\b\b\b\b\b\b\b\b\b\b\b\b\b\b\b\b\b\b\b\b\b\b\b\b\b\b\b\b\b\b\b\b\b\b\b\b\b\b\b\b\b\b\b\r\u001b[1m147/147\u001b[0m \u001b[32m━━━━━━━━━━━━━━━━━━━━\u001b[0m\u001b[37m\u001b[0m \u001b[1m3s\u001b[0m 23ms/step - accuracy: 0.9765 - loss: 0.0682 - precision_3: 0.9798 - recall_3: 0.9726 - val_accuracy: 0.9813 - val_loss: 0.0572 - val_precision_3: 0.9767 - val_recall_3: 0.9865\n",
            "Epoch 14/20\n",
            "\u001b[1m147/147\u001b[0m \u001b[32m━━━━━━━━━━━━━━━━━━━━\u001b[0m\u001b[37m\u001b[0m \u001b[1m3s\u001b[0m 18ms/step - accuracy: 0.9764 - loss: 0.0686 - precision_3: 0.9770 - recall_3: 0.9753 - val_accuracy: 0.9583 - val_loss: 0.1118 - val_precision_3: 0.9892 - val_recall_3: 0.9276\n",
            "Epoch 15/20\n",
            "\u001b[1m146/147\u001b[0m \u001b[32m━━━━━━━━━━━━━━━━━━━\u001b[0m\u001b[37m━\u001b[0m \u001b[1m0s\u001b[0m 15ms/step - accuracy: 0.9802 - loss: 0.0607 - precision_3: 0.9820 - recall_3: 0.9777"
          ]
        },
        {
          "name": "stderr",
          "output_type": "stream",
          "text": [
            "WARNING:absl:You are saving your model as an HDF5 file via `model.save()` or `keras.saving.save_model(model)`. This file format is considered legacy. We recommend using instead the native Keras format, e.g. `model.save('my_model.keras')` or `keras.saving.save_model(model, 'my_model.keras')`. \n"
          ]
        },
        {
          "name": "stdout",
          "output_type": "stream",
          "text": [
            "\b\b\b\b\b\b\b\b\b\b\b\b\b\b\b\b\b\b\b\b\b\b\b\b\b\b\b\b\b\b\b\b\b\b\b\b\b\b\b\b\b\b\b\b\b\b\b\b\b\b\b\b\b\b\b\b\b\b\b\b\b\b\b\b\b\b\b\b\b\b\b\b\b\b\b\b\b\b\b\b\b\b\b\b\b\b\b\b\b\b\b\b\b\b\b\b\b\b\b\b\b\b\b\b\b\b\b\b\b\b\b\b\b\b\b\b\r\u001b[1m147/147\u001b[0m \u001b[32m━━━━━━━━━━━━━━━━━━━━\u001b[0m\u001b[37m\u001b[0m \u001b[1m5s\u001b[0m 18ms/step - accuracy: 0.9803 - loss: 0.0606 - precision_3: 0.9820 - recall_3: 0.9778 - val_accuracy: 0.9821 - val_loss: 0.0517 - val_precision_3: 0.9689 - val_recall_3: 0.9966\n",
            "Epoch 16/20\n",
            "\u001b[1m147/147\u001b[0m \u001b[32m━━━━━━━━━━━━━━━━━━━━\u001b[0m\u001b[37m\u001b[0m \u001b[1m0s\u001b[0m 15ms/step - accuracy: 0.9880 - loss: 0.0386 - precision_3: 0.9891 - recall_3: 0.9873"
          ]
        },
        {
          "name": "stderr",
          "output_type": "stream",
          "text": [
            "WARNING:absl:You are saving your model as an HDF5 file via `model.save()` or `keras.saving.save_model(model)`. This file format is considered legacy. We recommend using instead the native Keras format, e.g. `model.save('my_model.keras')` or `keras.saving.save_model(model, 'my_model.keras')`. \n"
          ]
        },
        {
          "name": "stdout",
          "output_type": "stream",
          "text": [
            "\b\b\b\b\b\b\b\b\b\b\b\b\b\b\b\b\b\b\b\b\b\b\b\b\b\b\b\b\b\b\b\b\b\b\b\b\b\b\b\b\b\b\b\b\b\b\b\b\b\b\b\b\b\b\b\b\b\b\b\b\b\b\b\b\b\b\b\b\b\b\b\b\b\b\b\b\b\b\b\b\b\b\b\b\b\b\b\b\b\b\b\b\b\b\b\b\b\b\b\b\b\b\b\b\b\b\b\b\b\b\b\b\b\b\b\b\r\u001b[1m147/147\u001b[0m \u001b[32m━━━━━━━━━━━━━━━━━━━━\u001b[0m\u001b[37m\u001b[0m \u001b[1m5s\u001b[0m 18ms/step - accuracy: 0.9880 - loss: 0.0387 - precision_3: 0.9890 - recall_3: 0.9873 - val_accuracy: 0.9821 - val_loss: 0.0490 - val_precision_3: 0.9689 - val_recall_3: 0.9966\n",
            "Epoch 17/20\n",
            "\u001b[1m147/147\u001b[0m \u001b[32m━━━━━━━━━━━━━━━━━━━━\u001b[0m\u001b[37m\u001b[0m \u001b[1m3s\u001b[0m 19ms/step - accuracy: 0.9840 - loss: 0.0459 - precision_3: 0.9823 - recall_3: 0.9861 - val_accuracy: 0.9719 - val_loss: 0.0625 - val_precision_3: 0.9982 - val_recall_3: 0.9461\n",
            "Epoch 18/20\n",
            "\u001b[1m147/147\u001b[0m \u001b[32m━━━━━━━━━━━━━━━━━━━━\u001b[0m\u001b[37m\u001b[0m \u001b[1m5s\u001b[0m 22ms/step - accuracy: 0.9816 - loss: 0.0499 - precision_3: 0.9848 - recall_3: 0.9794 - val_accuracy: 0.9719 - val_loss: 0.0670 - val_precision_3: 0.9488 - val_recall_3: 0.9983\n",
            "Epoch 19/20\n",
            "\u001b[1m147/147\u001b[0m \u001b[32m━━━━━━━━━━━━━━━━━━━━\u001b[0m\u001b[37m\u001b[0m \u001b[1m4s\u001b[0m 17ms/step - accuracy: 0.9832 - loss: 0.0461 - precision_3: 0.9812 - recall_3: 0.9855 - val_accuracy: 0.9779 - val_loss: 0.0584 - val_precision_3: 0.9581 - val_recall_3: 1.0000\n",
            "Epoch 20/20\n",
            "\u001b[1m144/147\u001b[0m \u001b[32m━━━━━━━━━━━━━━━━━━━\u001b[0m\u001b[37m━\u001b[0m \u001b[1m0s\u001b[0m 17ms/step - accuracy: 0.9888 - loss: 0.0302 - precision_3: 0.9875 - recall_3: 0.9901"
          ]
        },
        {
          "name": "stderr",
          "output_type": "stream",
          "text": [
            "WARNING:absl:You are saving your model as an HDF5 file via `model.save()` or `keras.saving.save_model(model)`. This file format is considered legacy. We recommend using instead the native Keras format, e.g. `model.save('my_model.keras')` or `keras.saving.save_model(model, 'my_model.keras')`. \n"
          ]
        },
        {
          "name": "stdout",
          "output_type": "stream",
          "text": [
            "\b\b\b\b\b\b\b\b\b\b\b\b\b\b\b\b\b\b\b\b\b\b\b\b\b\b\b\b\b\b\b\b\b\b\b\b\b\b\b\b\b\b\b\b\b\b\b\b\b\b\b\b\b\b\b\b\b\b\b\b\b\b\b\b\b\b\b\b\b\b\b\b\b\b\b\b\b\b\b\b\b\b\b\b\b\b\b\b\b\b\b\b\b\b\b\b\b\b\b\b\b\b\b\b\b\b\b\b\b\b\b\b\b\b\b\b\r\u001b[1m147/147\u001b[0m \u001b[32m━━━━━━━━━━━━━━━━━━━━\u001b[0m\u001b[37m\u001b[0m \u001b[1m3s\u001b[0m 20ms/step - accuracy: 0.9887 - loss: 0.0305 - precision_3: 0.9875 - recall_3: 0.9900 - val_accuracy: 0.9881 - val_loss: 0.0370 - val_precision_3: 0.9899 - val_recall_3: 0.9865\n"
          ]
        },
        {
          "name": "stderr",
          "output_type": "stream",
          "text": [
            "WARNING:absl:You are saving your model as an HDF5 file via `model.save()` or `keras.saving.save_model(model)`. This file format is considered legacy. We recommend using instead the native Keras format, e.g. `model.save('my_model.keras')` or `keras.saving.save_model(model, 'my_model.keras')`. \n"
          ]
        },
        {
          "data": {
            "text/html": [],
            "text/plain": [
              "<IPython.core.display.HTML object>"
            ]
          },
          "metadata": {},
          "output_type": "display_data"
        },
        {
          "data": {
            "text/html": [
              "<br>    <style><br>        .wandb-row {<br>            display: flex;<br>            flex-direction: row;<br>            flex-wrap: wrap;<br>            justify-content: flex-start;<br>            width: 100%;<br>        }<br>        .wandb-col {<br>            display: flex;<br>            flex-direction: column;<br>            flex-basis: 100%;<br>            flex: 1;<br>            padding: 10px;<br>        }<br>    </style><br><div class=\"wandb-row\"><div class=\"wandb-col\"><h3>Run history:</h3><br/><table class=\"wandb\"><tr><td>epoch/accuracy</td><td>▁▃▅▆▆▇▇▇▇▇██████████</td></tr><tr><td>epoch/epoch</td><td>▁▁▂▂▂▃▃▄▄▄▅▅▅▆▆▇▇▇██</td></tr><tr><td>epoch/learning_rate</td><td>▁▁▁▁▁▁▁▁▁▁▁▁▁▁▁▁▁▁▁▁</td></tr><tr><td>epoch/loss</td><td>█▆▄▄▃▃▂▂▂▂▂▁▁▁▁▁▁▁▁▁</td></tr><tr><td>epoch/precision_3</td><td>▁▄▅▆▆▇▇▇▇▇██████████</td></tr><tr><td>epoch/recall_3</td><td>▁▃▅▆▆▇▇▇▇▇██████████</td></tr><tr><td>epoch/val_accuracy</td><td>▁▃▃▆▅▆▇▇▇▇▇▇█▇██▇▇██</td></tr><tr><td>epoch/val_loss</td><td>█▆▆▄▄▃▃▂▃▂▂▂▁▂▁▁▁▁▁▁</td></tr><tr><td>epoch/val_precision_3</td><td>▂▅▇▃▁▆▇▇▄▆▇▆▇█▇▇█▆▆█</td></tr><tr><td>epoch/val_recall_3</td><td>▁▃▃▇█▆▆▆█▇▇██▆██▇███</td></tr></table><br/></div><div class=\"wandb-col\"><h3>Run summary:</h3><br/><table class=\"wandb\"><tr><td>epoch/accuracy</td><td>0.98574</td></tr><tr><td>epoch/epoch</td><td>19</td></tr><tr><td>epoch/learning_rate</td><td>0.001</td></tr><tr><td>epoch/loss</td><td>0.04091</td></tr><tr><td>epoch/precision_3</td><td>0.98564</td></tr><tr><td>epoch/recall_3</td><td>0.98606</td></tr><tr><td>epoch/val_accuracy</td><td>0.98809</td></tr><tr><td>epoch/val_loss</td><td>0.037</td></tr><tr><td>epoch/val_precision_3</td><td>0.98986</td></tr><tr><td>epoch/val_recall_3</td><td>0.98653</td></tr></table><br/></div></div>"
            ],
            "text/plain": [
              "<IPython.core.display.HTML object>"
            ]
          },
          "metadata": {},
          "output_type": "display_data"
        },
        {
          "data": {
            "text/html": [
              " View run <strong style=\"color:#cdcd00\">royal-plasma-4</strong> at: <a href='https://wandb.ai/hakimrouamba7-centralesup-lec/my-IA-project/runs/ocjtykpu' target=\"_blank\">https://wandb.ai/hakimrouamba7-centralesup-lec/my-IA-project/runs/ocjtykpu</a><br> View project at: <a href='https://wandb.ai/hakimrouamba7-centralesup-lec/my-IA-project' target=\"_blank\">https://wandb.ai/hakimrouamba7-centralesup-lec/my-IA-project</a><br>Synced 5 W&B file(s), 0 media file(s), 28 artifact file(s) and 1 other file(s)"
            ],
            "text/plain": [
              "<IPython.core.display.HTML object>"
            ]
          },
          "metadata": {},
          "output_type": "display_data"
        },
        {
          "data": {
            "text/html": [
              "Find logs at: <code>./wandb/run-20250408_010341-ocjtykpu/logs</code>"
            ],
            "text/plain": [
              "<IPython.core.display.HTML object>"
            ]
          },
          "metadata": {},
          "output_type": "display_data"
        },
        {
          "name": "stdout",
          "output_type": "stream",
          "text": [
            "Consultez les résultats sur https://wandb.ai/hakimrouamba7-centralesup-lec/my-lstm-project\n"
          ]
        }
      ],
      "source": [
        "!pip install wandb\n",
        "\n",
        "import wandb\n",
        "from wandb.integration.keras import WandbMetricsLogger, WandbModelCheckpoint, WandbEvalCallback\n",
        "import tensorflow as tf\n",
        "from tensorflow.keras.models import Sequential\n",
        "from tensorflow.keras.layers import LSTM, Dense, Dropout\n",
        "\n",
        "# Initialiser WandB\n",
        "wandb.init(project=\"my-IA-project\", entity=\"hakimrouamba7-centralesup-lec\")  # Remplacez par votre nom d'utilisateur WandB\n",
        "\n",
        "# Configurer les hyperparamètres dans WandB\n",
        "config = wandb.config\n",
        "config.epochs = 20\n",
        "config.batch_size = 32\n",
        "config.validation_split = 0.2\n",
        "\n",
        "# Supposons que X_train, Y_train, X_test, Y_test sont déjà définis\n",
        "# (Ajoutez ici votre code pour créer X_train, Y_train, etc., si nécessaire)\n",
        "\n",
        "# Créer et compiler le modèle LSTM\n",
        "model = Sequential([\n",
        "    LSTM(64, input_shape=(10, X_train.shape[2]), return_sequences=True),  # X_train.shape[2] = nombre de features\n",
        "    Dropout(0.3),\n",
        "    LSTM(32),\n",
        "    Dropout(0.3),\n",
        "    Dense(1, activation='sigmoid')  # Couche de sortie unique pour classification binaire\n",
        "])\n",
        "\n",
        "model.compile(\n",
        "    optimizer='adam',\n",
        "    loss='binary_crossentropy',\n",
        "    metrics=['accuracy', tf.keras.metrics.Precision(), tf.keras.metrics.Recall()]\n",
        ")\n",
        "\n",
        "model.summary()\n",
        "\n",
        "# Définir les callbacks WandB\n",
        "callbacks = [\n",
        "    WandbMetricsLogger(),  # Pour logger les métriques (perte, précision, etc.)\n",
        "    WandbModelCheckpoint(\"best_modelLSTM.h5\", monitor=\"val_loss\", save_best_only=True, mode=\"min\"),  # Sauvegarde du meilleur modèle\n",
        "    #WandbEvalCallback(X_test, Y_test)  # Évaluation sur le test set\n",
        "]\n",
        "\n",
        "# Entraîner le modèle avec les callbacks WandB\n",
        "history = model.fit(\n",
        "    X_train, Y_train,\n",
        "    epochs=config.epochs,\n",
        "    batch_size=config.batch_size,\n",
        "    validation_split=config.validation_split,\n",
        "    verbose=1,\n",
        "    callbacks=callbacks\n",
        ")\n",
        "\n",
        "# Tracer les courbes sur WandB\n",
        "# WandB tracera automatiquement les métriques (perte, précision) via WandbMetricsLogger\n",
        "# Vous pouvez aussi loguer manuellement des graphiques si nécessaire\n",
        "\n",
        "# Sauvegarder le modèle comme artefact WandB (au lieu de juste localement)\n",
        "model.save(\"best_modelLSTM.h5\")\n",
        "wandb.save(\"best_modelLSTM.h5\")  # Sauvegarde locale et envoi à WandB\n",
        "\n",
        "# Archiver l'expérience (terminer la session WandB)\n",
        "wandb.finish()\n",
        "\n",
        "# Optionnel : Visualiser les résultats sur WandB\n",
        "print(\"Consultez les résultats sur https://wandb.ai/hakimrouamba7-centralesup-lec/my-lstm-project\")"
      ]
    },
    {
      "cell_type": "code",
      "execution_count": 38,
      "metadata": {
        "colab": {
          "base_uri": "https://localhost:8080/",
          "height": 1000
        },
        "id": "sHYF2PepRni8",
        "outputId": "7c30295f-a0c7-46da-d84a-4bda87496a57"
      },
      "outputs": [
        {
          "data": {
            "text/html": [
              "Tracking run with wandb version 0.19.9"
            ],
            "text/plain": [
              "<IPython.core.display.HTML object>"
            ]
          },
          "metadata": {},
          "output_type": "display_data"
        },
        {
          "data": {
            "text/html": [
              "Run data is saved locally in <code>/content/wandb/run-20250408_010541-3xscn9up</code>"
            ],
            "text/plain": [
              "<IPython.core.display.HTML object>"
            ]
          },
          "metadata": {},
          "output_type": "display_data"
        },
        {
          "data": {
            "text/html": [
              "Syncing run <strong><a href='https://wandb.ai/hakimrouamba7-centralesup-lec/my-IA-project/runs/3xscn9up' target=\"_blank\">decision-tree</a></strong> to <a href='https://wandb.ai/hakimrouamba7-centralesup-lec/my-IA-project' target=\"_blank\">Weights & Biases</a> (<a href='https://wandb.me/developer-guide' target=\"_blank\">docs</a>)<br>"
            ],
            "text/plain": [
              "<IPython.core.display.HTML object>"
            ]
          },
          "metadata": {},
          "output_type": "display_data"
        },
        {
          "data": {
            "text/html": [
              " View project at <a href='https://wandb.ai/hakimrouamba7-centralesup-lec/my-IA-project' target=\"_blank\">https://wandb.ai/hakimrouamba7-centralesup-lec/my-IA-project</a>"
            ],
            "text/plain": [
              "<IPython.core.display.HTML object>"
            ]
          },
          "metadata": {},
          "output_type": "display_data"
        },
        {
          "data": {
            "text/html": [
              " View run at <a href='https://wandb.ai/hakimrouamba7-centralesup-lec/my-IA-project/runs/3xscn9up' target=\"_blank\">https://wandb.ai/hakimrouamba7-centralesup-lec/my-IA-project/runs/3xscn9up</a>"
            ],
            "text/plain": [
              "<IPython.core.display.HTML object>"
            ]
          },
          "metadata": {},
          "output_type": "display_data"
        },
        {
          "data": {
            "text/html": [],
            "text/plain": [
              "<IPython.core.display.HTML object>"
            ]
          },
          "metadata": {},
          "output_type": "display_data"
        },
        {
          "data": {
            "text/html": [
              "<br>    <style><br>        .wandb-row {<br>            display: flex;<br>            flex-direction: row;<br>            flex-wrap: wrap;<br>            justify-content: flex-start;<br>            width: 100%;<br>        }<br>        .wandb-col {<br>            display: flex;<br>            flex-direction: column;<br>            flex-basis: 100%;<br>            flex: 1;<br>            padding: 10px;<br>        }<br>    </style><br><div class=\"wandb-row\"><div class=\"wandb-col\"><h3>Run history:</h3><br/><table class=\"wandb\"><tr><td>accuracy</td><td>▁</td></tr><tr><td>f1</td><td>▁</td></tr><tr><td>precision</td><td>▁</td></tr><tr><td>recall</td><td>▁</td></tr></table><br/></div><div class=\"wandb-col\"><h3>Run summary:</h3><br/><table class=\"wandb\"><tr><td>accuracy</td><td>0.99252</td></tr><tr><td>f1</td><td>0.99269</td></tr><tr><td>precision</td><td>0.98549</td></tr><tr><td>recall</td><td>1</td></tr></table><br/></div></div>"
            ],
            "text/plain": [
              "<IPython.core.display.HTML object>"
            ]
          },
          "metadata": {},
          "output_type": "display_data"
        },
        {
          "data": {
            "text/html": [
              " View run <strong style=\"color:#cdcd00\">decision-tree</strong> at: <a href='https://wandb.ai/hakimrouamba7-centralesup-lec/my-IA-project/runs/3xscn9up' target=\"_blank\">https://wandb.ai/hakimrouamba7-centralesup-lec/my-IA-project/runs/3xscn9up</a><br> View project at: <a href='https://wandb.ai/hakimrouamba7-centralesup-lec/my-IA-project' target=\"_blank\">https://wandb.ai/hakimrouamba7-centralesup-lec/my-IA-project</a><br>Synced 5 W&B file(s), 1 media file(s), 2 artifact file(s) and 0 other file(s)"
            ],
            "text/plain": [
              "<IPython.core.display.HTML object>"
            ]
          },
          "metadata": {},
          "output_type": "display_data"
        },
        {
          "data": {
            "text/html": [
              "Find logs at: <code>./wandb/run-20250408_010541-3xscn9up/logs</code>"
            ],
            "text/plain": [
              "<IPython.core.display.HTML object>"
            ]
          },
          "metadata": {},
          "output_type": "display_data"
        },
        {
          "data": {
            "text/html": [
              "Tracking run with wandb version 0.19.9"
            ],
            "text/plain": [
              "<IPython.core.display.HTML object>"
            ]
          },
          "metadata": {},
          "output_type": "display_data"
        },
        {
          "data": {
            "text/html": [
              "Run data is saved locally in <code>/content/wandb/run-20250408_010544-qnmfjy6d</code>"
            ],
            "text/plain": [
              "<IPython.core.display.HTML object>"
            ]
          },
          "metadata": {},
          "output_type": "display_data"
        },
        {
          "data": {
            "text/html": [
              "Syncing run <strong><a href='https://wandb.ai/hakimrouamba7-centralesup-lec/my-IA-project/runs/qnmfjy6d' target=\"_blank\">random-forest</a></strong> to <a href='https://wandb.ai/hakimrouamba7-centralesup-lec/my-IA-project' target=\"_blank\">Weights & Biases</a> (<a href='https://wandb.me/developer-guide' target=\"_blank\">docs</a>)<br>"
            ],
            "text/plain": [
              "<IPython.core.display.HTML object>"
            ]
          },
          "metadata": {},
          "output_type": "display_data"
        },
        {
          "data": {
            "text/html": [
              " View project at <a href='https://wandb.ai/hakimrouamba7-centralesup-lec/my-IA-project' target=\"_blank\">https://wandb.ai/hakimrouamba7-centralesup-lec/my-IA-project</a>"
            ],
            "text/plain": [
              "<IPython.core.display.HTML object>"
            ]
          },
          "metadata": {},
          "output_type": "display_data"
        },
        {
          "data": {
            "text/html": [
              " View run at <a href='https://wandb.ai/hakimrouamba7-centralesup-lec/my-IA-project/runs/qnmfjy6d' target=\"_blank\">https://wandb.ai/hakimrouamba7-centralesup-lec/my-IA-project/runs/qnmfjy6d</a>"
            ],
            "text/plain": [
              "<IPython.core.display.HTML object>"
            ]
          },
          "metadata": {},
          "output_type": "display_data"
        },
        {
          "data": {
            "text/html": [],
            "text/plain": [
              "<IPython.core.display.HTML object>"
            ]
          },
          "metadata": {},
          "output_type": "display_data"
        },
        {
          "data": {
            "text/html": [
              "<br>    <style><br>        .wandb-row {<br>            display: flex;<br>            flex-direction: row;<br>            flex-wrap: wrap;<br>            justify-content: flex-start;<br>            width: 100%;<br>        }<br>        .wandb-col {<br>            display: flex;<br>            flex-direction: column;<br>            flex-basis: 100%;<br>            flex: 1;<br>            padding: 10px;<br>        }<br>    </style><br><div class=\"wandb-row\"><div class=\"wandb-col\"><h3>Run history:</h3><br/><table class=\"wandb\"><tr><td>accuracy</td><td>▁</td></tr><tr><td>f1</td><td>▁</td></tr><tr><td>precision</td><td>▁</td></tr><tr><td>recall</td><td>▁</td></tr></table><br/></div><div class=\"wandb-col\"><h3>Run summary:</h3><br/><table class=\"wandb\"><tr><td>accuracy</td><td>0.99388</td></tr><tr><td>f1</td><td>0.99401</td></tr><tr><td>precision</td><td>0.9881</td></tr><tr><td>recall</td><td>1</td></tr></table><br/></div></div>"
            ],
            "text/plain": [
              "<IPython.core.display.HTML object>"
            ]
          },
          "metadata": {},
          "output_type": "display_data"
        },
        {
          "data": {
            "text/html": [
              " View run <strong style=\"color:#cdcd00\">random-forest</strong> at: <a href='https://wandb.ai/hakimrouamba7-centralesup-lec/my-IA-project/runs/qnmfjy6d' target=\"_blank\">https://wandb.ai/hakimrouamba7-centralesup-lec/my-IA-project/runs/qnmfjy6d</a><br> View project at: <a href='https://wandb.ai/hakimrouamba7-centralesup-lec/my-IA-project' target=\"_blank\">https://wandb.ai/hakimrouamba7-centralesup-lec/my-IA-project</a><br>Synced 5 W&B file(s), 1 media file(s), 2 artifact file(s) and 0 other file(s)"
            ],
            "text/plain": [
              "<IPython.core.display.HTML object>"
            ]
          },
          "metadata": {},
          "output_type": "display_data"
        },
        {
          "data": {
            "text/html": [
              "Find logs at: <code>./wandb/run-20250408_010544-qnmfjy6d/logs</code>"
            ],
            "text/plain": [
              "<IPython.core.display.HTML object>"
            ]
          },
          "metadata": {},
          "output_type": "display_data"
        }
      ],
      "source": [
        "# Initialiser WandB pour Decision Tree\n",
        "wandb.init(project=\"my-IA-project\", entity=\"hakimrouamba7-centralesup-lec\", name=\"decision-tree\")\n",
        "config = wandb.config\n",
        "\n",
        "# Entraînement de l'arbre de décision\n",
        "clf = DecisionTreeClassifier(random_state=42)\n",
        "clf.fit(X_train2, Y_train2)\n",
        "Y_pred2 = clf.predict(X_test2)\n",
        "\n",
        "# Log des métriques\n",
        "accuracy = accuracy_score(Y_test2, Y_pred2)\n",
        "precision = precision_score(Y_test2, Y_pred2)\n",
        "recall = recall_score(Y_test2, Y_pred2)\n",
        "f1 = f1_score(Y_test2, Y_pred2)\n",
        "\n",
        "wandb.log({\"accuracy\": accuracy, \"precision\": precision, \"recall\": recall, \"f1\": f1})\n",
        "\n",
        "# Matrice de confusion (optionnel, mais utile à visualiser sur wandb)\n",
        "cm = confusion_matrix(Y_test2, Y_pred2)\n",
        "wandb.log({\"confusion_matrix\": wandb.plot.confusion_matrix(probs=None, y_true=Y_test2, preds=Y_pred2, class_names=[\"0\",\"1\"])})\n",
        "\n",
        "wandb.finish()\n",
        "\n",
        "\n",
        "# Initialiser WandB pour Random Forest\n",
        "wandb.init(project=\"my-IA-project\", entity=\"hakimrouamba7-centralesup-lec\", name=\"random-forest\")\n",
        "config = wandb.config\n",
        "\n",
        "# Entraînement du modèle RandomForest\n",
        "rf_clf = RandomForestClassifier(random_state=42)\n",
        "rf_clf.fit(X_train2, Y_train2)\n",
        "Y_pred3 = rf_clf.predict(X_test2)\n",
        "\n",
        "# Log des métriques\n",
        "accuracy = accuracy_score(Y_test2, Y_pred3)\n",
        "precision = precision_score(Y_test2, Y_pred3)\n",
        "recall = recall_score(Y_test2, Y_pred3)\n",
        "f1 = f1_score(Y_test2, Y_pred3)\n",
        "\n",
        "wandb.log({\"accuracy\": accuracy, \"precision\": precision, \"recall\": recall, \"f1\": f1})\n",
        "\n",
        "# Matrice de confusion (optionnel, mais utile à visualiser sur wandb)\n",
        "cm = confusion_matrix(Y_test2, Y_pred3)\n",
        "wandb.log({\"confusion_matrix\": wandb.plot.confusion_matrix(probs=None, y_true=Y_test2, preds=Y_pred3, class_names=[\"0\",\"1\"])})\n",
        "\n",
        "wandb.finish()\n"
      ]
    }
  ],
  "metadata": {
    "colab": {
      "provenance": []
    },
    "kernelspec": {
      "display_name": "Python 3",
      "name": "python3"
    },
    "language_info": {
      "name": "python"
    }
  },
  "nbformat": 4,
  "nbformat_minor": 0
}
